{
 "cells": [
  {
   "cell_type": "code",
   "execution_count": null,
   "id": "d98f5bf4",
   "metadata": {},
   "outputs": [],
   "source": [
    "#learning python tutorials"
   ]
  },
  {
   "cell_type": "code",
   "execution_count": 1,
   "id": "5ceca09a",
   "metadata": {},
   "outputs": [
    {
     "name": "stdout",
     "output_type": "stream",
     "text": [
      "hello kelvin!\n"
     ]
    }
   ],
   "source": [
    "#comment in python\n",
    "#this is a comment\n",
    "\n",
    "print(\"hello kelvin!\")"
   ]
  },
  {
   "cell_type": "code",
   "execution_count": 2,
   "id": "58a243e8",
   "metadata": {},
   "outputs": [
    {
     "name": "stdout",
     "output_type": "stream",
     "text": [
      "Hello, kelvin!\n"
     ]
    }
   ],
   "source": [
    "print(\"Hello, kelvin!\")#this is a comment"
   ]
  },
  {
   "cell_type": "code",
   "execution_count": 3,
   "id": "d7223c08",
   "metadata": {},
   "outputs": [
    {
     "name": "stdout",
     "output_type": "stream",
     "text": [
      "Hello, world\n"
     ]
    }
   ],
   "source": [
    "#multiline comment\n",
    "#this is a comment\n",
    "#written in\n",
    "#just more than one line\n",
    "\n",
    "print(\"Hello, world\")"
   ]
  },
  {
   "cell_type": "code",
   "execution_count": 4,
   "id": "ff74f8a6",
   "metadata": {},
   "outputs": [
    {
     "name": "stdout",
     "output_type": "stream",
     "text": [
      "hello, world!\n"
     ]
    }
   ],
   "source": [
    "#you can use multiline string instead\n",
    "\"\"\"\n",
    "this is a \n",
    "comment written\n",
    "in just more\n",
    "than one line\n",
    "\"\"\"\n",
    "\n",
    "print(\"hello, world!\")"
   ]
  },
  {
   "cell_type": "code",
   "execution_count": 12,
   "id": "00061d8b",
   "metadata": {},
   "outputs": [
    {
     "name": "stdout",
     "output_type": "stream",
     "text": [
      "5 John\n"
     ]
    }
   ],
   "source": [
    "#python variables\n",
    "#we don't declare variables type in python\n",
    "\n",
    "x = 5\n",
    "y = \"John\"\n",
    "\n",
    "print(str(x) + \" \" + y)"
   ]
  },
  {
   "cell_type": "code",
   "execution_count": 13,
   "id": "b4ecbf08",
   "metadata": {},
   "outputs": [
    {
     "name": "stdout",
     "output_type": "stream",
     "text": [
      "sally\n"
     ]
    }
   ],
   "source": [
    "#variable can change type after they have been set\n",
    "\n",
    "x = 5\n",
    "x = \"sally\"\n",
    "\n",
    "print(x)"
   ]
  },
  {
   "cell_type": "code",
   "execution_count": 15,
   "id": "50c6a2f8",
   "metadata": {},
   "outputs": [
    {
     "name": "stdout",
     "output_type": "stream",
     "text": [
      "3\n",
      "3\n",
      "3.0\n"
     ]
    }
   ],
   "source": [
    "#type casting in python\n",
    "\n",
    "x = str(3) #x will be '3'\n",
    "y = int(3) #y will be 3\n",
    "z = float(3) #z will be 3.0\n",
    "\n",
    "print(x)\n",
    "print(y)\n",
    "print(z)"
   ]
  },
  {
   "cell_type": "code",
   "execution_count": 16,
   "id": "df9dd46d",
   "metadata": {},
   "outputs": [
    {
     "name": "stdout",
     "output_type": "stream",
     "text": [
      "<class 'int'>\n",
      "<class 'str'>\n"
     ]
    }
   ],
   "source": [
    "#get the type\n",
    "#use type() function\n",
    "\n",
    "x = 5\n",
    "y = \"5\"\n",
    "\n",
    "print(type(x))\n",
    "print(type(y))"
   ]
  },
  {
   "cell_type": "code",
   "execution_count": 17,
   "id": "954536c1",
   "metadata": {},
   "outputs": [
    {
     "name": "stdout",
     "output_type": "stream",
     "text": [
      "<class 'str'>\n",
      "<class 'str'>\n"
     ]
    }
   ],
   "source": [
    "#string variables can be declared using either double or single quotes\n",
    "\n",
    "x = \"john\"\n",
    "y = \"mwalimu\"\n",
    "\n",
    "print(type(x))\n",
    "print(type(y))"
   ]
  },
  {
   "cell_type": "code",
   "execution_count": 18,
   "id": "f8c8b68c",
   "metadata": {},
   "outputs": [
    {
     "name": "stdout",
     "output_type": "stream",
     "text": [
      "John\n",
      "10\n"
     ]
    }
   ],
   "source": [
    "#variable names are case sensitive\n",
    "\n",
    "A = \"John\"\n",
    "a = 10\n",
    "\n",
    "print(A)\n",
    "print(a)"
   ]
  },
  {
   "cell_type": "code",
   "execution_count": 21,
   "id": "dfbee9fa",
   "metadata": {},
   "outputs": [
    {
     "name": "stdout",
     "output_type": "stream",
     "text": [
      "kelvin\n"
     ]
    }
   ],
   "source": [
    "#illegal variable\n",
    "#my-var = 'kelvin'\n",
    "\n",
    "#print(my-var)\n",
    "#it should be an underscore instead of an hyphen like this\n",
    "\n",
    "#my_var\n",
    "my_var = 'kelvin'\n",
    "\n",
    "print(my_var)"
   ]
  },
  {
   "cell_type": "code",
   "execution_count": null,
   "id": "cab37bfb",
   "metadata": {},
   "outputs": [],
   "source": [
    "#multi word variable name\n",
    "\n",
    "#camel case\n",
    "#here each word, except the first, starts with a capital letter\n",
    "#mVariableName = 'John'\n",
    "\n",
    "#pascal case\n",
    "#here each word starts with a capital letter\n",
    "#MyVariableName = 'John'\n",
    "\n",
    "#snake case\n",
    "#here each word is separated by an underscore\n",
    "#my_variable_name = 'John' \n"
   ]
  },
  {
   "cell_type": "code",
   "execution_count": 22,
   "id": "0af40ab6",
   "metadata": {},
   "outputs": [
    {
     "name": "stdout",
     "output_type": "stream",
     "text": [
      "5\n",
      "7.0\n",
      "john\n"
     ]
    }
   ],
   "source": [
    "#many values to multiple variables in one line\n",
    "\n",
    "x,y,z = 5,7.0,'john'\n",
    "print(x)\n",
    "print(y)\n",
    "print(z)"
   ]
  },
  {
   "cell_type": "code",
   "execution_count": 23,
   "id": "4fdb7077",
   "metadata": {},
   "outputs": [
    {
     "name": "stdout",
     "output_type": "stream",
     "text": [
      "10\n",
      "10\n",
      "10\n"
     ]
    }
   ],
   "source": [
    "#one value to multiple variables\n",
    "\n",
    "x = y = z = 10\n",
    "\n",
    "print(x)\n",
    "print(y)\n",
    "print(z)"
   ]
  },
  {
   "cell_type": "code",
   "execution_count": 24,
   "id": "60df380f",
   "metadata": {},
   "outputs": [
    {
     "name": "stdout",
     "output_type": "stream",
     "text": [
      "mangoes\n",
      "Banana\n",
      "Apple\n"
     ]
    }
   ],
   "source": [
    "#unpack a collection\n",
    "\n",
    "fruits = [\"mangoes\",\"Banana\",\"Apple\"]\n",
    "a,b,c = fruits\n",
    "\n",
    "print(a)\n",
    "print(b)\n",
    "print(c)"
   ]
  },
  {
   "cell_type": "code",
   "execution_count": 26,
   "id": "eae7c79c",
   "metadata": {},
   "outputs": [
    {
     "name": "stdout",
     "output_type": "stream",
     "text": [
      "players in Group1  John & Kituku\n",
      "Players in Group2  Kisilu & Muli\n",
      "Players in Group3  Mutiso & Mutie\n"
     ]
    }
   ],
   "source": [
    "#still on unpacking\n",
    "\n",
    "Team1 = ['John','Kisilu','Mutiso']\n",
    "Team2 = ['Kituku','Muli','Mutie']\n",
    "\n",
    "a,b,c = Team1\n",
    "x,y,z = Team2\n",
    "\n",
    "print(\"players in Group1 \", a, \"&\",x)\n",
    "print(\"Players in Group2 \", b, \"&\",y)\n",
    "print(\"Players in Group3 \", c, \"&\",z)"
   ]
  },
  {
   "cell_type": "code",
   "execution_count": 28,
   "id": "75d956f1",
   "metadata": {},
   "outputs": [
    {
     "name": "stdout",
     "output_type": "stream",
     "text": [
      "john kisilu musili\n",
      "johnkisilumusili\n"
     ]
    }
   ],
   "source": [
    "#output variables using comma separation and plus sign\n",
    "\n",
    "x = 'john'\n",
    "y= 'kisilu'\n",
    "z = 'musili'\n",
    "\n",
    "print(x,y,z)\n",
    "print(x + y + z)"
   ]
  },
  {
   "cell_type": "code",
   "execution_count": 29,
   "id": "36b2fa97",
   "metadata": {},
   "outputs": [
    {
     "name": "stdout",
     "output_type": "stream",
     "text": [
      "15\n"
     ]
    }
   ],
   "source": [
    "#when you use + in numbers it will perform summation\n",
    "\n",
    "x = 10\n",
    "y = 5\n",
    "\n",
    "print(x + y)"
   ]
  },
  {
   "cell_type": "code",
   "execution_count": 32,
   "id": "a2c532aa",
   "metadata": {},
   "outputs": [
    {
     "ename": "TypeError",
     "evalue": "unsupported operand type(s) for +: 'int' and 'str'",
     "output_type": "error",
     "traceback": [
      "\u001b[1;31m---------------------------------------------------------------------------\u001b[0m",
      "\u001b[1;31mTypeError\u001b[0m                                 Traceback (most recent call last)",
      "Cell \u001b[1;32mIn[32], line 6\u001b[0m\n\u001b[0;32m      3\u001b[0m x \u001b[38;5;241m=\u001b[39m \u001b[38;5;241m10\u001b[39m\n\u001b[0;32m      4\u001b[0m y \u001b[38;5;241m=\u001b[39m \u001b[38;5;124m\"\u001b[39m\u001b[38;5;124m John\u001b[39m\u001b[38;5;124m\"\u001b[39m\n\u001b[1;32m----> 6\u001b[0m \u001b[38;5;28mprint\u001b[39m(x \u001b[38;5;241m+\u001b[39m y)\n",
      "\u001b[1;31mTypeError\u001b[0m: unsupported operand type(s) for +: 'int' and 'str'"
     ]
    }
   ],
   "source": [
    "#also when you use + in combining a string and a numebr it will return an error\n",
    "\n",
    "x = 10\n",
    "y = \" John\"\n",
    "\n",
    "print(x + y)"
   ]
  },
  {
   "cell_type": "code",
   "execution_count": 33,
   "id": "aca780cd",
   "metadata": {},
   "outputs": [
    {
     "name": "stdout",
     "output_type": "stream",
     "text": [
      "10 John\n"
     ]
    }
   ],
   "source": [
    "#instead type cast the number into string using str() function\n",
    "\n",
    "print(str(x) + y)"
   ]
  },
  {
   "cell_type": "code",
   "execution_count": 34,
   "id": "43ed0760",
   "metadata": {},
   "outputs": [
    {
     "name": "stdout",
     "output_type": "stream",
     "text": [
      "my name is  John\n"
     ]
    }
   ],
   "source": [
    "#global variables \n",
    "#they are created outside the function\n",
    "\n",
    "x = \"John\"\n",
    "\n",
    "def my_func():\n",
    "    \n",
    "    print(\"my name is \", x)\n",
    "\n",
    "my_func()"
   ]
  },
  {
   "cell_type": "code",
   "execution_count": 36,
   "id": "d3bdd9a4",
   "metadata": {},
   "outputs": [
    {
     "name": "stdout",
     "output_type": "stream",
     "text": [
      "Good morning  John\n",
      "Good morning  kelvin\n"
     ]
    }
   ],
   "source": [
    "#global and local variable\n",
    "\n",
    "x = \"kelvin\"\n",
    "\n",
    "def my_func():\n",
    "    \n",
    "    x = \"John\"\n",
    "    print(\"Good morning \", x)\n",
    "    \n",
    "my_func()\n",
    "\n",
    "print(\"Good morning \", x)"
   ]
  },
  {
   "cell_type": "code",
   "execution_count": 37,
   "id": "1af7a141",
   "metadata": {},
   "outputs": [
    {
     "name": "stdout",
     "output_type": "stream",
     "text": [
      "Mutiso\n",
      "My name is  Mutiso\n"
     ]
    }
   ],
   "source": [
    "#global keyword inside a function\n",
    "\n",
    "def my_func():\n",
    "    \n",
    "    global x\n",
    "    \n",
    "    x = \"Mutiso\"\n",
    "    \n",
    "    print(x)\n",
    "my_func()\n",
    "\n",
    "print(\"My name is \", x)"
   ]
  },
  {
   "cell_type": "code",
   "execution_count": 38,
   "id": "48c39a60",
   "metadata": {},
   "outputs": [
    {
     "name": "stdout",
     "output_type": "stream",
     "text": [
      "Guido\n",
      "How are you doing  Guido\n"
     ]
    }
   ],
   "source": [
    "#changing a value of a global variable inside a function\n",
    "\n",
    "x = \"Rossum\"\n",
    "\n",
    "def my_func():\n",
    "    \n",
    "    global x\n",
    "    \n",
    "    x = \"Guido\"\n",
    "    \n",
    "    print(x)\n",
    "\n",
    "my_func()\n",
    "\n",
    "print(\"How are you doing \", x)"
   ]
  },
  {
   "cell_type": "code",
   "execution_count": 39,
   "id": "b802f122",
   "metadata": {},
   "outputs": [
    {
     "name": "stdout",
     "output_type": "stream",
     "text": [
      "20\n"
     ]
    }
   ],
   "source": [
    "#return keyword in python\n",
    "\n",
    "def my_func(num1, num2):\n",
    "    \n",
    "    result = num1 * num2\n",
    "    \n",
    "    return result\n",
    "\n",
    "x = my_func(4,5)\n",
    "\n",
    "print(x)"
   ]
  },
  {
   "cell_type": "code",
   "execution_count": 41,
   "id": "0abc5e6a",
   "metadata": {},
   "outputs": [
    {
     "name": "stdout",
     "output_type": "stream",
     "text": [
      "40\n"
     ]
    }
   ],
   "source": [
    "#also it can be \n",
    "\n",
    "print(my_func(5,8))"
   ]
  },
  {
   "cell_type": "code",
   "execution_count": 42,
   "id": "5732a49d",
   "metadata": {},
   "outputs": [
    {
     "name": "stdout",
     "output_type": "stream",
     "text": [
      "54\n"
     ]
    }
   ],
   "source": [
    "#short format instead\n",
    "\n",
    "def my_func(num1,num2):\n",
    "    return num1 * num2\n",
    "\n",
    "y = my_func(9,6)\n",
    "\n",
    "print(y)"
   ]
  },
  {
   "cell_type": "code",
   "execution_count": 43,
   "id": "f23a8e8f",
   "metadata": {},
   "outputs": [
    {
     "name": "stdout",
     "output_type": "stream",
     "text": [
      "Hello\n",
      "5\n",
      "lo\n"
     ]
    }
   ],
   "source": [
    "#string in python\n",
    "\n",
    "a = \"Hello\"\n",
    "\n",
    "print(a)\n",
    "print(len(a))\n",
    "#slicing in string\n",
    "\n",
    "print(a[3:])"
   ]
  },
  {
   "cell_type": "code",
   "execution_count": 47,
   "id": "c240c78c",
   "metadata": {},
   "outputs": [
    {
     "name": "stdout",
     "output_type": "stream",
     "text": [
      "lo\n"
     ]
    }
   ],
   "source": [
    "print(a[-2:])"
   ]
  },
  {
   "cell_type": "code",
   "execution_count": 48,
   "id": "052fa96f",
   "metadata": {},
   "outputs": [
    {
     "name": "stdout",
     "output_type": "stream",
     "text": [
      "H\n",
      "e\n",
      "l\n",
      "l\n",
      "o\n",
      " \n",
      "e\n",
      "v\n",
      "e\n",
      "r\n",
      "y\n",
      "o\n",
      "n\n",
      "e\n"
     ]
    }
   ],
   "source": [
    "#loop through a string using for keyword\n",
    "\n",
    "y = \"Hello everyone\"\n",
    "\n",
    "for x in y:\n",
    "    print(x)"
   ]
  },
  {
   "cell_type": "code",
   "execution_count": 50,
   "id": "48e087be",
   "metadata": {},
   "outputs": [
    {
     "name": "stdout",
     "output_type": "stream",
     "text": [
      "s is present in  james mwako\n"
     ]
    }
   ],
   "source": [
    "#checking if string is present using in keyword\n",
    "\n",
    "x = \"james mwako\"\n",
    "\n",
    "if \"s\" in x:\n",
    "    \n",
    "    print(\"s is present in \",x)\n",
    "    \n",
    "    \n",
    "else:\n",
    "    \n",
    "    print(\"s is not present in \",x)"
   ]
  },
  {
   "cell_type": "code",
   "execution_count": 51,
   "id": "ea7f5131",
   "metadata": {},
   "outputs": [
    {
     "name": "stdout",
     "output_type": "stream",
     "text": [
      "m is not present in  kelvin\n"
     ]
    }
   ],
   "source": [
    "y = \"kelvin\"\n",
    "\n",
    "if \"m\" in y:\n",
    "    \n",
    "    print(\"m is present in \",y)\n",
    "    \n",
    "else:\n",
    "    \n",
    "    print(\"m is not present in \",y)"
   ]
  },
  {
   "cell_type": "code",
   "execution_count": 52,
   "id": "3d3d89b2",
   "metadata": {},
   "outputs": [
    {
     "name": "stdout",
     "output_type": "stream",
     "text": [
      "True\n"
     ]
    }
   ],
   "source": [
    "#check if string present using not in keyword\n",
    "\n",
    "z = \"cow\"\n",
    "\n",
    "if \"m\" not in z:\n",
    "    \n",
    "    print(True)\n",
    "else:\n",
    "    print(\"False\")"
   ]
  },
  {
   "cell_type": "code",
   "execution_count": 55,
   "id": "0bcb88ca",
   "metadata": {},
   "outputs": [
    {
     "name": "stdout",
     "output_type": "stream",
     "text": [
      "False\n",
      "True\n",
      "True\n",
      "False\n"
     ]
    }
   ],
   "source": [
    "x = \"python is a easy programming language\"\n",
    "\n",
    "print(\"java \" in x)\n",
    "print(\"python\" in x)\n",
    "print(\"java\" not in x)\n",
    "print(\"python\" not in x)"
   ]
  },
  {
   "cell_type": "code",
   "execution_count": 57,
   "id": "a824114d",
   "metadata": {},
   "outputs": [
    {
     "name": "stdout",
     "output_type": "stream",
     "text": [
      "MWAKO\n",
      "mwako\n"
     ]
    }
   ],
   "source": [
    "#modify strings in python\n",
    "\n",
    "x = \"mwako\"\n",
    "y = \"MWAKO\"\n",
    "z = \"KelvinMwako\"\n",
    "\n",
    "#to uppercase\n",
    "print(x.upper())# upper method return the string to upper case\n",
    "\n",
    "#to lowercase\n",
    "print(y.lower())# lower return the string to uppercase"
   ]
  },
  {
   "cell_type": "code",
   "execution_count": 60,
   "id": "895338f4",
   "metadata": {},
   "outputs": [
    {
     "name": "stdout",
     "output_type": "stream",
     "text": [
      "John Kisilu\n"
     ]
    }
   ],
   "source": [
    "#remove whitespace\n",
    "#whitespace is the space before or after actual text\n",
    "\n",
    "x = \" John Kisilu \" \n",
    "print(x.strip())# we use strip() method to remove white space in a text"
   ]
  },
  {
   "cell_type": "code",
   "execution_count": 61,
   "id": "8fe5f8d2",
   "metadata": {},
   "outputs": [
    {
     "name": "stdout",
     "output_type": "stream",
     "text": [
      "Hello, World!\n"
     ]
    }
   ],
   "source": [
    "#replacing an element in python using replace method\n",
    "\n",
    "y = \"Helo, World!\"\n",
    "print(y.replace(\"Helo\",\"Hello\"))"
   ]
  },
  {
   "cell_type": "code",
   "execution_count": 62,
   "id": "6090ac19",
   "metadata": {},
   "outputs": [
    {
     "name": "stdout",
     "output_type": "stream",
     "text": [
      "['Helo', ' World!']\n"
     ]
    }
   ],
   "source": [
    "#splitting string using split() method\n",
    "\n",
    "print(y.split(\",\"))"
   ]
  },
  {
   "cell_type": "code",
   "execution_count": 65,
   "id": "d64b7db1",
   "metadata": {},
   "outputs": [
    {
     "name": "stdout",
     "output_type": "stream",
     "text": [
      "kelvin Mwako\n"
     ]
    }
   ],
   "source": [
    "#string concantation use +\n",
    "x = \"kelvin\"\n",
    "y = \"Mwako\"\n",
    "\n",
    "print(x + \" \" +y)\n",
    "# \"\" is used for separation purpose"
   ]
  },
  {
   "cell_type": "code",
   "execution_count": 66,
   "id": "b67222b8",
   "metadata": {},
   "outputs": [
    {
     "name": "stdout",
     "output_type": "stream",
     "text": [
      "My name is Kelvin Mwako and I am 45 years old\n"
     ]
    }
   ],
   "source": [
    "#string formatting using format() method\n",
    "\n",
    "age = 45\n",
    "\n",
    "name = \"My name is Kelvin Mwako and I am {} years old\"\n",
    "\n",
    "print(name.format(age))"
   ]
  },
  {
   "cell_type": "code",
   "execution_count": 70,
   "id": "4570e8c9",
   "metadata": {},
   "outputs": [
    {
     "name": "stdout",
     "output_type": "stream",
     "text": [
      "In need of 5 bulls, with over 67 kgs and the price should not exceed 900.0 dollars\n"
     ]
    }
   ],
   "source": [
    "total = 5\n",
    "\n",
    "weight = 67\n",
    "\n",
    "price = 900.00\n",
    "\n",
    "animals = \"In need of {} bulls, with over {} kgs and the price should not exceed {} dollars\"\n",
    "\n",
    "print(animals.format(total,weight,price))\n"
   ]
  },
  {
   "cell_type": "code",
   "execution_count": 71,
   "id": "b83d432e",
   "metadata": {},
   "outputs": [
    {
     "name": "stdout",
     "output_type": "stream",
     "text": [
      "I have a total of 900.0 dollars and I want to buy 5 cows, weighing 67 kgs\n"
     ]
    }
   ],
   "source": [
    "#using indexing\n",
    "total = 5\n",
    "\n",
    "weight = 67\n",
    "\n",
    "price = 900.00\n",
    "\n",
    "bull = \"I have a total of {2} dollars and I want to buy {0} cows, weighing {1} kgs\"\n",
    "\n",
    "print(bull.format(total,weight,price))\n"
   ]
  },
  {
   "cell_type": "code",
   "execution_count": 72,
   "id": "8ec46d1f",
   "metadata": {},
   "outputs": [
    {
     "name": "stdout",
     "output_type": "stream",
     "text": [
      "People usually call me \"Kelvin\" and I usually like it that way\n"
     ]
    }
   ],
   "source": [
    "#escape characters in python\n",
    "#use backslash \n",
    "\n",
    "x = \"People usually call me \\\"Kelvin\\\" and I usually like it that way\"\n",
    "\n",
    "print(x)"
   ]
  },
  {
   "cell_type": "code",
   "execution_count": 73,
   "id": "24fca4ee",
   "metadata": {},
   "outputs": [
    {
     "name": "stdout",
     "output_type": "stream",
     "text": [
      "it's all right\n"
     ]
    }
   ],
   "source": [
    "#using single quote\n",
    "\n",
    "txt = 'it\\'s all right'\n",
    "\n",
    "print(txt)"
   ]
  },
  {
   "cell_type": "code",
   "execution_count": 75,
   "id": "6b665310",
   "metadata": {},
   "outputs": [
    {
     "name": "stdout",
     "output_type": "stream",
     "text": [
      "This will insert one \\ backslash\n"
     ]
    }
   ],
   "source": [
    "#double backslash\n",
    "\n",
    "txt = \"This will insert one \\\\ backslash\"\n",
    "\n",
    "print(txt)"
   ]
  },
  {
   "cell_type": "code",
   "execution_count": 77,
   "id": "1d8cb3f6",
   "metadata": {},
   "outputs": [
    {
     "name": "stdout",
     "output_type": "stream",
     "text": [
      "Hello \r",
      "world\n"
     ]
    }
   ],
   "source": [
    "#return carriage\n",
    "#use \\r\n",
    "\n",
    "txt = \"Hello\\rworld\"\n",
    "\n",
    "print(txt)"
   ]
  },
  {
   "cell_type": "code",
   "execution_count": 79,
   "id": "9d3de026",
   "metadata": {},
   "outputs": [
    {
     "name": "stdout",
     "output_type": "stream",
     "text": [
      "Hello\tWorld!\n"
     ]
    }
   ],
   "source": [
    "#tab in python\n",
    "#\\t\n",
    "\n",
    "txt = \"Hello\\tWorld!\"\n",
    "print(txt)"
   ]
  },
  {
   "cell_type": "code",
   "execution_count": 81,
   "id": "424f951e",
   "metadata": {},
   "outputs": [
    {
     "name": "stdout",
     "output_type": "stream",
     "text": [
      "Hello\bWorld!\n"
     ]
    }
   ],
   "source": [
    "#backspace\n",
    "#\\b\n",
    "txt = \"Hello\\bWorld!\"#o will be deleted\n",
    "print(txt)"
   ]
  },
  {
   "cell_type": "code",
   "execution_count": 1,
   "id": "c007abeb",
   "metadata": {},
   "outputs": [
    {
     "name": "stdout",
     "output_type": "stream",
     "text": [
      "True\n",
      "False\n",
      "False\n"
     ]
    }
   ],
   "source": [
    "#boolean functions\n",
    "#it returns true or false\n",
    "print(10>9)\n",
    "print(10 == 9)\n",
    "print(10 < 9)"
   ]
  },
  {
   "cell_type": "code",
   "execution_count": 2,
   "id": "d1413d79",
   "metadata": {},
   "outputs": [
    {
     "name": "stdout",
     "output_type": "stream",
     "text": [
      "A is greater than B\n"
     ]
    }
   ],
   "source": [
    "a = 400\n",
    "b = 45\n",
    "\n",
    "if a > b:\n",
    "    \n",
    "    print(\"A is greater than B\")\n",
    "else:\n",
    "    print(\"A is less than B\")"
   ]
  },
  {
   "cell_type": "code",
   "execution_count": 3,
   "id": "8dce7045",
   "metadata": {},
   "outputs": [
    {
     "name": "stdout",
     "output_type": "stream",
     "text": [
      "True\n",
      "True\n"
     ]
    }
   ],
   "source": [
    "#bool() function to evaluate variable\n",
    "\n",
    "print(bool(\"Hello\"))\n",
    "print(bool(15))"
   ]
  },
  {
   "cell_type": "code",
   "execution_count": 4,
   "id": "a69bc693",
   "metadata": {},
   "outputs": [
    {
     "name": "stdout",
     "output_type": "stream",
     "text": [
      "True\n",
      "True\n"
     ]
    }
   ],
   "source": [
    "x = \"Hello\"\n",
    "y = 15\n",
    "\n",
    "\n",
    "print(bool(x))\n",
    "print(bool(y))"
   ]
  },
  {
   "cell_type": "code",
   "execution_count": 6,
   "id": "5212c1c3",
   "metadata": {},
   "outputs": [
    {
     "name": "stdout",
     "output_type": "stream",
     "text": [
      "False\n",
      "False\n",
      "False\n",
      "False\n",
      "False\n",
      "False\n",
      "False\n"
     ]
    }
   ],
   "source": [
    "#Empty values are false\n",
    "#{}, (), [], number 0, also false, none, \"\".\n",
    "\n",
    "print(bool())\n",
    "print(bool({}))\n",
    "print(bool(\"\"))\n",
    "print(bool(0))\n",
    "print(bool([]))\n",
    "print(bool(None))\n",
    "print(bool(False))\n",
    "\n"
   ]
  },
  {
   "cell_type": "code",
   "execution_count": 7,
   "id": "1ff3f360",
   "metadata": {},
   "outputs": [
    {
     "name": "stdout",
     "output_type": "stream",
     "text": [
      "False\n"
     ]
    }
   ],
   "source": [
    "#A class of __len__ function returning 0 or False can print bool \n",
    "\n",
    "class MyClass:\n",
    "    \n",
    "    def __len__(self):\n",
    "        \n",
    "        return 0\n",
    "myObj = MyClass()\n",
    "print(bool(myObj))"
   ]
  },
  {
   "cell_type": "code",
   "execution_count": 8,
   "id": "987e6af2",
   "metadata": {},
   "outputs": [
    {
     "name": "stdout",
     "output_type": "stream",
     "text": [
      "True\n"
     ]
    }
   ],
   "source": [
    "#function can also return bool value\n",
    "\n",
    "def myfunction():\n",
    "    return True\n",
    "\n",
    "print(myfunction())"
   ]
  },
  {
   "cell_type": "code",
   "execution_count": 9,
   "id": "7fd21502",
   "metadata": {},
   "outputs": [
    {
     "name": "stdout",
     "output_type": "stream",
     "text": [
      "YES\n"
     ]
    }
   ],
   "source": [
    "def myfunc():\n",
    "    \n",
    "    return True\n",
    "\n",
    "if myfunc():\n",
    "    \n",
    "    print(\"YES\")\n",
    "    \n",
    "else:\n",
    "    \n",
    "    print(\"NO\")"
   ]
  },
  {
   "cell_type": "code",
   "execution_count": 10,
   "id": "6ba96d43",
   "metadata": {},
   "outputs": [
    {
     "name": "stdout",
     "output_type": "stream",
     "text": [
      "NO\n"
     ]
    }
   ],
   "source": [
    "def myfunc():\n",
    "    \n",
    "    return False\n",
    "\n",
    "if myfunc():\n",
    "    print(\"YES\")\n",
    "    \n",
    "else:\n",
    "    \n",
    "    print(\"NO\")"
   ]
  },
  {
   "cell_type": "code",
   "execution_count": 11,
   "id": "b63a5009",
   "metadata": {},
   "outputs": [
    {
     "name": "stdout",
     "output_type": "stream",
     "text": [
      "True\n"
     ]
    }
   ],
   "source": [
    "#built in function isinstance\n",
    "\n",
    "x = 234\n",
    "\n",
    "print(isinstance(x, int))"
   ]
  },
  {
   "cell_type": "code",
   "execution_count": 12,
   "id": "f2871817",
   "metadata": {},
   "outputs": [
    {
     "name": "stdout",
     "output_type": "stream",
     "text": [
      "65\n",
      "25\n",
      "900\n",
      "5\n",
      "2\n",
      "2.25\n",
      "1159445329576199417209625244140625\n"
     ]
    }
   ],
   "source": [
    "#python operators\n",
    "#starting with arithmetic operators\n",
    "x = 45\n",
    "y = 20\n",
    "\n",
    "print(x + y)#addition\n",
    "print(x - y)#substraction\n",
    "print(x * y)#multiplication\n",
    "print(x % y)#modulus\n",
    "print(x // y)#floor division\n",
    "print(x / y)#division\n",
    "print( x**y)#exponent"
   ]
  },
  {
   "cell_type": "code",
   "execution_count": 15,
   "id": "d84aefb7",
   "metadata": {},
   "outputs": [
    {
     "name": "stdout",
     "output_type": "stream",
     "text": [
      "8\n"
     ]
    }
   ],
   "source": [
    "#assignment operation\n",
    "\n",
    "x = 5\n",
    "\n",
    "x +=3\n",
    "\n",
    "print(x)"
   ]
  },
  {
   "cell_type": "code",
   "execution_count": 16,
   "id": "137bf434",
   "metadata": {},
   "outputs": [
    {
     "name": "stdout",
     "output_type": "stream",
     "text": [
      "2\n"
     ]
    }
   ],
   "source": [
    "x = 5\n",
    "\n",
    "x -= 3\n",
    "\n",
    "print(x)"
   ]
  },
  {
   "cell_type": "code",
   "execution_count": 18,
   "id": "a5dd5d90",
   "metadata": {},
   "outputs": [
    {
     "name": "stdout",
     "output_type": "stream",
     "text": [
      "2.5\n"
     ]
    }
   ],
   "source": [
    "x = 5\n",
    "\n",
    "x /= 2\n",
    "\n",
    "print(x)"
   ]
  },
  {
   "cell_type": "code",
   "execution_count": 19,
   "id": "b6c04f2e",
   "metadata": {},
   "outputs": [
    {
     "name": "stdout",
     "output_type": "stream",
     "text": [
      "10\n"
     ]
    }
   ],
   "source": [
    "x = 5\n",
    "\n",
    "x *=2\n",
    "print(x)"
   ]
  },
  {
   "cell_type": "code",
   "execution_count": 21,
   "id": "6c0ab2ca",
   "metadata": {},
   "outputs": [
    {
     "name": "stdout",
     "output_type": "stream",
     "text": [
      "False\n",
      "True\n",
      "False\n",
      "True\n",
      "False\n",
      "True\n"
     ]
    }
   ],
   "source": [
    "#python comparison operators\n",
    "\n",
    "x = 10\n",
    "y = 9\n",
    "\n",
    "print(x == y)\n",
    "print(x != y)\n",
    "print(x < y)\n",
    "print(x > y)\n",
    "print(x <= y)\n",
    "print(x >= y)"
   ]
  },
  {
   "cell_type": "code",
   "execution_count": 22,
   "id": "52f33a46",
   "metadata": {},
   "outputs": [
    {
     "name": "stdout",
     "output_type": "stream",
     "text": [
      "False\n",
      "True\n",
      "True\n",
      "True\n",
      "False\n",
      "False\n",
      "True\n"
     ]
    }
   ],
   "source": [
    "#logical operator\n",
    "\n",
    "x = 6\n",
    "\n",
    "#using and logical operator\n",
    "print(x < 5 and x > 4)\n",
    "print(x < 7 and x > 4)\n",
    "\n",
    "#using or logical operator\n",
    "print(x > 5 or x < 4)\n",
    "print(x > 5 or x < 7)\n",
    "print(x > 7 or x > 9)\n",
    "\n",
    "#using not operator\n",
    "print(not(x > 5 or x < 4))\n",
    "print(not(x < 5 and x > 4))\n"
   ]
  },
  {
   "cell_type": "code",
   "execution_count": 25,
   "id": "e2f85e39",
   "metadata": {},
   "outputs": [
    {
     "name": "stdout",
     "output_type": "stream",
     "text": [
      "True\n",
      "False\n",
      "True\n"
     ]
    }
   ],
   "source": [
    "#python operators compares if the object have the same object or same memory location but not if the are similar\n",
    "# we use is and is not\n",
    "x = ['banana','apple']\n",
    "y = ['banana','apple']\n",
    "\n",
    "z = y\n",
    "\n",
    "print(z is y)\n",
    "#outputs True because they are similar objects and same memory allocation\n",
    "\n",
    "print(x is y)\n",
    "#outputs False because x is not the same object as y, even if they have the same content\n",
    "\n",
    "print(x == y)\n",
    "#to demonstrate the difference betweeen \"is\" and \"==\": this comparison returns True because x is equal to y"
   ]
  },
  {
   "cell_type": "code",
   "execution_count": 29,
   "id": "a67e000b",
   "metadata": {},
   "outputs": [
    {
     "name": "stdout",
     "output_type": "stream",
     "text": [
      "2\n",
      "6\n",
      "0\n"
     ]
    }
   ],
   "source": [
    "#bitwise operator\n",
    "#used to compare binary numbers\n",
    "# &(And),|(OR),^(XOR),~(NOT),<<(Zero fill left shift),>>(signed fill right shift)\n",
    "\n",
    "x = 3\n",
    "y = 6\n",
    "\n",
    "print(x & y)\n",
    "print(6 & y)\n",
    "print(2 & 8)"
   ]
  },
  {
   "cell_type": "code",
   "execution_count": 28,
   "id": "3edb5b0f",
   "metadata": {},
   "outputs": [
    {
     "name": "stdout",
     "output_type": "stream",
     "text": [
      "6\n",
      "7\n"
     ]
    }
   ],
   "source": [
    "x = 4\n",
    "y =6\n",
    "\n",
    "#using OR (|) operator\n",
    "print(x | y)\n",
    "print(3 | x)"
   ]
  },
  {
   "cell_type": "code",
   "execution_count": 30,
   "id": "fb6ccf90",
   "metadata": {},
   "outputs": [
    {
     "name": "stdout",
     "output_type": "stream",
     "text": [
      "2\n",
      "7\n"
     ]
    }
   ],
   "source": [
    "x = 4\n",
    "y = 6\n",
    "\n",
    "#using XOR(^) operator\n",
    "\n",
    "print(x ^ y)\n",
    "print(3 ^ x)"
   ]
  },
  {
   "cell_type": "code",
   "execution_count": 32,
   "id": "d9e328b6",
   "metadata": {},
   "outputs": [
    {
     "name": "stdout",
     "output_type": "stream",
     "text": [
      "-5\n",
      "-7\n"
     ]
    }
   ],
   "source": [
    "x = 4\n",
    "y = 6\n",
    "\n",
    "#Not (~) operator\n",
    "print(~x)\n",
    "print(~y)"
   ]
  },
  {
   "cell_type": "code",
   "execution_count": 34,
   "id": "7929cded",
   "metadata": {},
   "outputs": [
    {
     "name": "stdout",
     "output_type": "stream",
     "text": [
      "16\n",
      "24\n"
     ]
    }
   ],
   "source": [
    "y = 4\n",
    "x = 2\n",
    "\n",
    "#zero fill left shift\n",
    "\n",
    "print(y << x)\n",
    "print(6 << x)"
   ]
  },
  {
   "cell_type": "code",
   "execution_count": 37,
   "id": "45ed0b04",
   "metadata": {},
   "outputs": [
    {
     "name": "stdout",
     "output_type": "stream",
     "text": [
      "1\n",
      "0\n",
      "2\n"
     ]
    }
   ],
   "source": [
    "x = 4\n",
    "y =2 \n",
    "\n",
    "# signed right shift\n",
    "print(x >> y)\n",
    "print(1 >> y)\n",
    "print(8 >> y)"
   ]
  },
  {
   "cell_type": "code",
   "execution_count": 38,
   "id": "4f2547df",
   "metadata": {},
   "outputs": [
    {
     "name": "stdout",
     "output_type": "stream",
     "text": [
      "['Apple', 'Banana', 'Mangoes', 'Orange']\n",
      "<class 'list'>\n"
     ]
    }
   ],
   "source": [
    "#list in python\n",
    "#list is used to store multiple items in a single variable\n",
    "\n",
    "#list is changeable, ordered and can store duplicate items in a single variable\n",
    "\n",
    "mylist = ['Apple','Banana','Mangoes','Orange']\n",
    "print(mylist)\n",
    "print(type(mylist))"
   ]
  },
  {
   "cell_type": "code",
   "execution_count": 39,
   "id": "2a517c55",
   "metadata": {},
   "outputs": [
    {
     "name": "stdout",
     "output_type": "stream",
     "text": [
      "['Apple', 'Banana', 'Mangoes', 'Orange', 'Banana', 'Mangoes']\n"
     ]
    }
   ],
   "source": [
    "#storing duplicate items in list\n",
    "mylist = ['Apple','Banana','Mangoes','Orange','Banana','Mangoes']\n",
    "print(mylist)"
   ]
  },
  {
   "cell_type": "code",
   "execution_count": 40,
   "id": "f658a6c1",
   "metadata": {},
   "outputs": [
    {
     "name": "stdout",
     "output_type": "stream",
     "text": [
      "6\n"
     ]
    }
   ],
   "source": [
    "#list length using built in len() function in python\n",
    "print(len(mylist))"
   ]
  },
  {
   "cell_type": "code",
   "execution_count": 41,
   "id": "799204d0",
   "metadata": {},
   "outputs": [
    {
     "name": "stdout",
     "output_type": "stream",
     "text": [
      "['Apple', 'ABC', True, 1, 4]\n"
     ]
    }
   ],
   "source": [
    "#list supports different data types e.g int, bool, string\n",
    "mylist = ['Apple','ABC',True,1,4]\n",
    "print(mylist)"
   ]
  },
  {
   "cell_type": "code",
   "execution_count": 42,
   "id": "70cac5ad",
   "metadata": {},
   "outputs": [
    {
     "name": "stdout",
     "output_type": "stream",
     "text": [
      "['Apple', 'Cows', 134, False]\n",
      "4\n",
      "<class 'list'>\n"
     ]
    }
   ],
   "source": [
    "#using list() constructor\n",
    "\n",
    "mylist = list(('Apple','Cows',134,False))\n",
    "print(mylist)\n",
    "print(len(mylist))\n",
    "print(type(mylist))"
   ]
  },
  {
   "cell_type": "code",
   "execution_count": 50,
   "id": "8bafef41",
   "metadata": {},
   "outputs": [
    {
     "name": "stdout",
     "output_type": "stream",
     "text": [
      "apple\n",
      "banana\n",
      "['apple', 'Passion']\n",
      "['apple', 'Passion']\n",
      "['Mangoes', 'apple', 'Passion']\n",
      "['apple', 'Passion', 'banana']\n"
     ]
    }
   ],
   "source": [
    "#python access items in list using indexing\n",
    "#indexing starts from index 0\n",
    "\n",
    "mylist = ['Mangoes','apple','Passion','banana']\n",
    "\n",
    "print(mylist[1])\n",
    "\n",
    "#negative index prints the last item\n",
    "print(mylist[-1])\n",
    "\n",
    "#range of index\n",
    "#the search will start from the first index included and the last item not included\n",
    "\n",
    "print(mylist[1:3])\n",
    "\n",
    "#negative indexing\n",
    "print(mylist[-3:-1])\n",
    "\n",
    "#by leaving the start value the range will automatically start from the first item\n",
    "\n",
    "print(mylist[:3])\n",
    "\n",
    "#by leaving the end value the range will go up to the last item\n",
    "print(mylist[1:])"
   ]
  },
  {
   "cell_type": "code",
   "execution_count": 52,
   "id": "1eeeb4ff",
   "metadata": {},
   "outputs": [
    {
     "name": "stdout",
     "output_type": "stream",
     "text": [
      "rooney is present in team\n"
     ]
    }
   ],
   "source": [
    "#checking if items exist in a list\n",
    "\n",
    "mylist = ['james','mutie','kilonzi','peter','shaw','lingard','rooney']\n",
    "\n",
    "if \"rooney\" in mylist:\n",
    "    \n",
    "    print(\"rooney is present in team\")\n",
    "    \n",
    "else:\n",
    "    \n",
    "    print(\"rooney is not present in the team but you can include him if you want\")"
   ]
  },
  {
   "cell_type": "code",
   "execution_count": 58,
   "id": "a1617e3b",
   "metadata": {},
   "outputs": [
    {
     "name": "stdout",
     "output_type": "stream",
     "text": [
      "pogba is not in the team, we need pogba in the team now\n",
      "the total of players is  8\n",
      "Hurray!, Pogba finnaly in the team\n"
     ]
    }
   ],
   "source": [
    "#again in checking items\n",
    "myteam = ['shaw','maguire','van persie','robben','messi','mbappe','rabiot']\n",
    "\n",
    "if 'pogba' in myteam:\n",
    "    \n",
    "    print(\"Pogba present in my team\")\n",
    "\n",
    "else:\n",
    "    \n",
    "    print(\"pogba is not in the team, we need pogba in the team now\")\n",
    "    \n",
    "    \n",
    "#adding pogba in the team right away\n",
    "myteam.append('pogba')\n",
    "\n",
    "print(\"the total of players is \",len(myteam))\n",
    "\n",
    "if 'pogba' not in myteam:\n",
    "    \n",
    "    print(\"You are not serious coach\")\n",
    "    \n",
    "else:\n",
    "    \n",
    "    print(\"Hurray!, Pogba finnaly in the team\")"
   ]
  },
  {
   "cell_type": "code",
   "execution_count": 59,
   "id": "f2adfc2f",
   "metadata": {},
   "outputs": [
    {
     "name": "stdout",
     "output_type": "stream",
     "text": [
      "['mo salah', 'david beckham', 'nemanja vidic', 'Ryan Giggs', 'cristiano Ronaldo', 'Rooney']\n"
     ]
    }
   ],
   "source": [
    "#change item list in list\n",
    "\n",
    "mylist = ['mo salah','david beckham','nemanja vidic','Ryan Giggs','cristiano Ronaldo','Messi']\n",
    "mylist[-1] = 'Rooney'\n",
    "\n",
    "print(mylist)"
   ]
  },
  {
   "cell_type": "code",
   "execution_count": 60,
   "id": "53a23d39",
   "metadata": {},
   "outputs": [
    {
     "name": "stdout",
     "output_type": "stream",
     "text": [
      "['mo salah', 'David Degea', 'Luke Shaw', 'Ryan Giggs', 'cristiano Ronaldo', 'Messi']\n"
     ]
    }
   ],
   "source": [
    "#change a range of item values in a list\n",
    "\n",
    "mylist = ['mo salah','david beckham','nemanja vidic','Ryan Giggs','cristiano Ronaldo','Messi']\n",
    "mylist[1:3] = ['David Degea','Luke Shaw']\n",
    "print(mylist)"
   ]
  },
  {
   "cell_type": "code",
   "execution_count": 61,
   "id": "80f9903c",
   "metadata": {},
   "outputs": [
    {
     "name": "stdout",
     "output_type": "stream",
     "text": [
      "['mo salah', 'David Degea', 'Luke Shaw', 'Greenwood', 'Maddison', 'Ryan Giggs', 'cristiano Ronaldo', 'Messi']\n",
      "8\n"
     ]
    }
   ],
   "source": [
    "#If you insert more items than you replace, the new items will be \n",
    "#inserted where you specified, and the remaining items will move accordingly:\n",
    "mylist = ['mo salah','david beckham','nemanja vidic','Ryan Giggs','cristiano Ronaldo','Messi']\n",
    "\n",
    "mylist[1:3]=['David Degea','Luke Shaw','Greenwood','Maddison']\n",
    "\n",
    "print(mylist)\n",
    "print(len(mylist))\n"
   ]
  },
  {
   "cell_type": "code",
   "execution_count": 63,
   "id": "77907cb0",
   "metadata": {},
   "outputs": [
    {
     "name": "stdout",
     "output_type": "stream",
     "text": [
      "['David Degea', 'Dalot']\n",
      "2\n"
     ]
    }
   ],
   "source": [
    "#If you insert less items than you replace, the new items will be \n",
    "#inserted where you specified, and the remaining items will move accordingly:\n",
    "\n",
    "mylist = ['David Degea','Luke Shaw','Greenwood']\n",
    "mylist[1:4] =['Dalot'] \n",
    "\n",
    "print(mylist)\n",
    "\n",
    "#print the length of the list\n",
    "print(len(mylist))"
   ]
  },
  {
   "cell_type": "code",
   "execution_count": 64,
   "id": "e64a2988",
   "metadata": {},
   "outputs": [
    {
     "name": "stdout",
     "output_type": "stream",
     "text": [
      "['David Degea', 'Luke Shaw', 'Greenwood', 'Onana']\n"
     ]
    }
   ],
   "source": [
    "#using insert method to insert items\n",
    "#insert() method insert item in specified index\n",
    "\n",
    "mylist = ['David Degea','Luke Shaw','Greenwood']\n",
    "mylist.insert(3,'Onana')\n",
    "print(mylist)"
   ]
  },
  {
   "cell_type": "code",
   "execution_count": 66,
   "id": "a3fdc3fd",
   "metadata": {},
   "outputs": [
    {
     "name": "stdout",
     "output_type": "stream",
     "text": [
      "['mangoes', 'apple', 'banana', 'orange']\n",
      "4\n",
      "['mangoes', 'passion', 'apple', 'banana', 'orange']\n",
      "5\n"
     ]
    }
   ],
   "source": [
    "#add list Items using append(), and insert method\n",
    "\n",
    "fruits = ['mangoes','apple','banana']\n",
    "fruits.append('orange')\n",
    "\n",
    "print(fruits)\n",
    "print(len(fruits))\n",
    "\n",
    "#using insert() method\n",
    "fruits.insert(1,'passion')\n",
    "print(fruits)\n",
    "print(len(fruits))"
   ]
  },
  {
   "cell_type": "code",
   "execution_count": 70,
   "id": "02901d0f",
   "metadata": {},
   "outputs": [
    {
     "name": "stdout",
     "output_type": "stream",
     "text": [
      "['mangoes', 'apple', 'banana', 'passion', 'orange', 'pawpaw']\n",
      "6\n",
      "mangoes\n",
      "apple\n",
      "banana\n",
      "passion\n",
      "orange\n",
      "pawpaw\n"
     ]
    }
   ],
   "source": [
    "#using extend method to extend a list using another list\n",
    "\n",
    "fruits1 = ['mangoes','apple','banana']\n",
    "fruits2 = ['passion','orange','pawpaw']\n",
    "\n",
    "fruits1.extend(fruits2)\n",
    "print(fruits1)\n",
    "print(len(fruits1))\n",
    "\n",
    "#looping the list\n",
    "for x in fruits1:\n",
    "    print(x)"
   ]
  },
  {
   "cell_type": "code",
   "execution_count": 71,
   "id": "f076b691",
   "metadata": {},
   "outputs": [
    {
     "name": "stdout",
     "output_type": "stream",
     "text": [
      "['mangoes', 'banana']\n",
      "2\n"
     ]
    }
   ],
   "source": [
    "#removing items from a list using remove(), pop() methods\n",
    "#using remove method, removes an item if it is present in the list\n",
    "\n",
    "fruits = ['mangoes','apple','banana']\n",
    "fruits.remove('apple')\n",
    "print(fruits)\n",
    "print(len(fruits))"
   ]
  },
  {
   "cell_type": "code",
   "execution_count": 74,
   "id": "e811f5ce",
   "metadata": {},
   "outputs": [
    {
     "name": "stdout",
     "output_type": "stream",
     "text": [
      "['mangoes', 'apple']\n",
      "['mangoes']\n"
     ]
    }
   ],
   "source": [
    "#using pop() method\n",
    "#it removes the last item in the list when position is not specified\n",
    "\n",
    "fruits = ['mangoes','apple','banana']\n",
    "fruits.pop()\n",
    "print(fruits)\n",
    "\n",
    "#pop with specified index\n",
    "fruits.pop(1)\n",
    "print(fruits)"
   ]
  },
  {
   "cell_type": "code",
   "execution_count": 77,
   "id": "571abdc2",
   "metadata": {},
   "outputs": [
    {
     "name": "stdout",
     "output_type": "stream",
     "text": [
      "['mangoes', 'apple']\n",
      "2\n"
     ]
    }
   ],
   "source": [
    "#deleting the list using del() function\n",
    "\n",
    "fruits = ['mangoes','apple','banana']\n",
    "\n",
    "del fruits[2]\n",
    "print(fruits)\n",
    "print(len(fruits))"
   ]
  },
  {
   "cell_type": "code",
   "execution_count": 78,
   "id": "5813c50c",
   "metadata": {},
   "outputs": [
    {
     "ename": "NameError",
     "evalue": "name 'fruits' is not defined",
     "output_type": "error",
     "traceback": [
      "\u001b[1;31m---------------------------------------------------------------------------\u001b[0m",
      "\u001b[1;31mNameError\u001b[0m                                 Traceback (most recent call last)",
      "Cell \u001b[1;32mIn[78], line 5\u001b[0m\n\u001b[0;32m      2\u001b[0m fruits \u001b[38;5;241m=\u001b[39m [\u001b[38;5;124m'\u001b[39m\u001b[38;5;124mmangoes\u001b[39m\u001b[38;5;124m'\u001b[39m,\u001b[38;5;124m'\u001b[39m\u001b[38;5;124mapple\u001b[39m\u001b[38;5;124m'\u001b[39m,\u001b[38;5;124m'\u001b[39m\u001b[38;5;124mbanana\u001b[39m\u001b[38;5;124m'\u001b[39m]\n\u001b[0;32m      4\u001b[0m \u001b[38;5;28;01mdel\u001b[39;00m fruits\n\u001b[1;32m----> 5\u001b[0m \u001b[38;5;28mprint\u001b[39m(fruits)\n",
      "\u001b[1;31mNameError\u001b[0m: name 'fruits' is not defined"
     ]
    }
   ],
   "source": [
    "#also we can delete the entire list using del keyword\n",
    "fruits = ['mangoes','apple','banana']\n",
    "\n",
    "del fruits\n",
    "print(fruits)\n",
    "#outputs fruits is not defined\n",
    "#this is because it has already been deleted"
   ]
  },
  {
   "cell_type": "code",
   "execution_count": 79,
   "id": "cc857304",
   "metadata": {},
   "outputs": [
    {
     "name": "stdout",
     "output_type": "stream",
     "text": [
      "[]\n",
      "0\n"
     ]
    }
   ],
   "source": [
    "#we can empty the list using clear method\n",
    "fruits = ['mangoes','apple','banana']\n",
    "fruits.clear()\n",
    "\n",
    "print(fruits)\n",
    "print(len(fruits))"
   ]
  },
  {
   "cell_type": "code",
   "execution_count": 80,
   "id": "0f899848",
   "metadata": {},
   "outputs": [
    {
     "name": "stdout",
     "output_type": "stream",
     "text": [
      "mangoes\n",
      "apple\n",
      "banana\n"
     ]
    }
   ],
   "source": [
    "#looping through list using for keyword\n",
    "\n",
    "fruits = ['mangoes','apple','banana']\n",
    "\n",
    "for x in fruits:\n",
    "    print(x)"
   ]
  },
  {
   "cell_type": "code",
   "execution_count": 83,
   "id": "7a19c85c",
   "metadata": {},
   "outputs": [
    {
     "name": "stdout",
     "output_type": "stream",
     "text": [
      "mangoes\n",
      "apple\n",
      "banana\n"
     ]
    }
   ],
   "source": [
    "#looping through index\n",
    "#using range() and len() methods to make suitable iterable\n",
    "\n",
    "\n",
    "fruits = ['mangoes','apple','banana']\n",
    "\n",
    "for x in range(len(fruits)):\n",
    "    \n",
    "\n",
    "    print(fruits[x])"
   ]
  },
  {
   "cell_type": "code",
   "execution_count": 85,
   "id": "6d301328",
   "metadata": {},
   "outputs": [
    {
     "name": "stdout",
     "output_type": "stream",
     "text": [
      "mangoes\n",
      "apple\n",
      "banana\n"
     ]
    }
   ],
   "source": [
    "#looping using while condition\n",
    "fruits = ['mangoes','apple','banana']\n",
    "x = 0\n",
    "\n",
    "while x < len(fruits):\n",
    "    \n",
    "    print(fruits[x])\n",
    "    \n",
    "    x = x + 1\n"
   ]
  },
  {
   "cell_type": "code",
   "execution_count": 86,
   "id": "0be1bd92",
   "metadata": {},
   "outputs": [
    {
     "name": "stdout",
     "output_type": "stream",
     "text": [
      "mangoes\n",
      "apple\n",
      "banana\n"
     ]
    },
    {
     "data": {
      "text/plain": [
       "[None, None, None]"
      ]
     },
     "execution_count": 86,
     "metadata": {},
     "output_type": "execute_result"
    }
   ],
   "source": [
    "#looping using list comprehension\n",
    "#A short hand for for loop which prints all the items\n",
    "\n",
    "fruits = ['mangoes','apple','banana']\n",
    "\n",
    "[print(x) for x in fruits]"
   ]
  },
  {
   "cell_type": "code",
   "execution_count": 88,
   "id": "d9c9222b",
   "metadata": {},
   "outputs": [
    {
     "name": "stdout",
     "output_type": "stream",
     "text": [
      "mangoes\n",
      "apple\n",
      "banana\n",
      "['mangoes', 'apple', 'banana']\n"
     ]
    }
   ],
   "source": [
    "fruits = ['mangoes','apple','banana']\n",
    "newlist = []\n",
    "\n",
    "for x in fruits:\n",
    "    \n",
    "    if \"a\" in x:\n",
    "        print(x)\n",
    "        newlist.append(x)\n",
    "        \n",
    "print(newlist)"
   ]
  },
  {
   "cell_type": "code",
   "execution_count": 89,
   "id": "f5c9638f",
   "metadata": {},
   "outputs": [
    {
     "name": "stdout",
     "output_type": "stream",
     "text": [
      "['mangoes', 'apple', 'banana']\n"
     ]
    }
   ],
   "source": [
    "#another example using  a single line\n",
    "\n",
    "fruits = ['mangoes','apple','banana']\n",
    "\n",
    "\n",
    "newlist = [x for x in fruits if \"a\" in x]\n",
    "\n",
    "print(newlist)"
   ]
  },
  {
   "cell_type": "code",
   "execution_count": 90,
   "id": "cefafd99",
   "metadata": {},
   "outputs": [
    {
     "name": "stdout",
     "output_type": "stream",
     "text": [
      "['mangoes', 'banana']\n"
     ]
    }
   ],
   "source": [
    "#using != condition\n",
    "\n",
    "fruits = ['mangoes','apple','banana']\n",
    "\n",
    "newlist = [x for x in fruits if x != 'apple']#it pop out the apple item if present in the list\n",
    "\n",
    "print(newlist)"
   ]
  },
  {
   "cell_type": "code",
   "execution_count": 91,
   "id": "6e920e70",
   "metadata": {},
   "outputs": [
    {
     "name": "stdout",
     "output_type": "stream",
     "text": [
      "['mangoes', 'apple', 'banana']\n"
     ]
    }
   ],
   "source": [
    "fruits = ['mangoes','apple','banana']\n",
    "\n",
    "newlist = [x for x in fruits]\n",
    "\n",
    "print(newlist)"
   ]
  },
  {
   "cell_type": "code",
   "execution_count": 92,
   "id": "d27292f1",
   "metadata": {},
   "outputs": [
    {
     "name": "stdout",
     "output_type": "stream",
     "text": [
      "[0, 1, 2, 3, 4, 5, 6, 7, 8, 9]\n"
     ]
    }
   ],
   "source": [
    "#we can also use for range() method \n",
    "\n",
    "newlist = [x for x in range(10)]\n",
    "print(newlist)"
   ]
  },
  {
   "cell_type": "code",
   "execution_count": 93,
   "id": "d5325aa2",
   "metadata": {},
   "outputs": [
    {
     "name": "stdout",
     "output_type": "stream",
     "text": [
      "[0, 1, 2, 3, 4]\n"
     ]
    }
   ],
   "source": [
    "#accepting only numbers lower than 5\n",
    "\n",
    "newline = [x for x in range(10) if x < 5]\n",
    "\n",
    "print(newline)"
   ]
  },
  {
   "cell_type": "code",
   "execution_count": 95,
   "id": "412b0b27",
   "metadata": {},
   "outputs": [
    {
     "name": "stdout",
     "output_type": "stream",
     "text": [
      "['MANGOES', 'APPLE', 'BANANA']\n"
     ]
    }
   ],
   "source": [
    "#set the new list into upper case\n",
    "\n",
    "newlist = [x.upper() for x in fruits]\n",
    "\n",
    "print(newlist)"
   ]
  },
  {
   "cell_type": "code",
   "execution_count": 98,
   "id": "8c954b70",
   "metadata": {},
   "outputs": [
    {
     "name": "stdout",
     "output_type": "stream",
     "text": [
      "['Hello', 'Hello', 'Hello']\n"
     ]
    }
   ],
   "source": [
    "#set all the values in the new list to Hello\n",
    "\n",
    "fruits = ['mangoes','apple','banana']\n",
    "\n",
    "newlist = [\"Hello\" for x in fruits]\n",
    "\n",
    "print(newlist)"
   ]
  },
  {
   "cell_type": "code",
   "execution_count": 99,
   "id": "3819d06f",
   "metadata": {},
   "outputs": [
    {
     "name": "stdout",
     "output_type": "stream",
     "text": [
      "['apple', 'banana', 'mangoes']\n"
     ]
    }
   ],
   "source": [
    "#sorting the list alphanumerically using sort() method\n",
    "#it sort in ascending order\n",
    "\n",
    "fruits = ['mangoes','apple','banana']\n",
    "fruits.sort()\n",
    "\n",
    "print(fruits)"
   ]
  },
  {
   "cell_type": "code",
   "execution_count": 100,
   "id": "4b175456",
   "metadata": {},
   "outputs": [
    {
     "name": "stdout",
     "output_type": "stream",
     "text": [
      "[23, 45, 56, 58, 78, 100]\n"
     ]
    }
   ],
   "source": [
    "#example 2 using numbers\n",
    "\n",
    "numbers = [100,23,56,78,58,45]\n",
    "\n",
    "numbers.sort()\n",
    "print(numbers)"
   ]
  },
  {
   "cell_type": "code",
   "execution_count": 101,
   "id": "2128e5ee",
   "metadata": {},
   "outputs": [
    {
     "name": "stdout",
     "output_type": "stream",
     "text": [
      "['mangoes', 'banana', 'apple']\n"
     ]
    }
   ],
   "source": [
    "#sorting the list in desceding order we use keyword argument reverse = True\n",
    "\n",
    "fruits = ['mangoes','apple','banana']\n",
    "\n",
    "fruits.sort(reverse = True)\n",
    "\n",
    "print(fruits)"
   ]
  },
  {
   "cell_type": "code",
   "execution_count": 102,
   "id": "d60c6a7b",
   "metadata": {},
   "outputs": [
    {
     "name": "stdout",
     "output_type": "stream",
     "text": [
      "[100, 78, 58, 56, 45, 23]\n"
     ]
    }
   ],
   "source": [
    "numbers = [100,23,56,78,58,45]\n",
    "\n",
    "numbers.sort(reverse = True)\n",
    "print(numbers)"
   ]
  },
  {
   "cell_type": "code",
   "execution_count": 103,
   "id": "4c45e8c4",
   "metadata": {},
   "outputs": [
    {
     "name": "stdout",
     "output_type": "stream",
     "text": [
      "['banana', 'cherry', 'Kiwi', 'Orange']\n"
     ]
    }
   ],
   "source": [
    "#use str.lower key to sort case insensitive list\n",
    "\n",
    "thislist = [\"banana\", \"Orange\", \"Kiwi\", \"cherry\"]\n",
    "\n",
    "thislist.sort(key = str.lower)\n",
    "print(thislist)"
   ]
  },
  {
   "cell_type": "code",
   "execution_count": 104,
   "id": "8d33e2c0",
   "metadata": {},
   "outputs": [
    {
     "name": "stdout",
     "output_type": "stream",
     "text": [
      "['cherry', 'Kiwi', 'Orange', 'banana']\n"
     ]
    }
   ],
   "source": [
    "#reversing the list irregardless of the order\n",
    "\n",
    "thislist = [\"banana\", \"Orange\", \"Kiwi\", \"cherry\"]\n",
    "thislist.reverse()\n",
    "print(thislist)"
   ]
  },
  {
   "cell_type": "code",
   "execution_count": 110,
   "id": "ddb49335",
   "metadata": {},
   "outputs": [
    {
     "name": "stdout",
     "output_type": "stream",
     "text": [
      "['orange', 'banana', 'mangoes', 'cherry']\n",
      "['orange', 'banana', 'mangoes', 'cherry']\n",
      "['orange', 'banana', 'mangoes', 'cherry', 'apple']\n"
     ]
    }
   ],
   "source": [
    "#copying a list using a copy() method\n",
    "\n",
    "fruits1 = ['orange','banana','mangoes','cherry']\n",
    "fruits2  = list.copy(fruits1)\n",
    "\n",
    "print(fruits2)\n",
    "\n",
    "fruits3 = fruits2.copy()\n",
    "print(fruits3)\n",
    "fruits3.append(\"apple\")\n",
    "\n",
    "#also we can use list function like this\n",
    "\n",
    "fruits4 = list(fruits3)\n",
    "print(fruits4)"
   ]
  },
  {
   "cell_type": "code",
   "execution_count": 111,
   "id": "65528201",
   "metadata": {},
   "outputs": [
    {
     "name": "stdout",
     "output_type": "stream",
     "text": [
      "['a,', 'b', 'c', 'd', 1, 2, 3, 4, 5, 6, 7, 8, 9]\n"
     ]
    }
   ],
   "source": [
    "#joining lists\n",
    "#we can use + operator\n",
    "\n",
    "list1 = ['a,','b','c','d']\n",
    "list2 = [1,2,3,4,5,6,7,8,9]\n",
    "\n",
    "list3 = list1 + list2\n",
    "\n",
    "print(list3)"
   ]
  },
  {
   "cell_type": "code",
   "execution_count": 112,
   "id": "a69fed2c",
   "metadata": {},
   "outputs": [
    {
     "name": "stdout",
     "output_type": "stream",
     "text": [
      "[1, 2, 3, 4, 5, 6, 7, 8, 9, 'a,', 'b', 'c', 'd']\n"
     ]
    }
   ],
   "source": [
    "#another way is appending all the items from list1 to list2\n",
    "\n",
    "list1 = ['a,','b','c','d']\n",
    "list2 = [1,2,3,4,5,6,7,8,9]\n",
    "\n",
    "for x in list1:\n",
    "    \n",
    "    list2.append(x)\n",
    "\n",
    "print(list2)"
   ]
  },
  {
   "cell_type": "code",
   "execution_count": 113,
   "id": "00815627",
   "metadata": {},
   "outputs": [
    {
     "name": "stdout",
     "output_type": "stream",
     "text": [
      "['a,', 'b', 'c', 'd', 1, 2, 3, 4, 5, 6, 7, 8, 9]\n"
     ]
    }
   ],
   "source": [
    "#using extend method to add list2 at the end of list1\n",
    "\n",
    "\n",
    "list1 = ['a,','b','c','d']\n",
    "list2 = [1,2,3,4,5,6,7,8,9]\n",
    "\n",
    "list1.extend(list2)\n",
    "\n",
    "print(list1)"
   ]
  },
  {
   "cell_type": "code",
   "execution_count": 2,
   "id": "52727b39",
   "metadata": {},
   "outputs": [
    {
     "name": "stdout",
     "output_type": "stream",
     "text": [
      "('banana', 'mangoes', 'apple', 'pawpaw')\n",
      "<class 'tuple'>\n"
     ]
    }
   ],
   "source": [
    "#python tuples\n",
    "#tuples are collection of items indexed,ordered and immutable\n",
    "#python can contain duplicate items\n",
    "\n",
    "mylist = (\"banana\",\"mangoes\",\"apple\",\"pawpaw\")\n",
    "print(mylist)\n",
    "print(type(mylist))"
   ]
  },
  {
   "cell_type": "code",
   "execution_count": 3,
   "id": "c8569879",
   "metadata": {},
   "outputs": [
    {
     "name": "stdout",
     "output_type": "stream",
     "text": [
      "('banana', 'cherry', 'mangoes', 'banana', 'cherry')\n",
      "5\n",
      "<class 'tuple'>\n"
     ]
    }
   ],
   "source": [
    "#tuple having duplicte values\n",
    "\n",
    "mylist = (\"banana\",\"cherry\",\"mangoes\",\"banana\",\"cherry\")\n",
    "\n",
    "print(mylist)\n",
    "print(len(mylist))\n",
    "print(type(mylist))"
   ]
  },
  {
   "cell_type": "code",
   "execution_count": 7,
   "id": "00691d34",
   "metadata": {},
   "outputs": [
    {
     "name": "stdout",
     "output_type": "stream",
     "text": [
      "('apple',)\n",
      "<class 'tuple'>\n",
      "\n",
      "\n",
      "<class 'str'>\n"
     ]
    }
   ],
   "source": [
    "#creating tuple with one item\n",
    "#you must put a comma at the end of the item, otherwise tuple will not recognize it as a tuple\n",
    "\n",
    "mylist = (\"apple\",)\n",
    "print(mylist)\n",
    "print(type(mylist))\n",
    "print(\"\\n\")\n",
    "\n",
    "#not a tuple\n",
    "list1 = (\"apple\")\n",
    "print(type(list1))#it will output class string"
   ]
  },
  {
   "cell_type": "code",
   "execution_count": 8,
   "id": "4ea5c263",
   "metadata": {},
   "outputs": [
    {
     "name": "stdout",
     "output_type": "stream",
     "text": [
      "('banana', 'apple', 'mangoes', 'cherry')\n",
      "(1, 2, 3, 4, 5, 6, 7, 8)\n",
      "(True, False, True)\n"
     ]
    }
   ],
   "source": [
    "#tuple data item\n",
    "#tuple can be of any data item\n",
    "\n",
    "tuple1 = (\"banana\",\"apple\",\"mangoes\",\"cherry\")\n",
    "tuple2 = (1,2,3,4,5,6,7,8)\n",
    "tuple3 = (True,False,True)\n",
    "\n",
    "print(tuple1)\n",
    "print(tuple2)\n",
    "print(tuple3)"
   ]
  },
  {
   "cell_type": "code",
   "execution_count": 9,
   "id": "f135e0de",
   "metadata": {},
   "outputs": [
    {
     "name": "stdout",
     "output_type": "stream",
     "text": [
      "<class 'tuple'>\n"
     ]
    }
   ],
   "source": [
    "#tuple constructor tuple()\n",
    "#it is possible to use tuple constructor\n",
    "\n",
    "mylist = tuple((\"banana\",\"apple\",\"cherry\"))\n",
    "\n",
    "print(type(mylist))\n"
   ]
  },
  {
   "cell_type": "code",
   "execution_count": 10,
   "id": "8b9ef87f",
   "metadata": {},
   "outputs": [
    {
     "name": "stdout",
     "output_type": "stream",
     "text": [
      "apple\n"
     ]
    }
   ],
   "source": [
    "#accessing tuples using indexing\n",
    "mylist = (\"banana\",\"apple\",\"mangoes\",\"cherry\")\n",
    "\n",
    "print(mylist[1])"
   ]
  },
  {
   "cell_type": "code",
   "execution_count": 12,
   "id": "ca32a8a7",
   "metadata": {},
   "outputs": [
    {
     "name": "stdout",
     "output_type": "stream",
     "text": [
      "cherry\n"
     ]
    }
   ],
   "source": [
    "#using negative indexing\n",
    "\n",
    "mylist = (\"banana\",\"apple\",\"mangoes\",\"cherry\")\n",
    "\n",
    "print(mylist[-1])"
   ]
  },
  {
   "cell_type": "code",
   "execution_count": 14,
   "id": "c9f2f405",
   "metadata": {},
   "outputs": [
    {
     "name": "stdout",
     "output_type": "stream",
     "text": [
      "('apple', 'mangoes')\n",
      "('banana', 'apple', 'mangoes')\n",
      "('banana', 'apple', 'mangoes')\n",
      "('apple', 'mangoes', 'cherry')\n"
     ]
    }
   ],
   "source": [
    "#range in tuples\n",
    "#it works the same as in lists\n",
    "\n",
    "mylist = (\"banana\",\"apple\",\"mangoes\",\"cherry\")\n",
    "\n",
    "print(mylist[-3:-1])\n",
    "print(mylist[0:3])\n",
    "print(mylist[:3])\n",
    "print(mylist[1:])"
   ]
  },
  {
   "cell_type": "code",
   "execution_count": 15,
   "id": "dd983bfd",
   "metadata": {},
   "outputs": [
    {
     "name": "stdout",
     "output_type": "stream",
     "text": [
      "There is apple in my list\n"
     ]
    }
   ],
   "source": [
    "#checking if items exist\n",
    "mylist = (\"banana\",\"apple\",\"mangoes\",\"cherry\")\n",
    "\n",
    "if \"apple\" in mylist:\n",
    "    \n",
    "    print(\"There is apple in my list\")\n",
    "\n",
    "else:\n",
    "    \n",
    "    print(\"Apple is not present in my list\")\n",
    "    "
   ]
  },
  {
   "cell_type": "code",
   "execution_count": 16,
   "id": "0914d005",
   "metadata": {},
   "outputs": [
    {
     "name": "stdout",
     "output_type": "stream",
     "text": [
      "Pawpaw is not present in my list\n"
     ]
    }
   ],
   "source": [
    "mylist = (\"banana\",\"apple\",\"mangoes\",\"cherry\")\n",
    "\n",
    "if \"pawpaw\" in mylist:\n",
    "    \n",
    "    print(\"There is pawpaw in my list\")\n",
    "\n",
    "else:\n",
    "    \n",
    "    print(\"Pawpaw is not present in my list\")"
   ]
  },
  {
   "cell_type": "code",
   "execution_count": 17,
   "id": "3a29269d",
   "metadata": {},
   "outputs": [
    {
     "name": "stdout",
     "output_type": "stream",
     "text": [
      "['mangoes', 'cherry', 'banana', 'apple']\n"
     ]
    }
   ],
   "source": [
    "#change tuple values\n",
    "#tuples are unchangeable(immutable)\n",
    "#but there is work around you can change it into list then back to tuple\n",
    "\n",
    "x = (\"mangoes\",\"pawpaw\",\"banana\",\"apple\")\n",
    "y = list(x)\n",
    "\n",
    "y[1] = \"cherry\"\n",
    "\n",
    "x = tuple(y)\n",
    "\n",
    "print(y)"
   ]
  },
  {
   "cell_type": "code",
   "execution_count": 18,
   "id": "94794e64",
   "metadata": {},
   "outputs": [
    {
     "name": "stdout",
     "output_type": "stream",
     "text": [
      "('cherry', 'pawpaw', 'strawberries', 'banana', 'mangoes')\n",
      "<class 'tuple'>\n"
     ]
    }
   ],
   "source": [
    "#adding items to tuple\n",
    "#still tuple is immutable and you cannot add an item, instead convert it into list and use append() to add an item\n",
    "\n",
    "fruits = (\"cherry\",\"pawpaw\",\"strawberries\",\"banana\")\n",
    "\n",
    "fruits1 = list(fruits)\n",
    "\n",
    "fruits1.append(\"mangoes\")\n",
    "\n",
    "fruits = tuple(fruits1)\n",
    "\n",
    "print(fruits)\n",
    "print(type(fruits))"
   ]
  },
  {
   "cell_type": "code",
   "execution_count": 19,
   "id": "23448e22",
   "metadata": {},
   "outputs": [
    {
     "name": "stdout",
     "output_type": "stream",
     "text": [
      "('banana', 'mangoes', 'apple', 'cherry')\n"
     ]
    }
   ],
   "source": [
    "#you can add tuple to tuple instead\n",
    "\n",
    "fruits = (\"banana\",\"mangoes\",\"apple\")\n",
    "fruits1 = (\"cherry\",)\n",
    "\n",
    "fruits += fruits1\n",
    "\n",
    "print(fruits)"
   ]
  },
  {
   "cell_type": "code",
   "execution_count": 20,
   "id": "e1d3716f",
   "metadata": {},
   "outputs": [
    {
     "name": "stdout",
     "output_type": "stream",
     "text": [
      "['banana', 'mangoes']\n"
     ]
    }
   ],
   "source": [
    "#remove items from tuple\n",
    "#still tuple is immutable you cannot remove items, instead convert into list and use remove() method\n",
    "\n",
    "fruits = (\"banana\",\"apple\",\"mangoes\")\n",
    "\n",
    "y = list(fruits)\n",
    "y.remove(\"apple\")\n",
    "\n",
    "fruits = tuple(y)\n",
    "\n",
    "print(y)"
   ]
  },
  {
   "cell_type": "code",
   "execution_count": 21,
   "id": "a060e0e3",
   "metadata": {},
   "outputs": [
    {
     "ename": "NameError",
     "evalue": "name 'fruits' is not defined",
     "output_type": "error",
     "traceback": [
      "\u001b[1;31m---------------------------------------------------------------------------\u001b[0m",
      "\u001b[1;31mNameError\u001b[0m                                 Traceback (most recent call last)",
      "Cell \u001b[1;32mIn[21], line 7\u001b[0m\n\u001b[0;32m      3\u001b[0m fruits \u001b[38;5;241m=\u001b[39m (\u001b[38;5;124m\"\u001b[39m\u001b[38;5;124mapple\u001b[39m\u001b[38;5;124m\"\u001b[39m,\u001b[38;5;124m\"\u001b[39m\u001b[38;5;124mmangoes\u001b[39m\u001b[38;5;124m\"\u001b[39m,\u001b[38;5;124m\"\u001b[39m\u001b[38;5;124mbanana\u001b[39m\u001b[38;5;124m\"\u001b[39m,\u001b[38;5;124m\"\u001b[39m\u001b[38;5;124mcherry\u001b[39m\u001b[38;5;124m\"\u001b[39m)\n\u001b[0;32m      5\u001b[0m \u001b[38;5;28;01mdel\u001b[39;00m fruits\n\u001b[1;32m----> 7\u001b[0m \u001b[38;5;28mprint\u001b[39m(fruits)\n",
      "\u001b[1;31mNameError\u001b[0m: name 'fruits' is not defined"
     ]
    }
   ],
   "source": [
    "#deleting tuple completely use del keyword\n",
    "\n",
    "fruits = (\"apple\",\"mangoes\",\"banana\",\"cherry\")\n",
    "\n",
    "del fruits\n",
    "\n",
    "print(fruits)"
   ]
  },
  {
   "cell_type": "code",
   "execution_count": 22,
   "id": "fd1401b8",
   "metadata": {},
   "outputs": [
    {
     "name": "stdout",
     "output_type": "stream",
     "text": [
      "apple\n",
      "cherry\n",
      "banana\n",
      "<class 'tuple'>\n"
     ]
    }
   ],
   "source": [
    "#unpacking a tuple\n",
    "\n",
    "fruits = (\"apple\",\"cherry\",\"banana\")\n",
    "\n",
    "x,y,z = fruits\n",
    "\n",
    "print(x)\n",
    "print(y)\n",
    "print(z)\n",
    "print(type(fruits))"
   ]
  },
  {
   "cell_type": "code",
   "execution_count": 23,
   "id": "6de4244a",
   "metadata": {},
   "outputs": [
    {
     "name": "stdout",
     "output_type": "stream",
     "text": [
      "apple\n",
      "mangoes\n",
      "['banana', 'pawpaw', 'cherry']\n"
     ]
    }
   ],
   "source": [
    "#using asterick to collect the remaining items as a list\n",
    "\n",
    "fruits = (\"apple\",\"mangoes\",\"banana\",\"pawpaw\",\"cherry\")\n",
    "\n",
    "x,y,*z = fruits\n",
    "\n",
    "print(x)\n",
    "print(y)\n",
    "print(z)"
   ]
  },
  {
   "cell_type": "code",
   "execution_count": 24,
   "id": "98ea0e2c",
   "metadata": {},
   "outputs": [
    {
     "name": "stdout",
     "output_type": "stream",
     "text": [
      "apple\n",
      "['mangoes', 'banana', 'pawpaw']\n",
      "cherry\n"
     ]
    }
   ],
   "source": [
    "fruits = (\"apple\",\"mangoes\",\"banana\",\"pawpaw\",\"cherry\")\n",
    "\n",
    "x,*y,z = fruits\n",
    "\n",
    "print(x)\n",
    "print(y)\n",
    "print(z)"
   ]
  },
  {
   "cell_type": "code",
   "execution_count": 25,
   "id": "e88a5130",
   "metadata": {},
   "outputs": [
    {
     "name": "stdout",
     "output_type": "stream",
     "text": [
      "apple\n",
      "mangoes\n",
      "banana\n",
      "cherry\n",
      "pawpaw\n"
     ]
    }
   ],
   "source": [
    "#loop through a tuple\n",
    "\n",
    "fruits = (\"apple\",\"mangoes\",\"banana\",\"cherry\",\"pawpaw\")\n",
    "\n",
    "for x in fruits:\n",
    "    \n",
    "    print(x)"
   ]
  },
  {
   "cell_type": "code",
   "execution_count": 28,
   "id": "bacef7a1",
   "metadata": {},
   "outputs": [
    {
     "name": "stdout",
     "output_type": "stream",
     "text": [
      "apple\n",
      "mangoes\n",
      "banana\n",
      "cherry\n",
      "pawpaw\n"
     ]
    }
   ],
   "source": [
    "#looping using range() and len() methods\n",
    "\n",
    "fruits = (\"apple\",\"mangoes\",\"banana\",\"cherry\",\"pawpaw\")\n",
    "\n",
    "for i in range(len(fruits)):\n",
    "    \n",
    "    print(fruits[i])"
   ]
  },
  {
   "cell_type": "code",
   "execution_count": 29,
   "id": "897d88e6",
   "metadata": {},
   "outputs": [
    {
     "name": "stdout",
     "output_type": "stream",
     "text": [
      "apple\n",
      "mangoes\n",
      "banana\n",
      "cherry\n",
      "pawpaw\n"
     ]
    }
   ],
   "source": [
    "#using while condition\n",
    "\n",
    "fruits = (\"apple\",\"mangoes\",\"banana\",\"cherry\",\"pawpaw\")\n",
    "\n",
    "i = 0\n",
    "\n",
    "while i < len(fruits):\n",
    "    \n",
    "    print(fruits[i])\n",
    "    \n",
    "    i += 1"
   ]
  },
  {
   "cell_type": "code",
   "execution_count": 30,
   "id": "4dcae0f1",
   "metadata": {},
   "outputs": [
    {
     "name": "stdout",
     "output_type": "stream",
     "text": [
      "('mangoes', 'apple', 'cherry', 'lemon')\n"
     ]
    }
   ],
   "source": [
    "#joining tuple using + operator\n",
    "\n",
    "x = (\"mangoes\",\"apple\")\n",
    "y = (\"cherry\",\"lemon\")\n",
    "\n",
    "x += y\n",
    "\n",
    "print(x)"
   ]
  },
  {
   "cell_type": "code",
   "execution_count": 33,
   "id": "1a44950c",
   "metadata": {},
   "outputs": [
    {
     "name": "stdout",
     "output_type": "stream",
     "text": [
      "('orange', 'banana', 'apple', 'orange', 'banana', 'apple')\n"
     ]
    }
   ],
   "source": [
    "#multiply tuples using *\n",
    "\n",
    "x = (\"orange\",\"banana\",\"apple\")\n",
    "\n",
    "x *= 2\n",
    "\n",
    "print(x)"
   ]
  },
  {
   "cell_type": "code",
   "execution_count": 35,
   "id": "bc60a276",
   "metadata": {},
   "outputs": [
    {
     "name": "stdout",
     "output_type": "stream",
     "text": [
      "2\n",
      "\n",
      "\n"
     ]
    },
    {
     "ename": "ValueError",
     "evalue": "tuple.index(x): x not in tuple",
     "output_type": "error",
     "traceback": [
      "\u001b[1;31m---------------------------------------------------------------------------\u001b[0m",
      "\u001b[1;31mValueError\u001b[0m                                Traceback (most recent call last)",
      "Cell \u001b[1;32mIn[35], line 12\u001b[0m\n\u001b[0;32m      9\u001b[0m \u001b[38;5;28mprint\u001b[39m(numbers\u001b[38;5;241m.\u001b[39mindex(\u001b[38;5;241m4\u001b[39m))\n\u001b[0;32m     10\u001b[0m \u001b[38;5;28mprint\u001b[39m(\u001b[38;5;124m\"\u001b[39m\u001b[38;5;130;01m\\n\u001b[39;00m\u001b[38;5;124m\"\u001b[39m)\n\u001b[1;32m---> 12\u001b[0m \u001b[38;5;28mprint\u001b[39m(numbers\u001b[38;5;241m.\u001b[39mindex(\u001b[38;5;241m10\u001b[39m))\n",
      "\u001b[1;31mValueError\u001b[0m: tuple.index(x): x not in tuple"
     ]
    }
   ],
   "source": [
    "#methods in tuple\n",
    "#there are two methods in tuple i.e index(), count()\n",
    "\n",
    "#index find the first occurrence of the value\n",
    "#index raises exception if the value is not found\n",
    "\n",
    "numbers = (1,2,4,6,4,5,6,7,8,9,7,6,5)\n",
    "\n",
    "print(numbers.index(4))\n",
    "print(\"\\n\")\n",
    "\n",
    "print(numbers.index(10))# it will cause an exception beacause 10 is not present in the tuple"
   ]
  },
  {
   "cell_type": "code",
   "execution_count": 42,
   "id": "292c092a",
   "metadata": {},
   "outputs": [
    {
     "name": "stdout",
     "output_type": "stream",
     "text": [
      "3\n",
      "\n",
      "\n",
      "The number of times x appears in the tuple is:  3\n"
     ]
    }
   ],
   "source": [
    "#count()\n",
    "#returns the number of times a value appears in the tuple\n",
    "numbers = (1,2,4,6,4,5,6,7,8,9,7,6,5)\n",
    "\n",
    "x = numbers.count(6)\n",
    "print(x)\n",
    "\n",
    "print(\"\\n\")\n",
    "print(\"The number of times x appears in the tuple is: \", str(x))"
   ]
  },
  {
   "cell_type": "code",
   "execution_count": null,
   "id": "39467360",
   "metadata": {},
   "outputs": [],
   "source": []
  },
  {
   "cell_type": "code",
   "execution_count": 43,
   "id": "98ebec95",
   "metadata": {},
   "outputs": [
    {
     "name": "stdout",
     "output_type": "stream",
     "text": [
      "{'banana', 'cherry', 'apple', 'mangoes'}\n",
      "<class 'set'>\n"
     ]
    }
   ],
   "source": [
    "#python sets\n",
    "#sets is collection of items which is unchangeable,unindexed and unordered\n",
    "#sets are written with curly brackets\n",
    "\n",
    "thisset = {\"mangoes\",\"apple\",\"banana\",\"cherry\"}\n",
    "\n",
    "print(thisset)\n",
    "print(type(thisset))"
   ]
  },
  {
   "cell_type": "code",
   "execution_count": 45,
   "id": "22e1df00",
   "metadata": {},
   "outputs": [
    {
     "name": "stdout",
     "output_type": "stream",
     "text": [
      "{'apple', 'pineapple', 'mangoes'}\n"
     ]
    }
   ],
   "source": [
    "#sets are unordered and unchangeable and also are not duplicates\n",
    "\n",
    "thisset = {\"apple\",\"mangoes\",\"pineapple\",\"apple\",\"mangoes\",\"pineapple\"}\n",
    "\n",
    "print(thisset)\n"
   ]
  },
  {
   "cell_type": "code",
   "execution_count": 46,
   "id": "609400d1",
   "metadata": {},
   "outputs": [
    {
     "name": "stdout",
     "output_type": "stream",
     "text": [
      "{'food', True, 2, 0, 'vegetables', 'fruits'}\n"
     ]
    }
   ],
   "source": [
    "#the values True and 1 are considered to be the same value in the set and are treatd as duplicate\n",
    "#The values False and 1 are considered to be the same value in the set and are treated as duplicate\n",
    "\n",
    "x = {'food','fruits','vegetables',True, 0, 1, 2 }\n",
    "\n",
    "print(x)"
   ]
  },
  {
   "cell_type": "code",
   "execution_count": 47,
   "id": "76b92dcc",
   "metadata": {},
   "outputs": [
    {
     "name": "stdout",
     "output_type": "stream",
     "text": [
      "{False, 1, 3, 5, 'fruits', 'juice', 'cereals'}\n"
     ]
    }
   ],
   "source": [
    "#False and 0\n",
    "\n",
    "x  = {\"cereals\",\"fruits\",\"juice\",False,0,1,3,5}\n",
    "\n",
    "print(x)"
   ]
  },
  {
   "cell_type": "code",
   "execution_count": 48,
   "id": "5a8100ba",
   "metadata": {},
   "outputs": [
    {
     "name": "stdout",
     "output_type": "stream",
     "text": [
      "4\n"
     ]
    }
   ],
   "source": [
    "#the length of a set use len() method\n",
    "\n",
    "x  = {\"cereals\",\"fruits\",\"juice\",False}\n",
    "\n",
    "print(len(x))"
   ]
  },
  {
   "cell_type": "code",
   "execution_count": 50,
   "id": "310051dc",
   "metadata": {},
   "outputs": [
    {
     "name": "stdout",
     "output_type": "stream",
     "text": [
      "{'people', 'animals', 'cars', 'birds'}\n",
      "{1, 2, 3, 4, 5, 6, 7, 8, 9}\n",
      "{False, True}\n"
     ]
    }
   ],
   "source": [
    "#data types\n",
    "#set items can be of any data type\n",
    "\n",
    "set1 = {\"people\",\"animals\",\"cars\",\"birds\"}\n",
    "set2 = {1,2,3,4,5,6,7,8,9}\n",
    "set3 = {True,False,True,False}\n",
    "\n",
    "print(set1)\n",
    "print(set2)\n",
    "print(set3)\n"
   ]
  },
  {
   "cell_type": "code",
   "execution_count": 51,
   "id": "58064147",
   "metadata": {},
   "outputs": [
    {
     "name": "stdout",
     "output_type": "stream",
     "text": [
      "{False, True, 2, 'animals', 3, 'poultry'}\n"
     ]
    }
   ],
   "source": [
    "#A set can be of different data type\n",
    "\n",
    "set1 = {\"animals\",\"poultry\",True,False,0,1,2,3}\n",
    "\n",
    "print(set1)"
   ]
  },
  {
   "cell_type": "code",
   "execution_count": 52,
   "id": "590d4416",
   "metadata": {},
   "outputs": [
    {
     "name": "stdout",
     "output_type": "stream",
     "text": [
      "<class 'set'>\n"
     ]
    }
   ],
   "source": [
    "#type function\n",
    "x  = {\"cereals\",\"fruits\",\"juice\",False}\n",
    "\n",
    "print(type(x))"
   ]
  },
  {
   "cell_type": "code",
   "execution_count": 59,
   "id": "88ce92cd",
   "metadata": {},
   "outputs": [
    {
     "ename": "TypeError",
     "evalue": "'set' object is not callable",
     "output_type": "error",
     "traceback": [
      "\u001b[1;31m---------------------------------------------------------------------------\u001b[0m",
      "\u001b[1;31mTypeError\u001b[0m                                 Traceback (most recent call last)",
      "Cell \u001b[1;32mIn[59], line 3\u001b[0m\n\u001b[0;32m      1\u001b[0m \u001b[38;5;66;03m#set() constructor in set\u001b[39;00m\n\u001b[1;32m----> 3\u001b[0m sets \u001b[38;5;241m=\u001b[39m \u001b[38;5;28mset\u001b[39m((\u001b[38;5;124m\"\u001b[39m\u001b[38;5;124mTeachers\u001b[39m\u001b[38;5;124m\"\u001b[39m, \u001b[38;5;124m\"\u001b[39m\u001b[38;5;124mDoctors\u001b[39m\u001b[38;5;124m\"\u001b[39m))\n\u001b[0;32m      5\u001b[0m \u001b[38;5;28mprint\u001b[39m(sets)\n\u001b[0;32m      6\u001b[0m \u001b[38;5;28mprint\u001b[39m(\u001b[38;5;28mtype\u001b[39m(sets))\n",
      "\u001b[1;31mTypeError\u001b[0m: 'set' object is not callable"
     ]
    }
   ],
   "source": [
    "#set() constructor in set\n",
    "\n",
    "sets = set((\"Teachers\", \"Doctors\"))\n",
    "\n",
    "print(sets)\n",
    "print(type(sets))"
   ]
  },
  {
   "cell_type": "code",
   "execution_count": 60,
   "id": "a49efceb",
   "metadata": {},
   "outputs": [
    {
     "name": "stdout",
     "output_type": "stream",
     "text": [
      "Banana\n",
      "cherry\n",
      "juice\n",
      "apple\n"
     ]
    }
   ],
   "source": [
    "#Access items in List\n",
    "#you cannot access items in set by index or keys\n",
    "#but you can use for loop and in keyword\n",
    "\n",
    "x = {'Banana','apple','cherry','juice'}\n",
    "\n",
    "for i in x:\n",
    "    \n",
    "    print(i)"
   ]
  },
  {
   "cell_type": "code",
   "execution_count": 61,
   "id": "85e3aa8a",
   "metadata": {},
   "outputs": [
    {
     "ename": "TypeError",
     "evalue": "'set' object is not subscriptable",
     "output_type": "error",
     "traceback": [
      "\u001b[1;31m---------------------------------------------------------------------------\u001b[0m",
      "\u001b[1;31mTypeError\u001b[0m                                 Traceback (most recent call last)",
      "Cell \u001b[1;32mIn[61], line 4\u001b[0m\n\u001b[0;32m      1\u001b[0m \u001b[38;5;66;03m#you can also use range() and len()\u001b[39;00m\n\u001b[0;32m      3\u001b[0m \u001b[38;5;28;01mfor\u001b[39;00m i \u001b[38;5;129;01min\u001b[39;00m \u001b[38;5;28mrange\u001b[39m(\u001b[38;5;28mlen\u001b[39m(x)):\n\u001b[1;32m----> 4\u001b[0m     \u001b[38;5;28mprint\u001b[39m(x[i])\n",
      "\u001b[1;31mTypeError\u001b[0m: 'set' object is not subscriptable"
     ]
    }
   ],
   "source": [
    "#you can also use range() and len()\n",
    "\n",
    "for i in range(len(x)):\n",
    "    print(x[i])"
   ]
  },
  {
   "cell_type": "code",
   "execution_count": 62,
   "id": "f497ef92",
   "metadata": {},
   "outputs": [
    {
     "name": "stdout",
     "output_type": "stream",
     "text": [
      "True\n"
     ]
    }
   ],
   "source": [
    "#check if banana is in the set\n",
    "\n",
    "fruits = {\"banana\",\"lemon\",\"apple\",\"cherry\"}\n",
    "\n",
    "print(\"banana\" in fruits)"
   ]
  },
  {
   "cell_type": "code",
   "execution_count": 63,
   "id": "1ab29cc5",
   "metadata": {},
   "outputs": [
    {
     "name": "stdout",
     "output_type": "stream",
     "text": [
      "{'banana', 'orange', 'lemon', 'apple', 'mangoes'}\n"
     ]
    }
   ],
   "source": [
    "#python add set items\n",
    "#you cannot change items in the set but you can add items\n",
    "#use add() method\n",
    "thisset = {\"apple\",\"mangoes\",\"lemon\",\"banana\"}\n",
    "thisset.add(\"orange\")\n",
    "\n",
    "print(thisset)\n"
   ]
  },
  {
   "cell_type": "code",
   "execution_count": 66,
   "id": "f79c1110",
   "metadata": {},
   "outputs": [
    {
     "name": "stdout",
     "output_type": "stream",
     "text": [
      "{'cherry', 'papaya', 'orange', 'apple', 'mangoes'}\n",
      "5\n"
     ]
    }
   ],
   "source": [
    "#add set\n",
    "#to add set use update() method\n",
    "\n",
    "thisset = {\"orange\",\"mangoes\",\"apple\"}\n",
    "tropical = {\"papaya\",\"cherry\"}\n",
    "\n",
    "thisset.update(tropical)\n",
    "\n",
    "print(thisset)\n",
    "print(len(thisset))"
   ]
  },
  {
   "cell_type": "code",
   "execution_count": 67,
   "id": "ca3a15fd",
   "metadata": {},
   "outputs": [
    {
     "name": "stdout",
     "output_type": "stream",
     "text": [
      "{'green grams', 'sorghum', 'cow peas', 'wheat', 'beans', 'millet', 'maize', 'peas'}\n"
     ]
    }
   ],
   "source": [
    "#add any iterable\n",
    "#the objects in the update() does not have to be a set, but any data type, sets,tuples,list or dictionary\n",
    "\n",
    "cereals = {\"maize\",\"sorghum\",\"millet\",\"wheat\"}\n",
    "\n",
    "legumes = [\"beans\",\"green grams\",\"cow peas\",\"peas\"]\n",
    "\n",
    "cereals.update(legumes)\n",
    "\n",
    "print(cereals)"
   ]
  },
  {
   "cell_type": "code",
   "execution_count": 68,
   "id": "33d55e59",
   "metadata": {},
   "outputs": [
    {
     "name": "stdout",
     "output_type": "stream",
     "text": [
      "{'sorghum', 'barley', 'wheat', 'millet'}\n"
     ]
    }
   ],
   "source": [
    "#remove items from set\n",
    "#to remove items in set we use remove() and discard() methods\n",
    "\n",
    "cereals = {\"maize\",\"sorghum\",\"millet\",\"wheat\",\"barley\"}\n",
    "\n",
    "cereals.remove(\"maize\")\n",
    "\n",
    "print(cereals)\n",
    "#if item to remove does not exist remove() will cause an error"
   ]
  },
  {
   "cell_type": "code",
   "execution_count": 69,
   "id": "a9af0598",
   "metadata": {},
   "outputs": [
    {
     "name": "stdout",
     "output_type": "stream",
     "text": [
      "{'sorghum', 'barley', 'wheat', 'maize'}\n"
     ]
    }
   ],
   "source": [
    "#using discard method\n",
    "\n",
    "cereals = {\"maize\",\"sorghum\",\"millet\",\"wheat\",\"barley\"}\n",
    "\n",
    "cereals.remove(\"millet\")\n",
    "\n",
    "print(cereals)\n",
    "\n",
    "#if item to remove does not exist discard() will not cause an error\n"
   ]
  },
  {
   "cell_type": "code",
   "execution_count": 70,
   "id": "a73b88c1",
   "metadata": {},
   "outputs": [
    {
     "name": "stdout",
     "output_type": "stream",
     "text": [
      "{'barley', 'wheat', 'maize', 'millet'}\n"
     ]
    }
   ],
   "source": [
    "#also we can also use pop() method to remove an item from a set but we are not sure which item will be removed\n",
    "#This is because pop() removes a random item from the list\n",
    "\n",
    "cereals = {\"maize\",\"sorghum\",\"millet\",\"wheat\",\"barley\"}\n",
    "\n",
    "cereals.pop()\n",
    "\n",
    "print(cereals)"
   ]
  },
  {
   "cell_type": "code",
   "execution_count": 71,
   "id": "f4ec4385",
   "metadata": {},
   "outputs": [
    {
     "name": "stdout",
     "output_type": "stream",
     "text": [
      "set()\n"
     ]
    }
   ],
   "source": [
    "#we can also use clear() method to clear the set\n",
    "cereals = {\"maize\",\"sorghum\",\"millet\",\"wheat\",\"barley\"}\n",
    "\n",
    "cereals.clear()\n",
    "\n",
    "print(cereals)"
   ]
  },
  {
   "cell_type": "code",
   "execution_count": 72,
   "id": "2b3230d8",
   "metadata": {},
   "outputs": [
    {
     "ename": "NameError",
     "evalue": "name 'cereals' is not defined",
     "output_type": "error",
     "traceback": [
      "\u001b[1;31m---------------------------------------------------------------------------\u001b[0m",
      "\u001b[1;31mNameError\u001b[0m                                 Traceback (most recent call last)",
      "Cell \u001b[1;32mIn[72], line 6\u001b[0m\n\u001b[0;32m      2\u001b[0m cereals \u001b[38;5;241m=\u001b[39m {\u001b[38;5;124m\"\u001b[39m\u001b[38;5;124mmaize\u001b[39m\u001b[38;5;124m\"\u001b[39m,\u001b[38;5;124m\"\u001b[39m\u001b[38;5;124msorghum\u001b[39m\u001b[38;5;124m\"\u001b[39m,\u001b[38;5;124m\"\u001b[39m\u001b[38;5;124mmillet\u001b[39m\u001b[38;5;124m\"\u001b[39m,\u001b[38;5;124m\"\u001b[39m\u001b[38;5;124mwheat\u001b[39m\u001b[38;5;124m\"\u001b[39m,\u001b[38;5;124m\"\u001b[39m\u001b[38;5;124mbarley\u001b[39m\u001b[38;5;124m\"\u001b[39m}\n\u001b[0;32m      4\u001b[0m \u001b[38;5;28;01mdel\u001b[39;00m cereals\n\u001b[1;32m----> 6\u001b[0m \u001b[38;5;28mprint\u001b[39m(cereals)\n",
      "\u001b[1;31mNameError\u001b[0m: name 'cereals' is not defined"
     ]
    }
   ],
   "source": [
    "#also we can delete the set completely using del keyword\n",
    "cereals = {\"maize\",\"sorghum\",\"millet\",\"wheat\",\"barley\"}\n",
    "\n",
    "del cereals\n",
    "\n",
    "print(cereals)\n"
   ]
  },
  {
   "cell_type": "code",
   "execution_count": 73,
   "id": "e46249c0",
   "metadata": {},
   "outputs": [
    {
     "name": "stdout",
     "output_type": "stream",
     "text": [
      "sorghum\n",
      "barley\n",
      "wheat\n",
      "maize\n",
      "millet\n"
     ]
    }
   ],
   "source": [
    "#looping through the list\n",
    "#you can use for loop\n",
    "cereals = {\"maize\",\"sorghum\",\"millet\",\"wheat\",\"barley\"}\n",
    "\n",
    "for x in cereals:\n",
    "    print(x)"
   ]
  },
  {
   "cell_type": "code",
   "execution_count": 74,
   "id": "58a72cab",
   "metadata": {},
   "outputs": [
    {
     "name": "stdout",
     "output_type": "stream",
     "text": [
      "{'sorghum', 'barley', 'wheat', 'maize', 'peas', 'Green grams', 'beans', 'millet'}\n"
     ]
    }
   ],
   "source": [
    "#joining two sets using union() method\n",
    "cereals = {\"maize\",\"sorghum\",\"millet\",\"wheat\",\"barley\"}\n",
    "legumes = {\"beans\",\"Green grams\",\"peas\"}\n",
    "\n",
    "set3 = cereals.union(legumes)\n",
    "\n",
    "print(set3)"
   ]
  },
  {
   "cell_type": "code",
   "execution_count": 75,
   "id": "2c8f76a0",
   "metadata": {},
   "outputs": [
    {
     "name": "stdout",
     "output_type": "stream",
     "text": [
      "{'kales', 'sorghum', 'barley', 'wheat', 'maize', 'peas', 'beans', 'millet'}\n"
     ]
    }
   ],
   "source": [
    "#update method to add items from set2 to set1\n",
    "\n",
    "set1 = {\"maize\",\"sorghum\",\"millet\",\"wheat\",\"barley\"}\n",
    "set2 = {\"peas\",\"beans\",\"kales\"}\n",
    "\n",
    "set1.update(set2)\n",
    "\n",
    "print(set1)\n",
    "\n",
    "#union() and updates will exclude any duplicates\n"
   ]
  },
  {
   "cell_type": "code",
   "execution_count": 76,
   "id": "eebed3aa",
   "metadata": {},
   "outputs": [
    {
     "name": "stdout",
     "output_type": "stream",
     "text": [
      "{'maize'}\n"
     ]
    }
   ],
   "source": [
    "#keep only the duplicates\n",
    "#use intersection_update() method\n",
    "#The intersection_update() method will keep only the items that are present in both sets.\n",
    "\n",
    "x = {\"maize\",\"sorghum\",\"millet\"}\n",
    "y = {\"beans\",\"maize\",\"peas\"}\n",
    "\n",
    "x.intersection_update(y)\n",
    "\n",
    "print(x)"
   ]
  },
  {
   "cell_type": "code",
   "execution_count": 77,
   "id": "40ff1538",
   "metadata": {},
   "outputs": [
    {
     "name": "stdout",
     "output_type": "stream",
     "text": [
      "{'apple'}\n"
     ]
    }
   ],
   "source": [
    "#The intersection() method will return a new set, that only contains the items that are present in both sets.\n",
    "x = {\"apple\", \"banana\", \"cherry\"}\n",
    "y = {\"google\", \"microsoft\", \"apple\"}\n",
    "\n",
    "z = x.intersection(y)\n",
    "\n",
    "print(z)"
   ]
  },
  {
   "cell_type": "code",
   "execution_count": 78,
   "id": "4ccd7a44",
   "metadata": {},
   "outputs": [
    {
     "name": "stdout",
     "output_type": "stream",
     "text": [
      "{'banana', 'microsoft', 'cherry', 'google'}\n"
     ]
    }
   ],
   "source": [
    "#keep all but not the duplicates\n",
    "#The symmetric_difference_update() method will keep only the elements that are NOT present in both sets.\n",
    "\n",
    "x = {\"apple\", \"banana\", \"cherry\"}\n",
    "y = {\"google\", \"microsoft\", \"apple\"}\n",
    "\n",
    "x.symmetric_difference_update(y)\n",
    "\n",
    "print(x)"
   ]
  },
  {
   "cell_type": "code",
   "execution_count": 79,
   "id": "d403c4f6",
   "metadata": {},
   "outputs": [
    {
     "name": "stdout",
     "output_type": "stream",
     "text": [
      "{'banana', 'microsoft', 'cherry', 'google'}\n"
     ]
    }
   ],
   "source": [
    "#The symmetric_difference() method will return a new set, that contains only the elements that are NOT present in both sets.\n",
    "\n",
    "x = {\"apple\", \"banana\", \"cherry\"}\n",
    "y = {\"google\", \"microsoft\", \"apple\"}\n",
    "\n",
    "z = x.symmetric_difference(y)\n",
    "\n",
    "print(z)"
   ]
  },
  {
   "cell_type": "code",
   "execution_count": null,
   "id": "5464ef08",
   "metadata": {},
   "outputs": [],
   "source": []
  },
  {
   "cell_type": "code",
   "execution_count": 82,
   "id": "659c3506",
   "metadata": {},
   "outputs": [
    {
     "name": "stdout",
     "output_type": "stream",
     "text": [
      "<class 'dict'>\n",
      "6\n",
      "{'Name': 'Kelvin', 'Gender': 'Male', 'Religion': 'christian', 'Ethnic': 'kamba', 'Age': 24, 'Marital status': 'single'}\n"
     ]
    }
   ],
   "source": [
    "#Dictionaries in python\n",
    "#dictionaries are used to store data values in key: value pairs\n",
    "#a dictionary is a collection which is changeable, ordered and does not allow duplicates\n",
    "\n",
    "my_dict = {\n",
    "    \"Name\" : \"Kelvin\",\n",
    "    \"Gender\": \"Male\",\n",
    "    \"Religion\": \"christian\",\n",
    "    \"Ethnic\": \"kamba\",\n",
    "    \"Age\" : 24,\n",
    "    \"Marital status\": \"single\"\n",
    "}\n",
    "\n",
    "print(type(my_dict))\n",
    "print(len(my_dict))\n",
    "print(my_dict)"
   ]
  },
  {
   "cell_type": "code",
   "execution_count": 85,
   "id": "39649ce2",
   "metadata": {},
   "outputs": [
    {
     "name": "stdout",
     "output_type": "stream",
     "text": [
      "Kelvin\n"
     ]
    }
   ],
   "source": [
    "#print the value of dictionary\n",
    "my_dict = {\n",
    "    \"Name\" : \"Kelvin\",\n",
    "    \"Gender\": \"Male\",\n",
    "    \"Religion\": \"christian\",\n",
    "    \"Ethnic\": \"kamba\",\n",
    "    \"Age\" : 24,\n",
    "    \"Marital status\": \"single\"\n",
    "}\n",
    "\n",
    "print(my_dict[\"Name\"])"
   ]
  },
  {
   "cell_type": "code",
   "execution_count": 86,
   "id": "ee6991e6",
   "metadata": {},
   "outputs": [
    {
     "name": "stdout",
     "output_type": "stream",
     "text": [
      "{'Name': 'Mwako', 'Gender': 'Male', 'Religion': 'christian', 'Ethnic': 'kamba', 'Age': 24, 'Marital status': 'single'}\n"
     ]
    }
   ],
   "source": [
    "#Duplicates not allowed\n",
    "#Duplicates will overwrite existing value\n",
    "\n",
    "my_dict = {\n",
    "    \"Name\" : \"Kelvin\",\n",
    "    \"Name\" : \"Mwako\", #name key is duplicated\n",
    "    \"Gender\": \"Male\",\n",
    "    \"Religion\": \"christian\",\n",
    "    \"Ethnic\": \"kamba\",\n",
    "    \"Age\" : 24,\n",
    "    \"Marital status\": \"single\"\n",
    "}\n",
    "\n",
    "print(my_dict)\n",
    "#it will name key to the current value Mwako"
   ]
  },
  {
   "cell_type": "code",
   "execution_count": 95,
   "id": "f1eabf6a",
   "metadata": {},
   "outputs": [
    {
     "name": "stdout",
     "output_type": "stream",
     "text": [
      "{'Name': 'Kelvin', 'Gender': 'Male', 'Religion': 'christian', 'Ethnic': 'kamba', 'Age': 24, 'Marital status': 'single', 'Employed': False, 'colors': ['red', 'white', 'blue']}\n"
     ]
    }
   ],
   "source": [
    "#Dictionary Items can be of any data types\n",
    "#can be a string, lists, numbers or booleans\n",
    "\n",
    "my_dict = {\n",
    "    \"Name\" : \"Kelvin\",\n",
    "    \"Gender\": \"Male\",\n",
    "    \"Religion\": \"christian\",\n",
    "    \"Ethnic\": \"kamba\",\n",
    "    \"Age\" : 24,\n",
    "    \"Marital status\": \"single\",\n",
    "    \"Employed\" : False,\n",
    "    \"colors\": [\"red\", \"white\", \"blue\"]\n",
    "}\n",
    "\n",
    "print(my_dict)"
   ]
  },
  {
   "cell_type": "code",
   "execution_count": 93,
   "id": "be10e7fe",
   "metadata": {},
   "outputs": [
    {
     "name": "stdout",
     "output_type": "stream",
     "text": [
      "{'Name': 'Kelvin', 'Age': 30, 'Country': 'Kenya'}\n"
     ]
    }
   ],
   "source": [
    "#dict() constructor\n",
    "#it is possible to use dict() constructor to make a dictionary\n",
    "\n",
    "thisdict = dict(Name = \"Kelvin\",Age = 30,Country = \"Kenya\")\n",
    "print(thisdict)"
   ]
  },
  {
   "cell_type": "code",
   "execution_count": 96,
   "id": "7e5eb32c",
   "metadata": {},
   "outputs": [
    {
     "name": "stdout",
     "output_type": "stream",
     "text": [
      "24\n"
     ]
    }
   ],
   "source": [
    "#Accessing items in dictionary\n",
    "#You can access the items of a dictionary by referring to its key name, inside square brackets:\n",
    "\n",
    "my_dict = {\n",
    "    \"Name\" : \"Kelvin\",\n",
    "    \"Gender\": \"Male\",\n",
    "    \"Religion\": \"christian\",\n",
    "    \"Ethnic\": \"kamba\",\n",
    "    \"Age\" : 24,\n",
    "    \"Marital status\": \"single\",\n",
    "    \"Employed\" : False,\n",
    "    \"colors\": [\"red\", \"white\", \"blue\"]\n",
    "}\n",
    "\n",
    "print(my_dict[\"Age\"])"
   ]
  },
  {
   "cell_type": "code",
   "execution_count": 98,
   "id": "843e54f4",
   "metadata": {},
   "outputs": [
    {
     "name": "stdout",
     "output_type": "stream",
     "text": [
      "24\n"
     ]
    }
   ],
   "source": [
    "#There is another method called get that will give you the same value\n",
    "#get the value of age key\n",
    "my_dict = {\n",
    "    \"Name\" : \"Kelvin\",\n",
    "    \"Gender\": \"Male\",\n",
    "    \"Religion\": \"christian\",\n",
    "    \"Ethnic\": \"kamba\",\n",
    "    \"Age\" : 24,\n",
    "    \"Marital status\": \"single\",\n",
    "    \"Employed\" : False,\n",
    "    \"colors\": [\"red\", \"white\", \"blue\"]\n",
    "}\n",
    "\n",
    "x = my_dict.get(\"Age\")\n",
    "\n",
    "print(x)"
   ]
  },
  {
   "cell_type": "code",
   "execution_count": 103,
   "id": "66f67554",
   "metadata": {},
   "outputs": [
    {
     "name": "stdout",
     "output_type": "stream",
     "text": [
      "dict_keys(['Name', 'Gender', 'Religion', 'Ethnic', 'Age', 'Marital status', 'Employed', 'colors']) \n",
      "\n",
      "dict_keys(['Name', 'Gender', 'Religion', 'Ethnic', 'Age', 'Marital status', 'Employed', 'colors'])\n"
     ]
    }
   ],
   "source": [
    "#get the keys\n",
    "#the keys() method will returns all the keys\n",
    "\n",
    "my_dict = {\n",
    "    \"Name\" : \"Kelvin\",\n",
    "    \"Gender\": \"Male\",\n",
    "    \"Religion\": \"christian\",\n",
    "    \"Ethnic\": \"kamba\",\n",
    "    \"Age\" : 24,\n",
    "    \"Marital status\": \"single\",\n",
    "    \"Employed\" : False,\n",
    "    \"colors\": [\"red\", \"white\", \"blue\"]\n",
    "}\n",
    "\n",
    "x = my_dict.keys()\n",
    "print(x,\"\\n\")\n",
    "print(my_dict.keys())"
   ]
  },
  {
   "cell_type": "code",
   "execution_count": 105,
   "id": "311bd2cf",
   "metadata": {},
   "outputs": [
    {
     "name": "stdout",
     "output_type": "stream",
     "text": [
      "dict_keys(['Name', 'Gender', 'Religion', 'Ethnic', 'Age', 'Marital status', 'Employed', 'colors']) \n",
      "\n",
      "dict_keys(['Name', 'Gender', 'Religion', 'Ethnic', 'Age', 'Marital status', 'Employed', 'colors', 'course'])\n"
     ]
    }
   ],
   "source": [
    "#Any change made to the dictionary will reflect to the keys list\n",
    "my_dict = {\n",
    "    \"Name\" : \"Kelvin\",\n",
    "    \"Gender\": \"Male\",\n",
    "    \"Religion\": \"christian\",\n",
    "    \"Ethnic\": \"kamba\",\n",
    "    \"Age\" : 24,\n",
    "    \"Marital status\": \"single\",\n",
    "    \"Employed\" : False,\n",
    "    \"colors\": [\"red\", \"white\", \"blue\"]\n",
    "}\n",
    "\n",
    "x = my_dict.keys()\n",
    "\n",
    "print(x,\"\\n\")\n",
    "#add a new item to the dictionary\n",
    "my_dict[\"course\"] = \"computer science\"\n",
    "\n",
    "print(x)\n"
   ]
  },
  {
   "cell_type": "code",
   "execution_count": 108,
   "id": "a877497b",
   "metadata": {},
   "outputs": [
    {
     "name": "stdout",
     "output_type": "stream",
     "text": [
      "dict_values(['Kelvin', 'Male', 'christian', 'kamba', 24, 'single', False, ['red', 'white', 'blue']])\n",
      "dict_values(['Kelvin', 'Male', 'christian', 'kamba', 24, 'single', False, ['red', 'white', 'blue'], 'English'])\n"
     ]
    }
   ],
   "source": [
    "#get values() method\n",
    "#it will return all the values of a dictionary in a list\n",
    "\n",
    "my_dict = {\n",
    "    \"Name\" : \"Kelvin\",\n",
    "    \"Gender\": \"Male\",\n",
    "    \"Religion\": \"christian\",\n",
    "    \"Ethnic\": \"kamba\",\n",
    "    \"Age\" : 24,\n",
    "    \"Marital status\": \"single\",\n",
    "    \"Employed\" : False,\n",
    "    \"colors\": [\"red\", \"white\", \"blue\"]\n",
    "}\n",
    "\n",
    "x = my_dict.values()\n",
    "\n",
    "print(x)\n",
    "\n",
    "#adding a new list of items in the dictionary\n",
    "\n",
    "my_dict[\"Language\"] = \"English\"\n",
    "\n",
    "print(x)"
   ]
  },
  {
   "cell_type": "code",
   "execution_count": 109,
   "id": "9c3307ae",
   "metadata": {},
   "outputs": [
    {
     "name": "stdout",
     "output_type": "stream",
     "text": [
      "dict_items([('Name', 'Kelvin'), ('Gender', 'Male'), ('Religion', 'christian'), ('Ethnic', 'kamba'), ('Age', 24), ('Marital status', 'single'), ('Employed', False), ('colors', ['red', 'white', 'blue'])])\n"
     ]
    }
   ],
   "source": [
    "#Items() method in dictionary\n",
    "#The items() method will return each item in a dictionary, as tuples in a list.\n",
    "\n",
    "my_dict = {\n",
    "    \"Name\" : \"Kelvin\",\n",
    "    \"Gender\": \"Male\",\n",
    "    \"Religion\": \"christian\",\n",
    "    \"Ethnic\": \"kamba\",\n",
    "    \"Age\" : 24,\n",
    "    \"Marital status\": \"single\",\n",
    "    \"Employed\" : False,\n",
    "    \"colors\": [\"red\", \"white\", \"blue\"]\n",
    "}\n",
    "\n",
    "x = my_dict.items()\n",
    "\n",
    "print(x)"
   ]
  },
  {
   "cell_type": "code",
   "execution_count": 110,
   "id": "0602605a",
   "metadata": {},
   "outputs": [
    {
     "name": "stdout",
     "output_type": "stream",
     "text": [
      "The key is present in my_dict\n"
     ]
    }
   ],
   "source": [
    "#Check if key exist\n",
    "#to check if key exist we use in keyword\n",
    "\n",
    "my_dict = {\n",
    "    \"Name\" : \"Kelvin\",\n",
    "    \"Gender\": \"Male\",\n",
    "    \"Religion\": \"christian\",\n",
    "    \"Ethnic\": \"kamba\",\n",
    "    \"Age\" : 24,\n",
    "    \"Marital status\": \"single\",\n",
    "    \"Employed\" : False,\n",
    "    \"colors\": [\"red\", \"white\", \"blue\"]\n",
    "}\n",
    "\n",
    "if \"Name\" in my_dict:\n",
    "    \n",
    "    print(\"The key is present in my_dict\")\n"
   ]
  },
  {
   "cell_type": "code",
   "execution_count": 111,
   "id": "cf6be487",
   "metadata": {},
   "outputs": [
    {
     "name": "stdout",
     "output_type": "stream",
     "text": [
      "True\n"
     ]
    }
   ],
   "source": [
    "#it can be this other way round\n",
    "my_dict = {\n",
    "    \"Name\" : \"Kelvin\",\n",
    "    \"Gender\": \"Male\",\n",
    "    \"Religion\": \"christian\",\n",
    "    \"Ethnic\": \"kamba\",\n",
    "    \"Age\" : 24,\n",
    "    \"Marital status\": \"single\",\n",
    "    \"Employed\" : False,\n",
    "    \"colors\": [\"red\", \"white\", \"blue\"]\n",
    "}\n",
    "\n",
    "print(\"Name\" in my_dict)"
   ]
  },
  {
   "cell_type": "code",
   "execution_count": 114,
   "id": "9ee1b765",
   "metadata": {},
   "outputs": [
    {
     "name": "stdout",
     "output_type": "stream",
     "text": [
      "{'Name': 'Kelvin', 'Gender': 'Male', 'Religion': 'christian', 'Ethnic': 'kamba', 'Age': 40, 'Marital status': 'single', 'Employed': False, 'colors': ['red', 'white', 'blue']} \n",
      "\n",
      "The age of Kelvin is now  40\n"
     ]
    }
   ],
   "source": [
    "#Change Dictionary items\n",
    "#You can change the value of a specific item by referring to its key name:\n",
    "my_dict = {\n",
    "    \"Name\" : \"Kelvin\",\n",
    "    \"Gender\": \"Male\",\n",
    "    \"Religion\": \"christian\",\n",
    "    \"Ethnic\": \"kamba\",\n",
    "    \"Age\" : 24,\n",
    "    \"Marital status\": \"single\",\n",
    "    \"Employed\" : False,\n",
    "    \"colors\": [\"red\", \"white\", \"blue\"]\n",
    "}\n",
    "\n",
    "my_dict[\"Age\"] = 40\n",
    "\n",
    "print(my_dict,'\\n')\n",
    "x = my_dict.get(\"Age\")\n",
    "\n",
    "print(\"The age of Kelvin is now \", x)\n"
   ]
  },
  {
   "cell_type": "code",
   "execution_count": 117,
   "id": "5c82803f",
   "metadata": {},
   "outputs": [
    {
     "name": "stdout",
     "output_type": "stream",
     "text": [
      "{'Name': 'Kelvin', 'Gender': 'Male', 'Religion': 'christian', 'Ethnic': 'kamba', 'Age': 35, 'Marital status': 'single', 'Employed': False, 'colors': ['red', 'white', 'blue']} \n",
      "\n",
      "Now the Age of Kelvin is  35\n"
     ]
    }
   ],
   "source": [
    "#update dictionary using update() method\n",
    "#The update() method will update the dictionary with the items from the given argument.\n",
    "#The argument must be a dictionary, or an iterable object with key:value pairs.\n",
    "\n",
    "my_dict = {\n",
    "    \"Name\" : \"Kelvin\",\n",
    "    \"Gender\": \"Male\",\n",
    "    \"Religion\": \"christian\",\n",
    "    \"Ethnic\": \"kamba\",\n",
    "    \"Age\" : 24,\n",
    "    \"Marital status\": \"single\",\n",
    "    \"Employed\" : False,\n",
    "    \"colors\": [\"red\", \"white\", \"blue\"]\n",
    "}\n",
    "\n",
    "my_dict.update({\"Age\": 35})\n",
    "\n",
    "print(my_dict,'\\n')\n",
    "\n",
    "x = my_dict.get(\"Age\")\n",
    "\n",
    "print(\"Now the Age of Kelvin is \", x)"
   ]
  },
  {
   "cell_type": "code",
   "execution_count": 118,
   "id": "b2ffa25f",
   "metadata": {},
   "outputs": [
    {
     "name": "stdout",
     "output_type": "stream",
     "text": [
      "{'Name': 'Kelvin', 'Gender': 'Male', 'Religion': 'christian', 'Ethnic': 'kamba', 'Age': 24, 'Marital status': 'single', 'Employed': False, 'colors': ['red', 'white', 'blue'], 'sex': 'straight'}\n"
     ]
    }
   ],
   "source": [
    "#Adding items in the dictionary\n",
    "#Adding an item to the dictionary is done by using a new index key and assigning a value to it:\n",
    "my_dict = {\n",
    "    \"Name\" : \"Kelvin\",\n",
    "    \"Gender\": \"Male\",\n",
    "    \"Religion\": \"christian\",\n",
    "    \"Ethnic\": \"kamba\",\n",
    "    \"Age\" : 24,\n",
    "    \"Marital status\": \"single\",\n",
    "    \"Employed\" : False,\n",
    "    \"colors\": [\"red\", \"white\", \"blue\"]\n",
    "}\n",
    "\n",
    "my_dict[\"sex\"] = \"straight\"\n",
    "\n",
    "print(my_dict)\n"
   ]
  },
  {
   "cell_type": "code",
   "execution_count": 1,
   "id": "0ec80c65",
   "metadata": {},
   "outputs": [
    {
     "name": "stdout",
     "output_type": "stream",
     "text": [
      "{'Name': 'Kelvin', 'Gender': 'Male', 'Religion': 'christian', 'Ethnic': 'kamba', 'Age': 24, 'Marital status': 'single', 'Employed': False, 'colors': ['red', 'white', 'blue'], 'Experience': '2 years'}\n"
     ]
    }
   ],
   "source": [
    "#update dictionary\n",
    "#use update function\n",
    "\n",
    "my_dict = {\n",
    "    \"Name\" : \"Kelvin\",\n",
    "    \"Gender\": \"Male\",\n",
    "    \"Religion\": \"christian\",\n",
    "    \"Ethnic\": \"kamba\",\n",
    "    \"Age\" : 24,\n",
    "    \"Marital status\": \"single\",\n",
    "    \"Employed\" : False,\n",
    "    \"colors\": [\"red\", \"white\", \"blue\"]\n",
    "}\n",
    "\n",
    "my_dict.update({\"Experience\": \"2 years\"})\n",
    "\n",
    "print(my_dict)"
   ]
  },
  {
   "cell_type": "code",
   "execution_count": 5,
   "id": "7778bac4",
   "metadata": {},
   "outputs": [
    {
     "name": "stdout",
     "output_type": "stream",
     "text": [
      "{'Name': 'Kelvin', 'Gender': 'Male', 'Religion': 'christian', 'Age': 24, 'Marital status': 'single', 'Employed': False, 'colors': ['red', 'white', 'blue']}\n",
      "None\n"
     ]
    }
   ],
   "source": [
    "#remove dictionary Items\n",
    "#the pop() method removes the item with the specified key name:\n",
    "\n",
    "my_dict = {\n",
    "    \"Name\" : \"Kelvin\",\n",
    "    \"Gender\": \"Male\",\n",
    "    \"Religion\": \"christian\",\n",
    "    \"Ethnic\": \"kamba\",\n",
    "    \"Age\" : 24,\n",
    "    \"Marital status\": \"single\",\n",
    "    \"Employed\" : False,\n",
    "    \"colors\": [\"red\", \"white\", \"blue\"]\n",
    "}\n",
    "\n",
    "my_dict.pop(\"Ethnic\")\n",
    "\n",
    "print(my_dict)\n",
    "print(my_dict.get(\"Ethnic\"))"
   ]
  },
  {
   "cell_type": "code",
   "execution_count": 6,
   "id": "81dcc030",
   "metadata": {},
   "outputs": [
    {
     "name": "stdout",
     "output_type": "stream",
     "text": [
      "{'Name': 'Kelvin', 'Gender': 'Male', 'Religion': 'christian', 'Ethnic': 'kamba', 'Age': 24, 'Marital status': 'single', 'Employed': False}\n"
     ]
    }
   ],
   "source": [
    "#The popitem() method removes the last inserted item (in versions before 3.7, a random item is removed instead):\n",
    "my_dict = {\n",
    "    \"Name\" : \"Kelvin\",\n",
    "    \"Gender\": \"Male\",\n",
    "    \"Religion\": \"christian\",\n",
    "    \"Ethnic\": \"kamba\",\n",
    "    \"Age\" : 24,\n",
    "    \"Marital status\": \"single\",\n",
    "    \"Employed\" : False,\n",
    "    \"colors\": [\"red\", \"white\", \"blue\"]\n",
    "}\n",
    "\n",
    "my_dict.popitem()\n",
    "\n",
    "print(my_dict)"
   ]
  },
  {
   "cell_type": "code",
   "execution_count": 7,
   "id": "9427dcbc",
   "metadata": {},
   "outputs": [
    {
     "name": "stdout",
     "output_type": "stream",
     "text": [
      "{'Name': 'Kelvin', 'Gender': 'Male', 'Religion': 'christian', 'Ethnic': 'kamba', 'Age': 24, 'Marital status': 'single', 'colors': ['red', 'white', 'blue']}\n"
     ]
    }
   ],
   "source": [
    "#The del keyword removes the item with the specified key name:\n",
    "my_dict = {\n",
    "    \"Name\" : \"Kelvin\",\n",
    "    \"Gender\": \"Male\",\n",
    "    \"Religion\": \"christian\",\n",
    "    \"Ethnic\": \"kamba\",\n",
    "    \"Age\" : 24,\n",
    "    \"Marital status\": \"single\",\n",
    "    \"Employed\" : False,\n",
    "    \"colors\": [\"red\", \"white\", \"blue\"]\n",
    "}\n",
    "del my_dict[\"Employed\"]\n",
    "\n",
    "print(my_dict)\n",
    "\n"
   ]
  },
  {
   "cell_type": "code",
   "execution_count": 8,
   "id": "afec7d2e",
   "metadata": {},
   "outputs": [
    {
     "ename": "NameError",
     "evalue": "name 'thisdict' is not defined",
     "output_type": "error",
     "traceback": [
      "\u001b[1;31m---------------------------------------------------------------------------\u001b[0m",
      "\u001b[1;31mNameError\u001b[0m                                 Traceback (most recent call last)",
      "Cell \u001b[1;32mIn[8], line 8\u001b[0m\n\u001b[0;32m      2\u001b[0m thisdict \u001b[38;5;241m=\u001b[39m {\n\u001b[0;32m      3\u001b[0m   \u001b[38;5;124m\"\u001b[39m\u001b[38;5;124mbrand\u001b[39m\u001b[38;5;124m\"\u001b[39m: \u001b[38;5;124m\"\u001b[39m\u001b[38;5;124mFord\u001b[39m\u001b[38;5;124m\"\u001b[39m,\n\u001b[0;32m      4\u001b[0m   \u001b[38;5;124m\"\u001b[39m\u001b[38;5;124mmodel\u001b[39m\u001b[38;5;124m\"\u001b[39m: \u001b[38;5;124m\"\u001b[39m\u001b[38;5;124mMustang\u001b[39m\u001b[38;5;124m\"\u001b[39m,\n\u001b[0;32m      5\u001b[0m   \u001b[38;5;124m\"\u001b[39m\u001b[38;5;124myear\u001b[39m\u001b[38;5;124m\"\u001b[39m: \u001b[38;5;241m1964\u001b[39m\n\u001b[0;32m      6\u001b[0m }\n\u001b[0;32m      7\u001b[0m \u001b[38;5;28;01mdel\u001b[39;00m thisdict\n\u001b[1;32m----> 8\u001b[0m \u001b[38;5;28mprint\u001b[39m(thisdict)\n",
      "\u001b[1;31mNameError\u001b[0m: name 'thisdict' is not defined"
     ]
    }
   ],
   "source": [
    "#del can remove the entire dictionary\n",
    "thisdict = {\n",
    "  \"brand\": \"Ford\",\n",
    "  \"model\": \"Mustang\",\n",
    "  \"year\": 1964\n",
    "}\n",
    "del thisdict\n",
    "print(thisdict) #this will cause an error because \"thisdict\" no longer exists."
   ]
  },
  {
   "cell_type": "code",
   "execution_count": 10,
   "id": "b1e02639",
   "metadata": {},
   "outputs": [
    {
     "name": "stdout",
     "output_type": "stream",
     "text": [
      "{}\n"
     ]
    }
   ],
   "source": [
    "#The clear() method empties the dictionary:\n",
    "\n",
    "my_dict = {\n",
    "    \"name\" : \"mwako\",\n",
    "    \"age\" : 35,\n",
    "    \"ethnic\" : \"kamba\"\n",
    "}\n",
    "\n",
    "my_dict.clear()\n",
    "\n",
    "print(my_dict)"
   ]
  },
  {
   "cell_type": "code",
   "execution_count": 3,
   "id": "87ec9409",
   "metadata": {},
   "outputs": [
    {
     "name": "stdout",
     "output_type": "stream",
     "text": [
      "Name\n",
      "Age\n",
      "marital_status\n",
      "sex\n"
     ]
    }
   ],
   "source": [
    "#loop through the dictionary\n",
    "#Print all key names in the dictionary, one by one:\n",
    "my_dict = {\n",
    "    \"Name\": \"Kelvin\",\n",
    "    \"Age\" : 34,\n",
    "    \"marital_status\" : \"single\",\n",
    "    \"sex\" : \"straight\"\n",
    "}\n",
    "\n",
    "for x in my_dict:\n",
    "    \n",
    "    print(x)"
   ]
  },
  {
   "cell_type": "code",
   "execution_count": 4,
   "id": "cceafa5f",
   "metadata": {},
   "outputs": [
    {
     "name": "stdout",
     "output_type": "stream",
     "text": [
      "Kelvin\n",
      "34\n",
      "single\n",
      "straight\n"
     ]
    }
   ],
   "source": [
    "#Print all values in the dictionary, one by one:\n",
    "my_dict = {\n",
    "    \"Name\": \"Kelvin\",\n",
    "    \"Age\" : 34,\n",
    "    \"marital_status\" : \"single\",\n",
    "    \"sex\" : \"straight\"\n",
    "}\n",
    "\n",
    "for x in my_dict:\n",
    "    \n",
    "    print(my_dict[x])"
   ]
  },
  {
   "cell_type": "code",
   "execution_count": 5,
   "id": "69c3663a",
   "metadata": {},
   "outputs": [
    {
     "name": "stdout",
     "output_type": "stream",
     "text": [
      "Kelvin\n",
      "34\n",
      "single\n",
      "straight\n"
     ]
    }
   ],
   "source": [
    "#you can also use the values() method to return values in dictionary\n",
    "\n",
    "my_dict = {\n",
    "    \"Name\": \"Kelvin\",\n",
    "    \"Age\" : 34,\n",
    "    \"marital_status\" : \"single\",\n",
    "    \"sex\" : \"straight\"\n",
    "}\n",
    "\n",
    "for x in my_dict.values():\n",
    "    \n",
    "    print(x)"
   ]
  },
  {
   "cell_type": "code",
   "execution_count": 6,
   "id": "f1432e48",
   "metadata": {},
   "outputs": [
    {
     "name": "stdout",
     "output_type": "stream",
     "text": [
      "Name\n",
      "Age\n",
      "marital_status\n",
      "sex\n"
     ]
    }
   ],
   "source": [
    "#you can use keys() method to return keys in dictionary\n",
    "my_dict = {\n",
    "    \"Name\": \"Kelvin\",\n",
    "    \"Age\" : 34,\n",
    "    \"marital_status\" : \"single\",\n",
    "    \"sex\" : \"straight\"\n",
    "}\n",
    "\n",
    "for x in my_dict.keys():\n",
    "    print(x)"
   ]
  },
  {
   "cell_type": "code",
   "execution_count": 7,
   "id": "ce6da1d8",
   "metadata": {},
   "outputs": [
    {
     "name": "stdout",
     "output_type": "stream",
     "text": [
      "('Name', 'Kelvin')\n",
      "('Age', 34)\n",
      "('marital_status', 'single')\n",
      "('sex', 'straight')\n"
     ]
    }
   ],
   "source": [
    "#loop through both keys and values using items() method\n",
    "\n",
    "my_dict = {\n",
    "    \"Name\": \"Kelvin\",\n",
    "    \"Age\" : 34,\n",
    "    \"marital_status\" : \"single\",\n",
    "    \"sex\" : \"straight\"\n",
    "}\n",
    "\n",
    "for x in my_dict.items():\n",
    "    print(x)"
   ]
  },
  {
   "cell_type": "code",
   "execution_count": 9,
   "id": "a7f142d2",
   "metadata": {},
   "outputs": [
    {
     "name": "stdout",
     "output_type": "stream",
     "text": [
      "{'Name': 'Kelvin', 'Age': 34, 'marital_status': 'single', 'sex': 'straight'}\n"
     ]
    }
   ],
   "source": [
    "#copy dictionaries\n",
    "#to copy a dictionary you can use a built in function copy() method\n",
    "\n",
    "my_dict = {\n",
    "    \"Name\": \"Kelvin\",\n",
    "    \"Age\" : 34,\n",
    "    \"marital_status\" : \"single\",\n",
    "    \"sex\" : \"straight\"\n",
    "}\n",
    "\n",
    "thisdict = my_dict.copy()\n",
    "\n",
    "print(thisdict)"
   ]
  },
  {
   "cell_type": "code",
   "execution_count": 11,
   "id": "82422880",
   "metadata": {},
   "outputs": [
    {
     "name": "stdout",
     "output_type": "stream",
     "text": [
      "{'Name': 'Kelvin', 'Age': 34, 'marital_status': 'single', 'sex': 'straight'}\n"
     ]
    }
   ],
   "source": [
    "#also you can use dict() method\n",
    "\n",
    "my_dict = {\n",
    "    \"Name\": \"Kelvin\",\n",
    "    \"Age\" : 34,\n",
    "    \"marital_status\" : \"single\",\n",
    "    \"sex\" : \"straight\"\n",
    "}\n",
    "\n",
    "thisdict = dict(my_dict)\n",
    "print(thisdict)"
   ]
  },
  {
   "cell_type": "code",
   "execution_count": 14,
   "id": "56c95b09",
   "metadata": {},
   "outputs": [
    {
     "name": "stdout",
     "output_type": "stream",
     "text": [
      "{'child1': {'Name': 'Kelvin', 'Age': 34}, 'child2': {'Name': 'Mwako', 'Age': 54}, 'child3': {'Name': 'James', 'Age': 40}}\n",
      "4\n"
     ]
    }
   ],
   "source": [
    "#Nested dictionaries\n",
    "#a dictionary can contain another dictionary\n",
    "#create dictionary that contain another three dictionary\n",
    "\n",
    "my_family = {\n",
    "    \"child1\":{\n",
    "        \"Name\":\"Kelvin\",\n",
    "        \"Age\" : 34\n",
    "    },\n",
    "    \"child2\":{\n",
    "        \"Name\":\"Mwako\",\n",
    "        \"Age\":54\n",
    "    },\n",
    "    \"child3\":{\n",
    "        \"Name\":\"James\",\n",
    "        \"Age\":40\n",
    "    }\n",
    "}\n",
    "\n",
    "print(my_family)\n",
    "print(len(my_dict))"
   ]
  },
  {
   "cell_type": "code",
   "execution_count": 16,
   "id": "d6bf7cae",
   "metadata": {},
   "outputs": [
    {
     "name": "stdout",
     "output_type": "stream",
     "text": [
      "{'child1': {'Name': 'Kelvin', 'Age': 32}, 'child2': {'Name': 'James', 'Age': 54}, 'child3': {'Name': 'John', 'Age': 67}}\n"
     ]
    }
   ],
   "source": [
    "#if you want to add three dictionary into a new dictionaries\n",
    "\n",
    "child1 = {\n",
    "    \"Name\":\"Kelvin\",\n",
    "    \"Age\": 32\n",
    "}\n",
    "child2 = {\n",
    "    \"Name\":\"James\",\n",
    "    \"Age\": 54\n",
    "}\n",
    "child3 = {\n",
    "    \"Name\":\"John\",\n",
    "    \"Age\":67\n",
    "}\n",
    "\n",
    "myfamily = {\n",
    "    \"child1\" : child1,\n",
    "    \"child2\" : child2,\n",
    "    \"child3\" : child3\n",
    "}\n",
    "\n",
    "print(myfamily)\n"
   ]
  },
  {
   "cell_type": "code",
   "execution_count": 19,
   "id": "25e66a92",
   "metadata": {},
   "outputs": [
    {
     "name": "stdout",
     "output_type": "stream",
     "text": [
      "James\n"
     ]
    }
   ],
   "source": [
    "#Accessing values from the nested array\n",
    "#print the name of the child2\n",
    "\n",
    "print(myfamily[\"child2\"][\"Name\"])"
   ]
  },
  {
   "cell_type": "code",
   "execution_count": 1,
   "id": "b5852448",
   "metadata": {},
   "outputs": [
    {
     "name": "stdout",
     "output_type": "stream",
     "text": [
      "B is greater than A\n"
     ]
    }
   ],
   "source": [
    "#python if -- else condition\n",
    "#if condition is written using if keyword\n",
    "\n",
    "a = 30\n",
    "b = 56\n",
    "\n",
    "if b > a:\n",
    "    print(\"B is greater than A\")"
   ]
  },
  {
   "cell_type": "code",
   "execution_count": null,
   "id": "b7ccc7cc",
   "metadata": {},
   "outputs": [],
   "source": [
    "#Indentation is used to define a scope\n",
    "#statement without an indentation will cause an error"
   ]
  },
  {
   "cell_type": "code",
   "execution_count": 2,
   "id": "8232ff4e",
   "metadata": {},
   "outputs": [
    {
     "name": "stdout",
     "output_type": "stream",
     "text": [
      "A is equal to B\n"
     ]
    }
   ],
   "source": [
    "#elif condition\n",
    "#it is used when the if condition not true inorder to try the next condition\n",
    "\n",
    "a = 35\n",
    "b = 35\n",
    "if a > b:\n",
    "    print(\"B is greater than A\")\n",
    "    \n",
    "elif a == b:\n",
    "    \n",
    "    print(\"A is equal to B\")"
   ]
  },
  {
   "cell_type": "code",
   "execution_count": 3,
   "id": "b50967b6",
   "metadata": {},
   "outputs": [
    {
     "name": "stdout",
     "output_type": "stream",
     "text": [
      "B is greater than A\n"
     ]
    }
   ],
   "source": [
    "#Else condition\n",
    "#The else keyword catches anything which isn't caught by the preceding conditions.\n",
    "\n",
    "a = 35\n",
    "b = 40\n",
    "\n",
    "if a > b:\n",
    "    print(\"A is greater than B\")\n",
    "    \n",
    "elif a == b:\n",
    "    print(\"A is equal to B\")\n",
    "\n",
    "else:\n",
    "    print(\"B is greater than A\")\n",
    "    "
   ]
  },
  {
   "cell_type": "code",
   "execution_count": 4,
   "id": "7f1244f6",
   "metadata": {},
   "outputs": [
    {
     "name": "stdout",
     "output_type": "stream",
     "text": [
      "B is greater than A\n"
     ]
    }
   ],
   "source": [
    "#else without elif\n",
    "\n",
    "a = 56\n",
    "b = 67\n",
    "\n",
    "if a > b:\n",
    "    print(\"A is the largest number\")\n",
    "    \n",
    "else:\n",
    "    print(\"B is greater than A\")"
   ]
  },
  {
   "cell_type": "code",
   "execution_count": 6,
   "id": "80051dac",
   "metadata": {},
   "outputs": [
    {
     "name": "stdout",
     "output_type": "stream",
     "text": [
      "A is greater than B\n"
     ]
    }
   ],
   "source": [
    "#shorthand if condition\n",
    "#in one line\n",
    "a = 49\n",
    "b = 30\n",
    "if a > b: print(\"A is greater than B\")"
   ]
  },
  {
   "cell_type": "code",
   "execution_count": 10,
   "id": "63c94998",
   "metadata": {},
   "outputs": [
    {
     "name": "stdout",
     "output_type": "stream",
     "text": [
      "b is greater\n"
     ]
    }
   ],
   "source": [
    "#shorthand if--else condition\n",
    "\n",
    "a = 40\n",
    "b = 50\n",
    "\n",
    "print(\"a is greater than b\") if a > b else print(\"b is greater\")\n"
   ]
  },
  {
   "cell_type": "code",
   "execution_count": 11,
   "id": "0774ea42",
   "metadata": {},
   "outputs": [
    {
     "name": "stdout",
     "output_type": "stream",
     "text": [
      "A is not the greatest amongst the three numbers\n"
     ]
    }
   ],
   "source": [
    "#and keyword is a logical operator and is used to combine condition\n",
    "\n",
    "a = 45\n",
    "b = 60\n",
    "c = 75\n",
    "\n",
    "if a > b and a > c:\n",
    "    print(\"A is the greatest number amongst the three\")\n",
    "\n",
    "else:\n",
    "    \n",
    "    print(\"A is not the greatest amongst the three numbers\")\n",
    "    \n",
    "\n",
    "    "
   ]
  },
  {
   "cell_type": "code",
   "execution_count": 12,
   "id": "ba4d13d2",
   "metadata": {},
   "outputs": [
    {
     "name": "stdout",
     "output_type": "stream",
     "text": [
      "B is greater than either A or c\n"
     ]
    }
   ],
   "source": [
    "#or keyword is a logical operator that is used to combine two statements\n",
    "\n",
    "a = 45\n",
    "b = 56\n",
    "c = 90\n",
    "\n",
    "if b > a or a > c:\n",
    "    \n",
    "    print(\"B is greater than either A or c\")\n",
    "    \n",
    "else:\n",
    "    \n",
    "    print(\"B is the greatest number\")"
   ]
  },
  {
   "cell_type": "code",
   "execution_count": 13,
   "id": "98d69e70",
   "metadata": {},
   "outputs": [
    {
     "name": "stdout",
     "output_type": "stream",
     "text": [
      "A is not greater than b\n"
     ]
    }
   ],
   "source": [
    "#not keyword is a logical operator used to reverse the condition of a statement\n",
    "\n",
    "a = 45\n",
    "b = 67\n",
    "c = 57\n",
    "\n",
    "if not a > b:\n",
    "    print(\"A is not greater than b\")"
   ]
  },
  {
   "cell_type": "code",
   "execution_count": 14,
   "id": "d958aede",
   "metadata": {},
   "outputs": [
    {
     "name": "stdout",
     "output_type": "stream",
     "text": [
      "b is not greater\n"
     ]
    }
   ],
   "source": [
    "#nested if condition \n",
    "#if condition inside a if statement is what is called nested if\n",
    "\n",
    "a = 45\n",
    "b = 56\n",
    "c = 67\n",
    "\n",
    "if b > a:\n",
    "    \n",
    "    if b > c:\n",
    "        \n",
    "        print(\"b is greater\")\n",
    "        \n",
    "    else:\n",
    "        \n",
    "        print(\"b is not greater\")"
   ]
  },
  {
   "cell_type": "code",
   "execution_count": 16,
   "id": "c9f55029",
   "metadata": {},
   "outputs": [
    {
     "name": "stdout",
     "output_type": "stream",
     "text": [
      "Above 20\n",
      "Above 40\n"
     ]
    }
   ],
   "source": [
    "b = 45\n",
    "\n",
    "if a > 20:\n",
    "    \n",
    "    print(\"Above 20\")\n",
    "    \n",
    "    if a > 40:\n",
    "        \n",
    "        print(\"Above 40\")\n",
    "        \n",
    "    else:\n",
    "        \n",
    "        print(\"Not above 40\")"
   ]
  },
  {
   "cell_type": "code",
   "execution_count": 17,
   "id": "4d4a0b90",
   "metadata": {},
   "outputs": [],
   "source": [
    "#the pass statement\n",
    "#we use pass statement to avoid an error and also if the statement cannot be empty\n",
    "\n",
    "a = 40\n",
    "b = 45\n",
    "\n",
    "if b > a:\n",
    "    pass"
   ]
  },
  {
   "cell_type": "code",
   "execution_count": 18,
   "id": "708fe0cb",
   "metadata": {},
   "outputs": [
    {
     "name": "stdout",
     "output_type": "stream",
     "text": [
      "1\n",
      "2\n",
      "3\n",
      "4\n",
      "5\n"
     ]
    }
   ],
   "source": [
    "#python has two primitive loop command i.e\n",
    "# for and while\n",
    "\n",
    "#the while loop\n",
    "\n",
    "#the while loop executes a set of the statement as long as the condition is met\n",
    "\n",
    "i = 1\n",
    "\n",
    "while i < 6:\n",
    "    \n",
    "    print(i)\n",
    "    \n",
    "    i += 1"
   ]
  },
  {
   "cell_type": "code",
   "execution_count": 19,
   "id": "da6881b1",
   "metadata": {},
   "outputs": [
    {
     "name": "stdout",
     "output_type": "stream",
     "text": [
      "0\n",
      "1\n",
      "2\n",
      "3\n",
      "4\n"
     ]
    }
   ],
   "source": [
    "#using break statement to stop the loop even if the condition is true\n",
    "\n",
    "i = 0\n",
    "\n",
    "while i < 7:\n",
    "    \n",
    "    print(i)\n",
    "    #exits the loop when i is 4\n",
    "    if i == 4:\n",
    "        \n",
    "        break\n",
    "        \n",
    "    i += 1"
   ]
  },
  {
   "cell_type": "code",
   "execution_count": 21,
   "id": "1a2a9aaa",
   "metadata": {},
   "outputs": [
    {
     "name": "stdout",
     "output_type": "stream",
     "text": [
      "1\n",
      "2\n",
      "3\n",
      "4\n",
      "5\n",
      "6\n",
      "8\n",
      "9\n"
     ]
    }
   ],
   "source": [
    "#the continue statement\n",
    "#it stops the current iteration and then continue with the next\n",
    "\n",
    "i = 0\n",
    "\n",
    "while i < 9:\n",
    "    \n",
    "    i += 1\n",
    "    \n",
    "    if i == 7:\n",
    "        \n",
    "        continue\n",
    "    \n",
    "    print(i)\n",
    "    "
   ]
  },
  {
   "cell_type": "code",
   "execution_count": 22,
   "id": "5fb292b4",
   "metadata": {},
   "outputs": [
    {
     "name": "stdout",
     "output_type": "stream",
     "text": [
      "0\n",
      "1\n",
      "2\n",
      "3\n",
      "4\n",
      "5\n",
      "6\n",
      "7\n",
      "i is no longer less than 8\n"
     ]
    }
   ],
   "source": [
    "#else statement\n",
    "\n",
    "#with else statment we can run a statement once the condition is not true\n",
    "\n",
    "i = 0\n",
    "\n",
    "while i < 8:\n",
    "    \n",
    "    print(i)\n",
    "    \n",
    "    i += 1\n",
    "\n",
    "else:\n",
    "    \n",
    "    print(\"i is no longer less than 8\")"
   ]
  },
  {
   "cell_type": "code",
   "execution_count": 28,
   "id": "bc36904f",
   "metadata": {},
   "outputs": [
    {
     "name": "stdout",
     "output_type": "stream",
     "text": [
      "Apple\n",
      "Cherry\n",
      "banana\n",
      "papaya\n",
      "mangoes\n"
     ]
    }
   ],
   "source": [
    "#python for loops\n",
    "#for loop is used to iterate over sequeences either (tuples,sets,dictionary, string and lists)\n",
    "#print each of the fruit in the fruit lists\n",
    "\n",
    "fruits = [\"Apple\",\"Cherry\",\"banana\",\"papaya\",\"mangoes\"]\n",
    "\n",
    "for x in fruits:\n",
    "    \n",
    "    print(x)\n"
   ]
  },
  {
   "cell_type": "code",
   "execution_count": 29,
   "id": "0c0b9946",
   "metadata": {},
   "outputs": [
    {
     "name": "stdout",
     "output_type": "stream",
     "text": [
      "b\n",
      "a\n",
      "n\n",
      "a\n",
      "n\n",
      "a\n"
     ]
    }
   ],
   "source": [
    "#loop through the letters in \"banana\"\n",
    "\n",
    "for x in \"banana\":\n",
    "    print(x)"
   ]
  },
  {
   "cell_type": "code",
   "execution_count": 30,
   "id": "715ce248",
   "metadata": {},
   "outputs": [
    {
     "name": "stdout",
     "output_type": "stream",
     "text": [
      "apple\n",
      "mangoes\n",
      "\n",
      "The index of the mangoes in fruits list is:  1\n"
     ]
    }
   ],
   "source": [
    "#the break statement inside for loop condition\n",
    "\n",
    "fruits =  [\"apple\",\"mangoes\",\"cherry\",\"berry\",\"banana\"]\n",
    "\n",
    "for x in fruits:\n",
    "    \n",
    "    print(x)\n",
    "    \n",
    "    if x == \"mangoes\":\n",
    "        \n",
    "        break\n",
    "        \n",
    "y = fruits.index(\"mangoes\")\n",
    "\n",
    "print(\"\\nThe index of the mangoes in fruits list is: \", y)"
   ]
  },
  {
   "cell_type": "code",
   "execution_count": 31,
   "id": "d8f73412",
   "metadata": {},
   "outputs": [
    {
     "name": "stdout",
     "output_type": "stream",
     "text": [
      "coffee\n"
     ]
    }
   ],
   "source": [
    "#break coming before the print function\n",
    "\n",
    "lists = ['coffee','tea','berry','tea bag']\n",
    "\n",
    "for x in lists:\n",
    "    \n",
    "    if x == \"tea\":\n",
    "        \n",
    "        break\n",
    "        \n",
    "    print(x)"
   ]
  },
  {
   "cell_type": "code",
   "execution_count": 32,
   "id": "c6de181e",
   "metadata": {},
   "outputs": [
    {
     "name": "stdout",
     "output_type": "stream",
     "text": [
      "kelvin\n",
      "James\n",
      "Rossum\n",
      "Guido\n",
      "Ron\n"
     ]
    }
   ],
   "source": [
    "#the continue statement in for loop\n",
    "\n",
    "lists = ['kelvin','James','John','Rossum','Guido','Ron']\n",
    "\n",
    "for x in lists:\n",
    "    \n",
    "    if x == \"John\":\n",
    "        \n",
    "        continue\n",
    "        \n",
    "    print(x)"
   ]
  },
  {
   "cell_type": "code",
   "execution_count": 33,
   "id": "da9ffbef",
   "metadata": {},
   "outputs": [
    {
     "name": "stdout",
     "output_type": "stream",
     "text": [
      "0\n",
      "1\n",
      "2\n",
      "3\n",
      "4\n"
     ]
    }
   ],
   "source": [
    "#the range function\n",
    "#range starts from 0 then incrementing each value by one\n",
    "x = 5\n",
    "\n",
    "for y in range(x):\n",
    "    \n",
    "    print(y)"
   ]
  },
  {
   "cell_type": "code",
   "execution_count": 34,
   "id": "63214e51",
   "metadata": {},
   "outputs": [
    {
     "name": "stdout",
     "output_type": "stream",
     "text": [
      "2\n",
      "3\n",
      "4\n",
      "5\n"
     ]
    }
   ],
   "source": [
    "#we can specify a starting value in range by adding parameter e.g range(2,6)\n",
    "\n",
    "for x in range(2,6):\n",
    "    \n",
    "    print(x)"
   ]
  },
  {
   "cell_type": "code",
   "execution_count": 35,
   "id": "ebf4b3f0",
   "metadata": {},
   "outputs": [
    {
     "name": "stdout",
     "output_type": "stream",
     "text": [
      "2\n",
      "4\n",
      "6\n",
      "8\n"
     ]
    }
   ],
   "source": [
    "#also you can specify number of steps \n",
    "#it is used to specify the number of increments instead of 1 we are incrementing by 2\n",
    "for x in range(2,10,2):\n",
    "    \n",
    "    print(x)"
   ]
  },
  {
   "cell_type": "code",
   "execution_count": 36,
   "id": "e422b35b",
   "metadata": {},
   "outputs": [
    {
     "name": "stdout",
     "output_type": "stream",
     "text": [
      "5\n",
      "10\n",
      "15\n",
      "20\n",
      "25\n",
      "30\n",
      "35\n",
      "40\n",
      "45\n",
      "The loop has finished\n"
     ]
    }
   ],
   "source": [
    "#Else in for loop\n",
    "#It is used to specify the block of code to be executed when the loop is finished\n",
    "\n",
    "for x in range(5,50,5):\n",
    "    \n",
    "    print(x)\n",
    "    \n",
    "else:\n",
    "    \n",
    "    print(\"The loop has finished\")"
   ]
  },
  {
   "cell_type": "code",
   "execution_count": 37,
   "id": "f9fffcee",
   "metadata": {},
   "outputs": [
    {
     "name": "stdout",
     "output_type": "stream",
     "text": [
      "10\n",
      "15\n",
      "20\n",
      "25\n",
      "30\n",
      "35\n"
     ]
    }
   ],
   "source": [
    "#The else code will not execute if the loop statement is stopped by break statement\n",
    "#using break statement and else statement\n",
    "\n",
    "for x in range(10,50,5):\n",
    "    print(x)\n",
    "    \n",
    "    if x == 35:\n",
    "        \n",
    "        break\n",
    "\n",
    "else:\n",
    "    \n",
    "    print(\"The code has finisheed to execute\")"
   ]
  },
  {
   "cell_type": "code",
   "execution_count": 38,
   "id": "c2098403",
   "metadata": {},
   "outputs": [
    {
     "name": "stdout",
     "output_type": "stream",
     "text": [
      "kelvin Apple\n",
      "kelvin Banana\n",
      "kelvin Mangoes\n",
      "John Apple\n",
      "John Banana\n",
      "John Mangoes\n",
      "James Apple\n",
      "James Banana\n",
      "James Mangoes\n"
     ]
    }
   ],
   "source": [
    "#nested for loop\n",
    "\n",
    "lists = [\"kelvin\",\"John\",\"James\"]\n",
    "fruits = [\"Apple\",\"Banana\",\"Mangoes\"]\n",
    "\n",
    "for x in lists:\n",
    "    \n",
    "    for y in fruits:\n",
    "        \n",
    "        print(x,y)"
   ]
  },
  {
   "cell_type": "code",
   "execution_count": 39,
   "id": "f6ec7b3e",
   "metadata": {},
   "outputs": [],
   "source": [
    "#pass statement in loops\n",
    "\n",
    "for x in range(3,9,3):\n",
    "    \n",
    "    pass"
   ]
  },
  {
   "cell_type": "code",
   "execution_count": null,
   "id": "2d308dca",
   "metadata": {},
   "outputs": [],
   "source": []
  },
  {
   "cell_type": "code",
   "execution_count": 1,
   "id": "8c4d60ca",
   "metadata": {},
   "outputs": [
    {
     "name": "stdout",
     "output_type": "stream",
     "text": [
      "Hello, world!\n"
     ]
    }
   ],
   "source": [
    "#PYTHON FUNCTION\n",
    "#A function is a block of code which usually runs when it is called\n",
    "#We use def keyword to define a function\n",
    "\n",
    "def my_func():\n",
    "    \n",
    "    print(\"Hello, world!\")\n",
    "    \n",
    "my_func()\n"
   ]
  },
  {
   "cell_type": "code",
   "execution_count": 2,
   "id": "6a6972b8",
   "metadata": {},
   "outputs": [
    {
     "name": "stdout",
     "output_type": "stream",
     "text": [
      "Good Afternoon James Lincol\n"
     ]
    }
   ],
   "source": [
    "#to call a function we use the function name followed by the parenthesis\n",
    "def my_func():\n",
    "    \n",
    "    print(\"Good Afternoon James Lincol\")\n",
    "    \n",
    "#call the function my_func()\n",
    "\n",
    "my_func()"
   ]
  },
  {
   "cell_type": "code",
   "execution_count": 4,
   "id": "decbda4f",
   "metadata": {},
   "outputs": [
    {
     "name": "stdout",
     "output_type": "stream",
     "text": [
      "My name is James and I am 45 years old\n"
     ]
    }
   ],
   "source": [
    "#Arguments\n",
    "#we can pass arguments in the function as many as we want separated by a comma\n",
    "\n",
    "def my_func(name,age):\n",
    "    \n",
    "    print(\"My name is {} and I am {} years old\".format(name, age))\n",
    "    \n",
    "#call function\n",
    "my_func(\"James\",45)"
   ]
  },
  {
   "cell_type": "code",
   "execution_count": 5,
   "id": "857adede",
   "metadata": {},
   "outputs": [
    {
     "name": "stdout",
     "output_type": "stream",
     "text": [
      "People usually call me Kelvin Mwako\n"
     ]
    }
   ],
   "source": [
    "#Number of arguments\n",
    "#by default a function must be called by the exact number of arguments else you will experience an error\n",
    "\n",
    "def my_func(fname, lname):\n",
    "    \n",
    "    print(\"People usually call me {} {}\".format(fname,lname))\n",
    "    \n",
    "#call function\n",
    "my_func(\"Kelvin\",\"Mwako\")"
   ]
  },
  {
   "cell_type": "code",
   "execution_count": 6,
   "id": "f1ae614c",
   "metadata": {},
   "outputs": [
    {
     "name": "stdout",
     "output_type": "stream",
     "text": [
      "The youngest kid is PASCAL\n"
     ]
    }
   ],
   "source": [
    "#Arbitrary arguments \n",
    "#if you dont know the number of arguments that will be passed into function just add a * before the parameter name before function definition\n",
    "def my_func(*kids):\n",
    "    \n",
    "    print(\"The youngest kid is {}\".format(kids[2]))\n",
    "    \n",
    "my_func(\"LINCOL\",\"TOBY\",\"PASCAL\",\"CHARLES\",\"GRAHAMS\",\"BOYLES\")"
   ]
  },
  {
   "cell_type": "code",
   "execution_count": 7,
   "id": "b7fdaccb",
   "metadata": {},
   "outputs": [
    {
     "name": "stdout",
     "output_type": "stream",
     "text": [
      "The oldest child amongst the three is BAILY\n"
     ]
    }
   ],
   "source": [
    "#Keyword arguments\n",
    "#key = value\n",
    "#in this order does not matter\n",
    "\n",
    "def my_func(child3,child2,child1):\n",
    "    \n",
    "    print(\"The oldest child amongst the three is {}\".format(child3))\n",
    "    \n",
    "my_func(child1 = \"SHAW\", child2 = \"Kobie\", child3 = \"BAILY\")"
   ]
  },
  {
   "cell_type": "code",
   "execution_count": 12,
   "id": "4b06e001",
   "metadata": {},
   "outputs": [
    {
     "name": "stdout",
     "output_type": "stream",
     "text": [
      "People usually call me by my last name Mwako\n"
     ]
    }
   ],
   "source": [
    "#ARBITRARY KEYWORD ARGUMENTS **KWARGS\n",
    "#If you do not know how many keyword arguments that will be passed into your function,\n",
    "#asterisk: ** before the parameter name in the function definition.\n",
    "\n",
    "def my_func(**kids):\n",
    "    \n",
    "    print(\"People usually call me by my last name \" + kids[\"lname\"])\n",
    "    \n",
    "my_func(fname = \"Kelvin\", lname = \"Mwako\")\n",
    "\n"
   ]
  },
  {
   "cell_type": "code",
   "execution_count": 19,
   "id": "8e49c56e",
   "metadata": {},
   "outputs": [
    {
     "name": "stdout",
     "output_type": "stream",
     "text": [
      "My name is Kelvin Ngumbau and I am 30 years old\n",
      "\n",
      "Below are my personal details\n",
      "\n",
      "ADDRESS: P.O BOX 70 \n",
      "\n",
      "Telephone number: 0746426000\n",
      "\n",
      "Career: Computer science \n",
      "\n",
      "Email number: mwakokelvin1@gmail.com\n"
     ]
    }
   ],
   "source": [
    "#PARAMETER, ARBITRATRY ARGUMENTS AND ARBITRARY KEYWORD ARGUMENTS TOGETHER IN A FUNCTION\n",
    "\n",
    "def person(x,*names,**data):\n",
    "    \n",
    "    print(\"My name is {} {} and I am {} years old\".format(names[0],names[1],x))\n",
    "    print(\"\\nBelow are my personal details\")\n",
    "    print(\"\\nADDRESS: {} \".format(data[\"address\"]))\n",
    "    print(\"\\nTelephone number: {}\".format(data[\"tel_no\"]))\n",
    "    print(\"\\nCareer: {} \".format(data[\"career\"]))\n",
    "    print(\"\\nEmail number: {}\".format(data[\"email\"]))\n",
    "    \n",
    "person(30,\"Kelvin\",\"Ngumbau\",address = \"P.O BOX 70\",tel_no = \"0746426000\", career = \"Computer science\",email = \"mwakokelvin1@gmail.com\")\n"
   ]
  },
  {
   "cell_type": "code",
   "execution_count": 21,
   "id": "4cc9634f",
   "metadata": {},
   "outputs": [
    {
     "name": "stdout",
     "output_type": "stream",
     "text": [
      "My country is  Sweden\n",
      "My country is  Jamaica\n",
      "My country is  Kenya\n",
      "My country is  Serbia\n",
      "My country is  England\n"
     ]
    }
   ],
   "source": [
    "#Default parameter value\n",
    "#if we call a function without a paramter value it uses the default value defined in the function declaration\n",
    "\n",
    "def my_country(country = \"Kenya\"):\n",
    "    \n",
    "    print(\"My country is \", country)\n",
    "    \n",
    "my_country(\"Sweden\")\n",
    "my_country(\"Jamaica\")\n",
    "my_country()\n",
    "my_country(\"Serbia\")\n",
    "my_country(\"England\")"
   ]
  },
  {
   "cell_type": "code",
   "execution_count": 27,
   "id": "4efc7ce7",
   "metadata": {},
   "outputs": [
    {
     "name": "stdout",
     "output_type": "stream",
     "text": [
      "Apple\n",
      "Cherry\n",
      "Mango\n",
      "Banana\n",
      "Papaya\n"
     ]
    }
   ],
   "source": [
    "#PASSING A LIST IN A FUNCTION\n",
    "def my_func(food):\n",
    "\n",
    "    for x in food:\n",
    "    \n",
    "        print(x)\n",
    "    \n",
    "fruits = [\"Apple\",\"Cherry\",\"Mango\",\"Banana\",\"Papaya\"]\n",
    "\n",
    "my_func(fruits)\n"
   ]
  },
  {
   "cell_type": "code",
   "execution_count": 29,
   "id": "5d907093",
   "metadata": {},
   "outputs": [
    {
     "name": "stdout",
     "output_type": "stream",
     "text": [
      "9\n"
     ]
    }
   ],
   "source": [
    "#RETURN VALUES IN PYTHON\n",
    "#We use a return statement\n",
    "\n",
    "def my_func(sum):\n",
    "    sum = 4 + 5\n",
    "    return sum\n",
    "\n",
    "print(my_func(sum))"
   ]
  },
  {
   "cell_type": "code",
   "execution_count": 30,
   "id": "ceee50bb",
   "metadata": {},
   "outputs": [
    {
     "name": "stdout",
     "output_type": "stream",
     "text": [
      "140\n"
     ]
    }
   ],
   "source": [
    "#another example\n",
    "\n",
    "def my_func(x):\n",
    "    \n",
    "    return x * 7\n",
    "\n",
    "print(my_func(5)*4)"
   ]
  },
  {
   "cell_type": "code",
   "execution_count": 31,
   "id": "0783b289",
   "metadata": {},
   "outputs": [
    {
     "name": "stdout",
     "output_type": "stream",
     "text": [
      "120\n"
     ]
    }
   ],
   "source": [
    "#recursion in python\n",
    "#it involves calling a function itself multiple times until the base case is attained\n",
    "#finobacci in python\n",
    "\n",
    "def finobacci(n):\n",
    "    \n",
    "    #base case\n",
    "    \n",
    "    if n == 0 or n == 1:\n",
    "        \n",
    "        return 1\n",
    "    #recursive case\n",
    "    else:\n",
    "        \n",
    "        return n * finobacci(n-1) \n",
    "    \n",
    "print(finobacci(5))"
   ]
  },
  {
   "cell_type": "code",
   "execution_count": 37,
   "id": "b7d4a23b",
   "metadata": {},
   "outputs": [
    {
     "name": "stdout",
     "output_type": "stream",
     "text": [
      "3\n",
      "6\n",
      "10\n",
      "15\n",
      "15\n"
     ]
    }
   ],
   "source": [
    "#example 2 on recuesion\n",
    "\n",
    "def summation(n):\n",
    "    \n",
    "    if n == 1:\n",
    "        \n",
    "        return 1\n",
    "    \n",
    "    else:\n",
    "        \n",
    "        result =  n + summation(n-1)\n",
    "        \n",
    "        return result\n",
    "        \n",
    "print(summation(5))"
   ]
  },
  {
   "cell_type": "code",
   "execution_count": 41,
   "id": "c0abbb4b",
   "metadata": {},
   "outputs": [
    {
     "name": "stdout",
     "output_type": "stream",
     "text": [
      "1\n",
      "3\n",
      "6\n",
      "10\n"
     ]
    },
    {
     "data": {
      "text/plain": [
       "10"
      ]
     },
     "execution_count": 41,
     "metadata": {},
     "output_type": "execute_result"
    }
   ],
   "source": [
    "#EXAMPLE 3\n",
    "def tri_cursion(k):\n",
    "    \n",
    "    if k > 0:\n",
    "        \n",
    "        result = k + tri_cursion(k-1)\n",
    "        \n",
    "        print(result)\n",
    "        \n",
    "    else:\n",
    "        \n",
    "        result = 0\n",
    "        \n",
    "    return result\n",
    "    \n",
    "tri_cursion(4)"
   ]
  },
  {
   "cell_type": "code",
   "execution_count": 42,
   "id": "732e34b8",
   "metadata": {},
   "outputs": [
    {
     "name": "stdout",
     "output_type": "stream",
     "text": [
      "40\n"
     ]
    }
   ],
   "source": [
    "#LAMBDA IN PYTHON\n",
    "#Is a small anonymus function\n",
    "#It can take any number of Arguments But it should be in one expression\n",
    "\n",
    "x = lambda n : n * 8\n",
    "\n",
    "print(x(5))"
   ]
  },
  {
   "cell_type": "code",
   "execution_count": 43,
   "id": "def085fb",
   "metadata": {},
   "outputs": [
    {
     "name": "stdout",
     "output_type": "stream",
     "text": [
      "11\n"
     ]
    }
   ],
   "source": [
    "#Lambda function with more than one Argument\n",
    "\n",
    "x = lambda n, m: n + m\n",
    "\n",
    "print(x(5,6))"
   ]
  },
  {
   "cell_type": "code",
   "execution_count": 44,
   "id": "902d37b0",
   "metadata": {},
   "outputs": [
    {
     "name": "stdout",
     "output_type": "stream",
     "text": [
      "13\n"
     ]
    }
   ],
   "source": [
    "#Lambda function inside another function\n",
    "\n",
    "def myfunc(n):\n",
    "    \n",
    "    return lambda x: x + n\n",
    "\n",
    "double = myfunc(6)\n",
    "\n",
    "print(double(7))"
   ]
  },
  {
   "cell_type": "code",
   "execution_count": 45,
   "id": "e5825784",
   "metadata": {},
   "outputs": [
    {
     "name": "stdout",
     "output_type": "stream",
     "text": [
      "22\n",
      "66\n"
     ]
    }
   ],
   "source": [
    "def myfunc(m):\n",
    "    \n",
    "    return lambda n: n * m\n",
    "\n",
    "mydoubler = myfunc(11)\n",
    "mytripler = myfunc(22)\n",
    "\n",
    "print(mydoubler(2))\n",
    "print(mytripler(3))"
   ]
  },
  {
   "cell_type": "code",
   "execution_count": 49,
   "id": "9c7e2992",
   "metadata": {},
   "outputs": [
    {
     "name": "stdout",
     "output_type": "stream",
     "text": [
      "['Volvo', 'Benz', 'Audi', 'Subaru', 'V8']\n",
      "<class 'list'>\n",
      "5\n"
     ]
    }
   ],
   "source": [
    "#ARRAYS IN LIST\n",
    "#Python does not have built-in support for Arrays, but Python Lists can be used instead.\n",
    "#Arrays are used to store multiple values in one single variable:\n",
    "\n",
    "\n",
    "cars = [\"Volvo\",\"Benz\",\"Audi\",\"Subaru\",\"V8\"]\n",
    "print(cars)\n",
    "print(type(cars))\n",
    "print(len(cars))"
   ]
  },
  {
   "cell_type": "code",
   "execution_count": 63,
   "id": "5ed97979",
   "metadata": {},
   "outputs": [
    {
     "name": "stdout",
     "output_type": "stream",
     "text": [
      "my name is  kelvin\n",
      "my name is  Irene\n",
      "You are not eligible to vote\n",
      "You are eligible to vote\n"
     ]
    }
   ],
   "source": [
    "#PYTHON CLASSES AND OBJECTS\n",
    "#Python is an object oriented programming language\n",
    "#Actually everything in python is an object with a property and methods\n",
    "\n",
    "class person :\n",
    "    \n",
    "    #class construtor function\n",
    "    \n",
    "    def __init__(self,name,gender,age):\n",
    "        \n",
    "        self.name = name\n",
    "        self.gender = gender\n",
    "        self.age = age\n",
    "        \n",
    "    def talk(self):\n",
    "        \n",
    "        print(\"my name is \",self.name)\n",
    "        \n",
    "    def vote(self):\n",
    "        \n",
    "        if self.age < 18:\n",
    "            \n",
    "            print(\"You are not eligible to vote\")\n",
    "            \n",
    "        else:\n",
    "            \n",
    "            print(\"You are eligible to vote\")\n",
    "            \n",
    "obj = person(\"kelvin\",\"male\",17)\n",
    "obj1 = person(\"Irene\",\"female\",25)\n",
    "    \n",
    "obj.talk()\n",
    "obj1.talk()\n",
    "obj.vote()\n",
    "obj1.vote()"
   ]
  },
  {
   "cell_type": "code",
   "execution_count": 64,
   "id": "f528cc86",
   "metadata": {},
   "outputs": [
    {
     "data": {
      "text/plain": [
       "5"
      ]
     },
     "execution_count": 64,
     "metadata": {},
     "output_type": "execute_result"
    }
   ],
   "source": [
    " class pie:\n",
    "        \n",
    "        x = 5\n",
    "        \n",
    "obj = pie()\n",
    "\n",
    "obj.x"
   ]
  },
  {
   "cell_type": "code",
   "execution_count": 65,
   "id": "e8f4c028",
   "metadata": {},
   "outputs": [
    {
     "name": "stdout",
     "output_type": "stream",
     "text": [
      "Kelvin\n",
      "35\n"
     ]
    }
   ],
   "source": [
    "#__init__ function\n",
    "\n",
    "class Myclass:\n",
    "    \n",
    "    def __init__(self,name,age):\n",
    "        \n",
    "        self.name = name\n",
    "        self.age = age\n",
    "        \n",
    "        \n",
    "obj = Myclass(\"Kelvin\",35)\n",
    "\n",
    "print(obj.name)\n",
    "print(obj.age)"
   ]
  },
  {
   "cell_type": "code",
   "execution_count": 68,
   "id": "017ed9cb",
   "metadata": {},
   "outputs": [
    {
     "name": "stdout",
     "output_type": "stream",
     "text": [
      "('John', {45}))\n"
     ]
    }
   ],
   "source": [
    "#THE __STR__ FUNCTION\n",
    "#The __str__() function controls what should be returned when the class object is represented as a string.\n",
    "#If the __str__() function is not set, the string representation of the object is returned:\n",
    "\n",
    "class Myclass:\n",
    "    \n",
    "    def __init__(self,name,age):\n",
    "        \n",
    "        self.name = name\n",
    "        self.age = age\n",
    "        \n",
    "    def __str__(self):\n",
    "        \n",
    "        return f\"{self.name,({self.age})})\"\n",
    "    \n",
    "obj = Myclass(\"John\",45)\n",
    "\n",
    "print(obj)"
   ]
  },
  {
   "cell_type": "code",
   "execution_count": 69,
   "id": "7fa76c45",
   "metadata": {},
   "outputs": [
    {
     "name": "stdout",
     "output_type": "stream",
     "text": [
      "Hello my name is John\n"
     ]
    }
   ],
   "source": [
    "#OBJECTS METHODS\n",
    "\n",
    "class myclass:\n",
    "    \n",
    "    def __init__(self,name,age):\n",
    "        \n",
    "        self.name = name\n",
    "        self.age = age\n",
    "        \n",
    "    def myfunc(self):\n",
    "        \n",
    "        print(f\"Hello my name is {self.name}\")\n",
    "        \n",
    "obj = myclass(\"John\",45)\n",
    "\n",
    "obj.myfunc()"
   ]
  },
  {
   "cell_type": "code",
   "execution_count": 71,
   "id": "1e53c49d",
   "metadata": {},
   "outputs": [
    {
     "name": "stdout",
     "output_type": "stream",
     "text": [
      "45\n"
     ]
    }
   ],
   "source": [
    "#DELETE AN OBJECT properties FROM CLASS USING del keyword\n",
    "#del keyword\n",
    "\n",
    "class myclass:\n",
    "    \n",
    "    def __init__(self,name,age):\n",
    "        \n",
    "        self.name = name\n",
    "        self.age = age\n",
    "        \n",
    "    def myfunc(self):\n",
    "        \n",
    "        print(\"My name is \".format(self.name))\n",
    "        \n",
    "obj = myclass(\"kelvin\",45)\n",
    "\n",
    "del obj.age\n",
    "\n",
    "print(obj.age)"
   ]
  },
  {
   "cell_type": "code",
   "execution_count": 73,
   "id": "84a7e658",
   "metadata": {},
   "outputs": [
    {
     "name": "stdout",
     "output_type": "stream",
     "text": [
      "my name is Kelvin and I am 40 years old\n",
      "None\n"
     ]
    },
    {
     "ename": "NameError",
     "evalue": "name 'obj' is not defined",
     "output_type": "error",
     "traceback": [
      "\u001b[1;31m---------------------------------------------------------------------------\u001b[0m",
      "\u001b[1;31mNameError\u001b[0m                                 Traceback (most recent call last)",
      "Cell \u001b[1;32mIn[73], line 21\u001b[0m\n\u001b[0;32m     18\u001b[0m \u001b[38;5;28;01mdel\u001b[39;00m obj\n\u001b[0;32m     20\u001b[0m \u001b[38;5;28mprint\u001b[39m(obj1\u001b[38;5;241m.\u001b[39mmyfunc())\n\u001b[1;32m---> 21\u001b[0m \u001b[38;5;28mprint\u001b[39m(obj\u001b[38;5;241m.\u001b[39mmyfunc())\n",
      "\u001b[1;31mNameError\u001b[0m: name 'obj' is not defined"
     ]
    }
   ],
   "source": [
    "#DELETING THE WHOLE OBJECT\n",
    "\n",
    "class myclass:\n",
    "    \n",
    "    def __init__(self,name,age):\n",
    "        \n",
    "        self.name = name\n",
    "        self.age =age\n",
    "        \n",
    "    def myfunc(self):\n",
    "        \n",
    "        print(\"my name is {} and I am {} years old\".format(self.name,self.age))\n",
    "        \n",
    "        \n",
    "obj = myclass(\"John\",45)\n",
    "obj1 = myclass(\"Kelvin\",40)\n",
    "\n",
    "del obj\n",
    "\n",
    "print(obj1.myfunc())\n",
    "print(obj.myfunc())"
   ]
  },
  {
   "cell_type": "code",
   "execution_count": 1,
   "id": "ad580558",
   "metadata": {},
   "outputs": [
    {
     "name": "stdout",
     "output_type": "stream",
     "text": [
      "My name is Francis Odiero\n"
     ]
    }
   ],
   "source": [
    "#Python inheritance\n",
    "#inheritance inherits everything from the parent class \n",
    "#creating a class with name Person and firstname and lastname attributes with method printname\n",
    "class Person:\n",
    "    \n",
    "    def __init__(self,fname,lname):\n",
    "        \n",
    "        self.firstname = fname\n",
    "        self.lastname = lname\n",
    "        \n",
    "    def printname(self):\n",
    "        \n",
    "        print(\"My name is {} {}\".format(self.firstname,self.lastname))\n",
    "        \n",
    "        \n",
    "        \n",
    "myobj = Person(\"Francis\",\"Odiero\")\n",
    "\n",
    "myobj.printname()\n",
    "        \n",
    "    "
   ]
  },
  {
   "cell_type": "code",
   "execution_count": 2,
   "id": "8b784b89",
   "metadata": {},
   "outputs": [
    {
     "name": "stdout",
     "output_type": "stream",
     "text": [
      "My name is Francis Odiero\n"
     ]
    }
   ],
   "source": [
    "#Creating a child class (derived class)\n",
    "\n",
    "class Person:\n",
    "    \n",
    "    def __init__(self,fname,lname):\n",
    "        \n",
    "        self.firstname = fname\n",
    "        self.lastname = lname\n",
    "        \n",
    "    def printname(self):\n",
    "        \n",
    "        print(\"My name is {} {}\".format(self.firstname,self.lastname))\n",
    "        \n",
    "        \n",
    "class Student(Person):\n",
    "    \n",
    "    pass\n",
    "\n",
    "        \n",
    "        \n",
    "        \n",
    "myobj = Person(\"Francis\",\"Odiero\")\n",
    "\n",
    "myobj.printname()"
   ]
  },
  {
   "cell_type": "code",
   "execution_count": 3,
   "id": "ec6390b4",
   "metadata": {},
   "outputs": [
    {
     "name": "stdout",
     "output_type": "stream",
     "text": [
      "My name is James Mwangi\n"
     ]
    }
   ],
   "source": [
    "#now the Student class has the same attributes and methods as person class\n",
    "#now we create an object using student class and output the printname method\n",
    "\n",
    "class Person:\n",
    "    \n",
    "    def __init__(self,fname,lname):\n",
    "        \n",
    "        self.firstname = fname\n",
    "        self.lastname = lname\n",
    "        \n",
    "    def printname(self):\n",
    "        \n",
    "        print(\"My name is {} {}\".format(self.firstname,self.lastname))\n",
    "        \n",
    "        \n",
    "        \n",
    "myobj = Person(\"Francis\",\"Odiero\")\n",
    "#creating an object using student class\n",
    "\n",
    "student1 = Student(\"James\",\"Mwangi\")\n",
    "\n",
    "\n",
    "student1.printname()"
   ]
  },
  {
   "cell_type": "code",
   "execution_count": 4,
   "id": "be820f99",
   "metadata": {},
   "outputs": [
    {
     "name": "stdout",
     "output_type": "stream",
     "text": [
      "My name is Luke Shaw\n"
     ]
    }
   ],
   "source": [
    "#Adding __init__ function inside the child class\n",
    "#the child class will no longer inherits from the parent class\n",
    "#this is because the __init__ function will overrides the function of __init__ in parent class\n",
    "#to overcome this add a call to the __init__ parent function\n",
    "\n",
    "class Person:\n",
    "    \n",
    "    def __init__(self,fname,lname):\n",
    "        \n",
    "        self.firstname = fname\n",
    "        self.lastname = lname\n",
    "        \n",
    "    def printname(self):\n",
    "        \n",
    "        print(\"My name is {} {}\".format(self.firstname,self.lastname))\n",
    "        \n",
    "class Student(Person):\n",
    "    \n",
    "    def __init__(self,fname,lname):\n",
    "        \n",
    "    #adding a call to the __init__ parent function\n",
    "        Person.__init__(self,fname,lname)\n",
    "        \n",
    "        \n",
    "        \n",
    "        \n",
    "        \n",
    "myobj = Person(\"Francis\",\"Odiero\")\n",
    "student1 = Student(\"Luke\",\"Shaw\")\n",
    "\n",
    "\n",
    "student1.printname()"
   ]
  },
  {
   "cell_type": "code",
   "execution_count": 6,
   "id": "61103ccf",
   "metadata": {},
   "outputs": [
    {
     "name": "stdout",
     "output_type": "stream",
     "text": [
      "My name is Francis Odiero\n"
     ]
    }
   ],
   "source": [
    "#USE SUPPER FUNCTION \n",
    "#Python has super() function which enables the child class to inherit all the methods and properties of a parent class\n",
    "\n",
    "class Person:\n",
    "    \n",
    "    def __init__(self,fname,lname):\n",
    "        \n",
    "        self.firstname = fname\n",
    "        self.lastname = lname\n",
    "        \n",
    "    def printname(self):\n",
    "        \n",
    "        print(\"My name is {} {}\".format(self.firstname,self.lastname))\n",
    "        \n",
    "class Student(Person):\n",
    "    \n",
    "    def __init__(self,fname,lname):\n",
    "        \n",
    "        super().__init__(fname,lname)\n",
    "        \n",
    "        \n",
    "        \n",
    "myobj = Student(\"Francis\",\"Odiero\")\n",
    "\n",
    "myobj.printname()"
   ]
  },
  {
   "cell_type": "code",
   "execution_count": 8,
   "id": "a428cd56",
   "metadata": {},
   "outputs": [
    {
     "name": "stdout",
     "output_type": "stream",
     "text": [
      "I graduated in  2023\n"
     ]
    }
   ],
   "source": [
    "#ADDING PROPERTY TO THE CHILD CLASS STUDENT\n",
    "\n",
    "class Person:\n",
    "    \n",
    "    def __init__(self,fname,lname):\n",
    "        \n",
    "        self.firstname = fname\n",
    "        self.lastname = lname\n",
    "        \n",
    "    def printname(self):\n",
    "        \n",
    "        print(\"My name is {} {}\".format(self.firstname,self.lastname))\n",
    "\n",
    "class Student(Person):\n",
    "    \n",
    "    def __init__(self,fname,lname):\n",
    "        \n",
    "        super().__init__(fname,lname)\n",
    "         \n",
    "        self.graduationYear = 2023\n",
    "        \n",
    "        \n",
    "        \n",
    "myobj = Student(\"Francis\",\"Odiero\")\n",
    "\n",
    "print(\"I graduated in \",myobj.graduationYear)\n"
   ]
  },
  {
   "cell_type": "code",
   "execution_count": 9,
   "id": "0c7cc1a9",
   "metadata": {},
   "outputs": [
    {
     "name": "stdout",
     "output_type": "stream",
     "text": [
      "I graduated in  2023\n"
     ]
    }
   ],
   "source": [
    "#we can also add another parameter inside the __init__() method in derived class Student\n",
    "\n",
    "class Person:\n",
    "    \n",
    "    def __init__(self,fname,lname):\n",
    "        \n",
    "        self.firstname = fname\n",
    "        self.lastname = lname\n",
    "        \n",
    "    def printname(self):\n",
    "        \n",
    "        print(\"My name is {} {}\".format(self.firstname,self.lastname))\n",
    "\n",
    "class Student(Person):\n",
    "    \n",
    "    def __init__(self,fname,lname,year):\n",
    "        \n",
    "        super().__init__(fname,lname)\n",
    "         \n",
    "        self.graduationYear = year\n",
    "        \n",
    "        \n",
    "        \n",
    "myobj = Student(\"Francis\",\"Odiero\", 2023)\n",
    "\n",
    "print(\"I graduated in \",myobj.graduationYear)"
   ]
  },
  {
   "cell_type": "code",
   "execution_count": 12,
   "id": "ee8a371c",
   "metadata": {},
   "outputs": [
    {
     "name": "stdout",
     "output_type": "stream",
     "text": [
      "Hello Kelvin Mwako welcome to class of 2023\n"
     ]
    }
   ],
   "source": [
    "#ADD METHODS\n",
    "#Add a method called welcome to Student class\n",
    "\n",
    "class Person:\n",
    "    \n",
    "    def __init__(self,fname,lname):\n",
    "        \n",
    "        self.fname = fname\n",
    "        self.lname = lname\n",
    "        \n",
    "    def printname(self):\n",
    "        \n",
    "        print(\"My full names are {} {}\".format(self.fname,self.lname))\n",
    "        \n",
    "        \n",
    "class Student(Person):\n",
    "    \n",
    "    def __init__(self,fname,lname,year):\n",
    "        \n",
    "        super().__init__(fname,lname)\n",
    "        \n",
    "        self.graduationyear = year\n",
    "        \n",
    "    def welcome(self):\n",
    "        \n",
    "        print(\"Hello {} {} welcome to class of {}\".format(self.fname,self.lname,self.graduationyear))\n",
    "        \n",
    "        \n",
    "myobj = Student(\"Kelvin\",\"Mwako\",2023)\n",
    "\n",
    "myobj.welcome()"
   ]
  },
  {
   "cell_type": "code",
   "execution_count": 1,
   "id": "17931b4c",
   "metadata": {},
   "outputs": [
    {
     "name": "stdout",
     "output_type": "stream",
     "text": [
      "Apple\n",
      "Mangoes\n",
      "Banana\n"
     ]
    }
   ],
   "source": [
    "#ITERATORS IN PYTHON\n",
    "#It is an object that contains a countable number of value\n",
    "#Iterators consists of the methods __iter__() and __next__()\n",
    "#Below have an iter() method that is used to get iterators\n",
    "\n",
    "mytuple = (\"Apple\",\"Mangoes\",\"Banana\")\n",
    "\n",
    "myiter = iter(mytuple)\n",
    "\n",
    "print(next(myiter))\n",
    "print(next(myiter))\n",
    "print(next(myiter))"
   ]
  },
  {
   "cell_type": "code",
   "execution_count": 2,
   "id": "8c39aa78",
   "metadata": {},
   "outputs": [
    {
     "name": "stdout",
     "output_type": "stream",
     "text": [
      "B\n",
      "a\n",
      "n\n",
      "a\n",
      "n\n",
      "a\n"
     ]
    }
   ],
   "source": [
    "#Even strings are iterable objects and can return iterator too\n",
    "\n",
    "mystr = \"Banana\"\n",
    "\n",
    "myiter = iter(mystr)\n",
    "\n",
    "print(next(myiter))\n",
    "print(next(myiter))\n",
    "print(next(myiter))\n",
    "print(next(myiter))\n",
    "print(next(myiter))\n",
    "print(next(myiter))"
   ]
  },
  {
   "cell_type": "code",
   "execution_count": 3,
   "id": "cf40685d",
   "metadata": {},
   "outputs": [
    {
     "name": "stdout",
     "output_type": "stream",
     "text": [
      "B\n",
      "a\n",
      "n\n",
      "a\n",
      "n\n",
      "a\n"
     ]
    }
   ],
   "source": [
    "#looping through an iterator \n",
    "#we can use for loop\n",
    "\n",
    "mystr = \"Banana\"\n",
    "\n",
    "for x in mystr:\n",
    "    \n",
    "    print(x)\n"
   ]
  },
  {
   "cell_type": "code",
   "execution_count": 10,
   "id": "6dfcffdb",
   "metadata": {},
   "outputs": [
    {
     "name": "stdout",
     "output_type": "stream",
     "text": [
      "1\n",
      "2\n",
      "3\n",
      "4\n",
      "5\n",
      "6\n"
     ]
    }
   ],
   "source": [
    "#CREATE AN ITERATOR\n",
    "#To create an object/class as an iterator you have to implement the methods __iter__() and __next__() to your object.\n",
    "#The __iter__() method acts similar, you can do operations (initializing etc.), \n",
    "#but must always return the iterator object itself.\n",
    "#The __next__() method also allows you to do operations, and must return the next item in the sequence.\n",
    "#Create an iterator that returns numbers, starting with 1, and each sequence will increase by one (returning 1,2,3,4,5 etc.):\n",
    "\n",
    "class MyIterator:\n",
    "    \n",
    "    def __iter__(self):\n",
    "        \n",
    "        self.a = 1\n",
    "        \n",
    "        return self\n",
    "    \n",
    "    def __next__(self):\n",
    "        \n",
    "        x =self.a\n",
    "        \n",
    "        self.a += 1\n",
    "        \n",
    "        return x\n",
    "        \n",
    "myclass = MyIterator()\n",
    "\n",
    "myiter = iter(myclass)\n",
    "\n",
    "print(next(myiter))\n",
    "print(next(myiter))\n",
    "print(next(myiter))\n",
    "print(next(myiter))\n",
    "print(next(myiter))\n",
    "print(next(myiter))\n"
   ]
  },
  {
   "cell_type": "code",
   "execution_count": 11,
   "id": "498c55d0",
   "metadata": {},
   "outputs": [
    {
     "name": "stdout",
     "output_type": "stream",
     "text": [
      "1\n",
      "2\n",
      "3\n",
      "4\n",
      "5\n",
      "6\n",
      "7\n",
      "8\n",
      "9\n",
      "10\n",
      "11\n",
      "12\n",
      "13\n",
      "14\n",
      "15\n",
      "16\n",
      "17\n",
      "18\n",
      "19\n",
      "20\n"
     ]
    }
   ],
   "source": [
    "#STOP ITERATION\n",
    "#To prevent the iteration from going on forever, we can use the StopIteration statement.\n",
    "#In the __next__() method, \n",
    "#we can add a terminating condition to raise an error if the iteration is done a specified number of times:\n",
    "\n",
    "#this examples stops after 20 iterations\n",
    "class myIterator:\n",
    "    \n",
    "    def __iter__(self):\n",
    "        \n",
    "        self.a = 1\n",
    "        \n",
    "        return self\n",
    "    \n",
    "    def __next__(self):\n",
    "        if self.a <= 20:\n",
    "            x = self.a\n",
    "        \n",
    "            self.a += 1\n",
    "        \n",
    "            return x\n",
    "        \n",
    "        else:\n",
    "            \n",
    "            raise StopIteration\n",
    "            \n",
    "myclass = myIterator()\n",
    "\n",
    "myiter = iter(myclass)\n",
    "\n",
    "\n",
    "for x in myiter:\n",
    "    \n",
    "    print(x)\n",
    "    "
   ]
  },
  {
   "cell_type": "code",
   "execution_count": 12,
   "id": "7f0cce15",
   "metadata": {},
   "outputs": [
    {
     "name": "stdout",
     "output_type": "stream",
     "text": [
      "6\n",
      "4\n",
      "3\n",
      "2\n"
     ]
    }
   ],
   "source": [
    "#PYTHON POLYMORPHISM\n",
    "#POLYMORPHISM means many Forms\n",
    "#an example of python function that can be used in many forms is len()\n",
    "#it can be used in string, dictionary, tuples, lists, ... etc\n",
    "\n",
    "mystr = \"Banana\"\n",
    "\n",
    "mytuple = (\"apple\",\"banana\",\"papaya\",\"cherry\")\n",
    "\n",
    "myset = {\"age\",\"name\",\"sex\"}\n",
    "\n",
    "mylist = [\"apple\",\"banana\"]\n",
    "\n",
    "print(len(mystr))\n",
    "print(len(mytuple))\n",
    "print(len(myset))\n",
    "print(len(mylist))"
   ]
  },
  {
   "cell_type": "code",
   "execution_count": 15,
   "id": "f77c92e4",
   "metadata": {},
   "outputs": [
    {
     "name": "stdout",
     "output_type": "stream",
     "text": [
      "Drive\n",
      "sail\n",
      "fly\n"
     ]
    }
   ],
   "source": [
    "#CLASS POLYMORPHISM\n",
    "#Polymorphism is often used in Class methods, where we can have multiple classes with the same method name.\n",
    "#BELOW EXAMPLE WE HAVE THREE CLASSES AND IN BOTH CLASSES WE HAVE MOVE() METHOD\n",
    "#THE THREE CLASSES ARE CAR,BOAT,PLANE\n",
    "\n",
    "class car:\n",
    "    \n",
    "    def __init__(self,brand,model):\n",
    "        \n",
    "        self.brand = brand\n",
    "        self.model = model\n",
    "        \n",
    "    def move(self):\n",
    "        \n",
    "        print(\"Drive\")\n",
    "        \n",
    "class boat:\n",
    "    \n",
    "    def __init__(self,brand,model):\n",
    "        \n",
    "        self.brand = brand\n",
    "        self.model = model\n",
    "        \n",
    "    def move(self):\n",
    "        \n",
    "        print(\"sail\")\n",
    "        \n",
    "        \n",
    "class plane:\n",
    "    \n",
    "    def __init__(self,brand,model):\n",
    "        \n",
    "        self.brand = brand\n",
    "        self.model = model\n",
    "        \n",
    "    def move(self):\n",
    "        \n",
    "        print(\"fly\")\n",
    "        \n",
    "        \n",
    "car1 = car(\"Ford\",\"BMW\")\n",
    "boat1 = boat(\"ibiza\",\"Turing 20\")\n",
    "plane1 = plane(\"boeiying\",\"5 ky\")\n",
    "\n",
    "for x in (car1,boat1,plane1):\n",
    "    \n",
    "    x.move()"
   ]
  },
  {
   "cell_type": "code",
   "execution_count": 16,
   "id": "3d1faf09",
   "metadata": {},
   "outputs": [
    {
     "name": "stdout",
     "output_type": "stream",
     "text": [
      "Ford\n",
      "V8\n",
      "move\n",
      "Ibiza\n",
      "KQX\n",
      "Fly\n",
      "boeying\n",
      "45 k\n",
      "Sail\n"
     ]
    }
   ],
   "source": [
    "#INHERITANCE CLASS POLYMORPHISM\n",
    "\n",
    "class vehicle:\n",
    "    \n",
    "    def __init__(self,brand,model):\n",
    "        \n",
    "        self.brand = brand\n",
    "        self.model = model\n",
    "        \n",
    "    def move(self):\n",
    "        \n",
    "        print(\"move\")\n",
    "        \n",
    "class car(vehicle):\n",
    "    \n",
    "    pass\n",
    "\n",
    "class plane(vehicle):\n",
    "    \n",
    "    def move(self):\n",
    "        \n",
    "        print(\"Fly\")\n",
    "        \n",
    "class boat(vehicle):\n",
    "    \n",
    "    def move(self):\n",
    "        \n",
    "        print(\"Sail\")\n",
    "        \n",
    "\n",
    "car1 = car(\"Ford\",\"V8\")\n",
    "plane1 = plane(\"Ibiza\",\"KQX\")\n",
    "boat1 = boat(\"boeying\",\"45 k\")\n",
    "\n",
    "for x in (car1,plane1,boat1):\n",
    "    \n",
    "    print(x.brand)\n",
    "    print(x.model)\n",
    "    x.move()"
   ]
  },
  {
   "cell_type": "code",
   "execution_count": 17,
   "id": "f569b0cb",
   "metadata": {},
   "outputs": [
    {
     "name": "stdout",
     "output_type": "stream",
     "text": [
      "450\n"
     ]
    }
   ],
   "source": [
    "#PYTHON SCOPE\n",
    "#A variable is only available from inside the region it is created. This is called scope.\n",
    "#LOCAL SCOPE\n",
    "#A variable created inside a function belongs to the local scope of that function, and can only be used inside that function.\n",
    "\n",
    "def myfunc():\n",
    "    \n",
    "    x = 450\n",
    "    \n",
    "    print(x)\n",
    "    \n",
    "myfunc()\n"
   ]
  },
  {
   "cell_type": "code",
   "execution_count": 18,
   "id": "6202f00b",
   "metadata": {},
   "outputs": [
    {
     "name": "stdout",
     "output_type": "stream",
     "text": [
      "300\n"
     ]
    }
   ],
   "source": [
    "#GLOBAL VARIABLE\n",
    "#A variable created in the main body of the Python code is a global variable and belongs to the global scope.\n",
    "#Global variables are available from within any scope, global and local.\n",
    "\n",
    "x = 300\n",
    "\n",
    "def myfunc():\n",
    "    \n",
    "    print(x)\n",
    "    \n",
    "myfunc()"
   ]
  },
  {
   "cell_type": "code",
   "execution_count": 19,
   "id": "04afc499",
   "metadata": {},
   "outputs": [
    {
     "name": "stdout",
     "output_type": "stream",
     "text": [
      "200\n",
      "300\n"
     ]
    }
   ],
   "source": [
    "#NAMING VARIABLE\n",
    "#If you operate with the same variable name inside and outside of a function, \n",
    "#Python will treat them as two separate variables, one available in the global scope (outside the function) \n",
    "#and one available in the local scope (inside the function):\n",
    "\n",
    "x = 300\n",
    "\n",
    "def myfunc():\n",
    "    \n",
    "    x = 200\n",
    "    \n",
    "    print(x)\n",
    "    \n",
    "myfunc()\n",
    "\n",
    "print(x)"
   ]
  },
  {
   "cell_type": "code",
   "execution_count": 21,
   "id": "0b94b13e",
   "metadata": {},
   "outputs": [
    {
     "name": "stdout",
     "output_type": "stream",
     "text": [
      "300\n"
     ]
    }
   ],
   "source": [
    "#GLOBAL KEYWORD\n",
    "#If you need to create a global variable, but are stuck in the local scope, you can use the global keyword\n",
    "#Global keyword make the variable local\n",
    "\n",
    "def myfun():\n",
    "    \n",
    "    global x\n",
    "    \n",
    "    x = 300\n",
    "    \n",
    "    print(x)\n",
    "    \n",
    "myfun()"
   ]
  },
  {
   "cell_type": "code",
   "execution_count": 22,
   "id": "b2cdc0dd",
   "metadata": {},
   "outputs": [
    {
     "name": "stdout",
     "output_type": "stream",
     "text": [
      "200\n",
      "200\n"
     ]
    }
   ],
   "source": [
    "#Also, use the global keyword if you want to make a change to a global variable inside a function\n",
    "\n",
    "x = 300\n",
    "\n",
    "def myfunc():\n",
    "    \n",
    "    global x\n",
    "    \n",
    "    x = 200\n",
    "    \n",
    "    print(x)\n",
    "    \n",
    "myfunc()\n",
    "\n",
    "print(x)"
   ]
  },
  {
   "cell_type": "code",
   "execution_count": 23,
   "id": "700d700e",
   "metadata": {},
   "outputs": [
    {
     "name": "stdout",
     "output_type": "stream",
     "text": [
      "Hello  Jonathan\n"
     ]
    }
   ],
   "source": [
    "#PYTHON MODULES\n",
    "#Consider a module to be the same as a code library.\n",
    "#A file containing a set of functions you want to include in your application.\n",
    "\n",
    "import mymodule\n",
    "\n",
    "mymodule.greeting(\"Jonathan\")"
   ]
  },
  {
   "cell_type": "code",
   "execution_count": 29,
   "id": "7cc3750b",
   "metadata": {},
   "outputs": [
    {
     "name": "stdout",
     "output_type": "stream",
     "text": [
      "I am 36 years old\n"
     ]
    }
   ],
   "source": [
    "#VARIABLES IN MODULE\n",
    "import mymodule1\n",
    "\n",
    "a = mymodule1.person1[\"Age\"]\n",
    "\n",
    "print(\"I am\", a, \"years old\")"
   ]
  },
  {
   "cell_type": "code",
   "execution_count": null,
   "id": "4aeb5267",
   "metadata": {},
   "outputs": [],
   "source": []
  }
 ],
 "metadata": {
  "kernelspec": {
   "display_name": "Python 3 (ipykernel)",
   "language": "python",
   "name": "python3"
  },
  "language_info": {
   "codemirror_mode": {
    "name": "ipython",
    "version": 3
   },
   "file_extension": ".py",
   "mimetype": "text/x-python",
   "name": "python",
   "nbconvert_exporter": "python",
   "pygments_lexer": "ipython3",
   "version": "3.11.5"
  }
 },
 "nbformat": 4,
 "nbformat_minor": 5
}
