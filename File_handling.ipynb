{
 "cells": [
  {
   "cell_type": "code",
   "execution_count": 7,
   "id": "402c466b",
   "metadata": {},
   "outputs": [],
   "source": [
    "#FILE OPEN\n",
    "#The key function for working with files is open()\n",
    "#files takes two parameter i.e filename, mode\n",
    "#there are four modes in python write \"w\", read \"r\", append \"a\" and create \"x\"\n",
    "\n",
    "f = open(\"mymodule3.py\", \"r\")"
   ]
  },
  {
   "cell_type": "code",
   "execution_count": 8,
   "id": "6f39bc22",
   "metadata": {},
   "outputs": [
    {
     "name": "stdout",
     "output_type": "stream",
     "text": [
      "Hello everyone \n",
      "welcome to data science\n",
      "trainee program\n",
      "initiated by \n",
      "Kenya national bureau statics.\n",
      "we will equip you will necessity skills\n",
      "which will keep you in market.\n",
      "\n"
     ]
    }
   ],
   "source": [
    "#opening file from the server\n",
    "\n",
    "f = open(\"demofile.txt\",\"r\")\n",
    "\n",
    "print(f.read())"
   ]
  },
  {
   "cell_type": "code",
   "execution_count": null,
   "id": "01c03911",
   "metadata": {},
   "outputs": [],
   "source": []
  }
 ],
 "metadata": {
  "kernelspec": {
   "display_name": "Python 3 (ipykernel)",
   "language": "python",
   "name": "python3"
  },
  "language_info": {
   "codemirror_mode": {
    "name": "ipython",
    "version": 3
   },
   "file_extension": ".py",
   "mimetype": "text/x-python",
   "name": "python",
   "nbconvert_exporter": "python",
   "pygments_lexer": "ipython3",
   "version": "3.11.5"
  }
 },
 "nbformat": 4,
 "nbformat_minor": 5
}
