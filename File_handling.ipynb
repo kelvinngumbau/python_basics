{
 "cells": [
  {
   "cell_type": "code",
   "execution_count": 7,
   "id": "ef24a781",
   "metadata": {},
   "outputs": [],
   "source": [
    "#FILE OPEN\n",
    "#The key function for working with files is open()\n",
    "#files takes two parameter i.e filename, mode\n",
    "#there are four modes in python write \"w\", read \"r\", append \"a\" and create \"x\"\n",
    "\n",
    "f = open(\"mymodule3.py\", \"r\")"
   ]
  },
  {
   "cell_type": "code",
   "execution_count": 8,
   "id": "4441c3c6",
   "metadata": {},
   "outputs": [
    {
     "name": "stdout",
     "output_type": "stream",
     "text": [
      "Hello everyone \n",
      "welcome to data science\n",
      "trainee program\n",
      "initiated by \n",
      "Kenya national bureau statics.\n",
      "we will equip you will necessity skills\n",
      "which will keep you in market.\n",
      "\n"
     ]
    }
   ],
   "source": [
    "#opening file from the server\n",
    "\n",
    "f = open(\"demofile.txt\",\"r\")\n",
    "\n",
    "print(f.read())"
   ]
  },
  {
   "cell_type": "code",
   "execution_count": 9,
   "id": "597a3c67",
   "metadata": {},
   "outputs": [
    {
     "name": "stdout",
     "output_type": "stream",
     "text": [
      "Hello ever\n"
     ]
    }
   ],
   "source": [
    "#READ ONLY PARTS OF THE FILE\n",
    "#you can select number of characters you want to read\n",
    "\n",
    "f = open(\"demofile.txt\",\"r\")\n",
    "\n",
    "print(f.read(10))"
   ]
  },
  {
   "cell_type": "code",
   "execution_count": 12,
   "id": "c9d768c0",
   "metadata": {},
   "outputs": [
    {
     "name": "stdout",
     "output_type": "stream",
     "text": [
      "Hello everyone \n",
      "\n"
     ]
    }
   ],
   "source": [
    "#READ LINE\n",
    "#read one line of the file\n",
    "\n",
    "f = open(\"demofile.txt\",\"r\")\n",
    "\n",
    "print(f.readline())"
   ]
  },
  {
   "cell_type": "code",
   "execution_count": 13,
   "id": "39b556f6",
   "metadata": {},
   "outputs": [
    {
     "name": "stdout",
     "output_type": "stream",
     "text": [
      "welcome to data science\n",
      "\n",
      "trainee program\n",
      "\n"
     ]
    }
   ],
   "source": [
    "#by calling line two times\n",
    "#you can read the first two lines of the file\n",
    "\n",
    "print(f.readline())\n",
    "print(f.readline())"
   ]
  },
  {
   "cell_type": "code",
   "execution_count": 14,
   "id": "74d825bc",
   "metadata": {},
   "outputs": [
    {
     "name": "stdout",
     "output_type": "stream",
     "text": [
      "def Greeting():\n",
      "\n",
      "    \n",
      "\n",
      "    print(\"hello \", name)\n",
      "\n",
      "    \n",
      "\n",
      "person1 = {\n",
      "\n",
      "    \"name\": \"john\",\n",
      "\n",
      "    \"Age\" : 35,\n",
      "\n",
      "    \"sex\": \"male\"\n",
      "\n",
      "}\n"
     ]
    }
   ],
   "source": [
    "#by looping through the lines of the file, you can read line by line of a file\n",
    "\n",
    "f = open(\"mymodule3.py\",\"r\")\n",
    "\n",
    "for x in f:\n",
    "    \n",
    "    print(x)"
   ]
  },
  {
   "cell_type": "code",
   "execution_count": null,
   "id": "10976ba9",
   "metadata": {},
   "outputs": [],
   "source": []
  }
 ],
 "metadata": {
  "kernelspec": {
   "display_name": "Python 3 (ipykernel)",
   "language": "python",
   "name": "python3"
  },
  "language_info": {
   "codemirror_mode": {
    "name": "ipython",
    "version": 3
   },
   "file_extension": ".py",
   "mimetype": "text/x-python",
   "name": "python",
   "nbconvert_exporter": "python",
   "pygments_lexer": "ipython3",
   "version": "3.11.5"
  }
 },
 "nbformat": 4,
 "nbformat_minor": 5
}
