{
 "cells": [
  {
   "cell_type": "code",
   "execution_count": 7,
   "id": "befe1b77",
   "metadata": {},
   "outputs": [],
   "source": [
    "#FILE OPEN\n",
    "#The key function for working with files is open()\n",
    "#files takes two parameter i.e filename, mode\n",
    "#there are four modes in python write \"w\", read \"r\", append \"a\" and create \"x\"\n",
    "\n",
    "f = open(\"mymodule3.py\", \"r\")"
   ]
  },
  {
   "cell_type": "code",
   "execution_count": 8,
   "id": "86a671e0",
   "metadata": {},
   "outputs": [
    {
     "name": "stdout",
     "output_type": "stream",
     "text": [
      "Hello everyone \n",
      "welcome to data science\n",
      "trainee program\n",
      "initiated by \n",
      "Kenya national bureau statics.\n",
      "we will equip you will necessity skills\n",
      "which will keep you in market.\n",
      "\n"
     ]
    }
   ],
   "source": [
    "#opening file from the server\n",
    "\n",
    "f = open(\"demofile.txt\",\"r\")\n",
    "\n",
    "print(f.read())"
   ]
  },
  {
   "cell_type": "code",
   "execution_count": 9,
   "id": "26d3e789",
   "metadata": {},
   "outputs": [
    {
     "name": "stdout",
     "output_type": "stream",
     "text": [
      "Hello ever\n"
     ]
    }
   ],
   "source": [
    "#READ ONLY PARTS OF THE FILE\n",
    "#you can select number of characters you want to read\n",
    "\n",
    "f = open(\"demofile.txt\",\"r\")\n",
    "\n",
    "print(f.read(10))"
   ]
  },
  {
   "cell_type": "code",
   "execution_count": 12,
   "id": "ff3883c6",
   "metadata": {},
   "outputs": [
    {
     "name": "stdout",
     "output_type": "stream",
     "text": [
      "Hello everyone \n",
      "\n"
     ]
    }
   ],
   "source": [
    "#READ LINE\n",
    "#read one line of the file\n",
    "\n",
    "f = open(\"demofile.txt\",\"r\")\n",
    "\n",
    "print(f.readline())"
   ]
  },
  {
   "cell_type": "code",
   "execution_count": 13,
   "id": "b1516d9b",
   "metadata": {},
   "outputs": [
    {
     "name": "stdout",
     "output_type": "stream",
     "text": [
      "welcome to data science\n",
      "\n",
      "trainee program\n",
      "\n"
     ]
    }
   ],
   "source": [
    "#by calling line two times\n",
    "#you can read the first two lines of the file\n",
    "\n",
    "print(f.readline())\n",
    "print(f.readline())"
   ]
  },
  {
   "cell_type": "code",
   "execution_count": 14,
   "id": "cc8a90dd",
   "metadata": {},
   "outputs": [
    {
     "name": "stdout",
     "output_type": "stream",
     "text": [
      "def Greeting():\n",
      "\n",
      "    \n",
      "\n",
      "    print(\"hello \", name)\n",
      "\n",
      "    \n",
      "\n",
      "person1 = {\n",
      "\n",
      "    \"name\": \"john\",\n",
      "\n",
      "    \"Age\" : 35,\n",
      "\n",
      "    \"sex\": \"male\"\n",
      "\n",
      "}\n"
     ]
    }
   ],
   "source": [
    "#by looping through the lines of the file, you can read line by line of a file\n",
    "\n",
    "f = open(\"mymodule3.py\",\"r\")\n",
    "\n",
    "for x in f:\n",
    "    \n",
    "    print(x)"
   ]
  },
  {
   "cell_type": "code",
   "execution_count": 15,
   "id": "1e873ec2",
   "metadata": {},
   "outputs": [],
   "source": [
    "#CLOSE FILES\n",
    "#it is a good practise to close a file when you are done with it\n",
    "\n",
    "f.close()"
   ]
  },
  {
   "cell_type": "code",
   "execution_count": 21,
   "id": "d3df0772",
   "metadata": {},
   "outputs": [
    {
     "name": "stdout",
     "output_type": "stream",
     "text": [
      "GOOD EVENING MY FELLOW PROGRAMMERS\n",
      "WE ARE HERE FOR A TECH EVENT\n",
      "AND WE SHALL BE TALKING ABOUT \n",
      "AI IN WORLD TODAY Feel free to ask anythingFeel free to ask anything\n",
      "Feel free to ask anything\n",
      "Feel free to ask anything\n"
     ]
    }
   ],
   "source": [
    "#PYTHON WRITE\n",
    "#\"a\" - Append - will append to the end of the file\n",
    "#\"w\" - Write - will overwrite any existing content\n",
    "\n",
    "f = open(\"demofile2.txt\",\"a\")\n",
    "f.write(\"\\nFeel free to ask anything\")\n",
    "f.close()\n",
    "\n",
    "#reading the content of the new appended file\n",
    "f = open(\"demofile2.txt\",\"r\")\n",
    "print(f.read())"
   ]
  },
  {
   "cell_type": "code",
   "execution_count": 24,
   "id": "647a28b7",
   "metadata": {},
   "outputs": [
    {
     "name": "stdout",
     "output_type": "stream",
     "text": [
      "HELLO EVERYONE TODAY IS A BIG DAY TO TALK ABOUT \n",
      "CONTRIBUTION OF AI INTO TODAYS WORLD\n"
     ]
    }
   ],
   "source": [
    "#now we can then use \"w\" to overwrite everything inside demofile2.txt file\n",
    "\n",
    "f = open(\"demofile2.txt\",\"w\")\n",
    "f.write(\"HELLO EVERYONE TODAY IS A BIG DAY TO TALK ABOUT \\nCONTRIBUTION OF AI INTO TODAYS WORLD\")\n",
    "f.close()\n",
    "\n",
    "#reading the content of the demofile2.txt\n",
    "\n",
    "f = open(\"demofile2.txt\",\"r\")\n",
    "\n",
    "print(f.read())"
   ]
  },
  {
   "cell_type": "code",
   "execution_count": 28,
   "id": "dc5dc1b3",
   "metadata": {},
   "outputs": [],
   "source": [
    "#CREATE A NEW FILE\n",
    "#\"x\" - Create - will create a file, returns an error if the file exist\n",
    "#\"a\" - Append - will create a file if the specified file does not exist\n",
    "#\"w\" - Write - will create a file if the specified file does not exist\n",
    "\n",
    "f = open(\"myfile.txt\",\"x\")\n",
    "f.close()"
   ]
  },
  {
   "cell_type": "code",
   "execution_count": 29,
   "id": "6fb78e6f",
   "metadata": {},
   "outputs": [],
   "source": [
    "#PYTHON DELETE FILES\n",
    "#delete file\n",
    "#to delete a file, you must import os module and run its os.remove() function\n",
    "\n",
    "import os\n",
    "\n",
    "os.remove(\"myfile1.txt\")\n",
    "\n"
   ]
  },
  {
   "cell_type": "code",
   "execution_count": 31,
   "id": "7c3a2dba",
   "metadata": {},
   "outputs": [
    {
     "name": "stdout",
     "output_type": "stream",
     "text": [
      "file does not exist\n"
     ]
    }
   ],
   "source": [
    "#check if a file exists to avoid an error\n",
    "\n",
    "import os\n",
    "\n",
    "if os.path.exists(\"myfile1.txt\"):\n",
    "    \n",
    "    os.remove(\"myfile1.txt\")\n",
    "    \n",
    "else:\n",
    "    \n",
    "    print(\"file does not exist\")"
   ]
  },
  {
   "cell_type": "code",
   "execution_count": null,
   "id": "5460bdb4",
   "metadata": {},
   "outputs": [],
   "source": [
    "#DELETE A FOLDER\n",
    "#to delete an entire folder use rmdir()\n",
    "\n",
    "import os\n",
    "\n",
    "os.rmdir(\"myfolder\")"
   ]
  },
  {
   "cell_type": "code",
   "execution_count": null,
   "id": "2ec4efdb",
   "metadata": {},
   "outputs": [],
   "source": []
  }
 ],
 "metadata": {
  "kernelspec": {
   "display_name": "Python 3 (ipykernel)",
   "language": "python",
   "name": "python3"
  },
  "language_info": {
   "codemirror_mode": {
    "name": "ipython",
    "version": 3
   },
   "file_extension": ".py",
   "mimetype": "text/x-python",
   "name": "python",
   "nbconvert_exporter": "python",
   "pygments_lexer": "ipython3",
   "version": "3.11.5"
  }
 },
 "nbformat": 4,
 "nbformat_minor": 5
}
